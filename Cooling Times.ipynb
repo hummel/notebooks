{
 "cells": [
  {
   "cell_type": "code",
   "execution_count": null,
   "metadata": {
    "collapsed": false
   },
   "outputs": [],
   "source": [
    "%matplotlib inline\n",
    "import os\n",
    "import numpy as np\n",
    "import pandas as pd\n",
    "import matplotlib as mpl\n",
    "from matplotlib import pyplot as plt\n",
    "mpl.rc('figure', figsize=(16,12))\n",
    "mpl.rc('font', size=20.)\n",
    "mpl.rc('font', family='serif')\n",
    "mpl.rc('text', usetex=True)"
   ]
  },
  {
   "cell_type": "code",
   "execution_count": null,
   "metadata": {
    "collapsed": false
   },
   "outputs": [],
   "source": [
    "yr = 3600 * 24 * 365.25\n",
    "gs = 500\n",
    "s = 1\n",
    "cool = plt.cm.Blues_r\n",
    "warm = plt.cm.autumn"
   ]
  },
  {
   "cell_type": "code",
   "execution_count": null,
   "metadata": {
    "collapsed": false
   },
   "outputs": [],
   "source": [
    "simname = {'vanilla':r'$u_{\\rm \\tiny CR} = 0$',\n",
    "        'cr00': r'$u_{\\rm \\tiny CR} = u_0$', \n",
    "        'cr01': r'$u_{\\rm \\tiny CR} = 10 u_0$', \n",
    "        'cr02': r'$u_{\\rm \\tiny CR} = 10^2 u_0$', \n",
    "        'cr03': r'$u_{\\rm \\tiny CR} = 10^3 u_0$', \n",
    "        'cr04': r'$u_{\\rm \\tiny CR} = 10^4 u_0$',\n",
    "        'cr05': r'$u_{\\rm \\tiny CR} = 10^5 u_0$'}"
   ]
  },
  {
   "cell_type": "code",
   "execution_count": null,
   "metadata": {
    "collapsed": false
   },
   "outputs": [],
   "source": [
    "sims = ['vanilla', 'cr00', 'cr01', 'cr02', 'cr03', 'cr04', 'cr05']\n",
    "snaps = [355, 310, 327, 318, 249, 213, 176]\n",
    "cooltime = {}\n",
    "heattime = {}"
   ]
  },
  {
   "cell_type": "code",
   "execution_count": null,
   "metadata": {
    "collapsed": true
   },
   "outputs": [],
   "source": [
    "for sim, snap in zip(sims, snaps):\n",
    "    cooltime[sim] = pd.read_csv(os.getenv('HOME')+'/sim/chemistry/stampede/'+sim+'/cooltime_{:0>4}.dat'.format(snap),\n",
    "                                delim_whitespace=True, names=['a', 'id', 'n', 'temp', 'tchem'])\n",
    "    heattime[sim] = pd.read_csv(os.getenv('HOME')+'/sim/chemistry/stampede/'+sim+'/heattime_{:0>4}.dat'.format(snap),\n",
    "                                delim_whitespace=True, names=['a', 'id', 'n', 'temp', 'tchem'])"
   ]
  },
  {
   "cell_type": "code",
   "execution_count": null,
   "metadata": {
    "collapsed": false
   },
   "outputs": [],
   "source": [
    "f,axes = plt.subplots(3,2, sharex=True, sharey=True, figsize=(16,16))\n",
    "ndens = np.logspace(-3, 12, 100)\n",
    "rho = 1.6726e-24 * ndens\n",
    "tff = np.sqrt(3 / (32 * np.pi * 6.67e-8 * rho))\n",
    "\n",
    "for sim,ax in zip(sims[1:],f.axes):\n",
    "    ax.hexbin(cooltime['vanilla'].n.values[::s],cooltime['vanilla'].tchem.values[::s]/yr,\n",
    "              gridsize=gs, bins='log', xscale='log', yscale='log', mincnt=1, color='.75')\n",
    "    ax.hexbin(heattime['vanilla'].n.values[::s],heattime['vanilla'].tchem.values[::s]/yr,\n",
    "              gridsize=gs, bins='log', xscale='log', yscale='log', mincnt=1, color='.75')\n",
    "\n",
    "    ax.hexbin(cooltime[sim].n.values[::s],cooltime[sim].tchem.values[::s]/yr,\n",
    "              gridsize=gs, bins='log', xscale='log', yscale='log', mincnt=1, cmap=cool)\n",
    "    ax.hexbin(heattime[sim].n.values[::s],heattime[sim].tchem.values[::s]/yr,\n",
    "              gridsize=gs, bins='log', xscale='log', yscale='log', mincnt=1, cmap=warm)\n",
    "\n",
    "    ax.plot(ndens,tff/yr, 'k', lw=2.5, label='freefall time')\n",
    "    ax.text(.97,.95, simname[sim], ha='right', va='top', size=25, transform=ax.transAxes)\n",
    "ax.set_ylim(20,9e9)\n",
    "ax.set_xlim(2e-2,9e11)\n",
    "for ax in axes[:,0]:\n",
    "    ax.set_ylabel('Heating Time [yr]')\n",
    "for ax in axes[-1,:]:\n",
    "    ax.set_xlabel('Number Density [cm$^{-3}$]')\n",
    "\n",
    "f.tight_layout(w_pad=0.0,h_pad=0.0)\n",
    "f.savefig('figures/phase_diagrams/cooltime.png', bbox_inches='tight')"
   ]
  }
 ],
 "metadata": {
  "kernelspec": {
   "display_name": "Python 2",
   "language": "python",
   "name": "python2"
  },
  "language_info": {
   "codemirror_mode": {
    "name": "ipython",
    "version": 2
   },
   "file_extension": ".py",
   "mimetype": "text/x-python",
   "name": "python",
   "nbconvert_exporter": "python",
   "pygments_lexer": "ipython2",
   "version": "2.7.9"
  }
 },
 "nbformat": 4,
 "nbformat_minor": 0
}
