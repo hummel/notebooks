{
 "cells": [
  {
   "cell_type": "code",
   "execution_count": null,
   "metadata": {
    "collapsed": false
   },
   "outputs": [],
   "source": [
    "%matplotlib inline\n",
    "import os\n",
    "import numpy as np\n",
    "import pandas as pd\n",
    "import pyGadget\n",
    "import matplotlib as mpl\n",
    "from matplotlib import pyplot as plt"
   ]
  },
  {
   "cell_type": "raw",
   "metadata": {},
   "source": [
    "mpl.rc('figure', figsize=(12,9))\n",
    "mpl.rc('font', size=20.)\n",
    "mpl.rc('font', family='serif')\n",
    "mpl.rc('text', usetex=True)\n",
    "mpl.rc('axes', color_cycle=['k','b','g','r','k','b','g','r'])"
   ]
  },
  {
   "cell_type": "code",
   "execution_count": null,
   "metadata": {
    "collapsed": false
   },
   "outputs": [],
   "source": [
    "import seaborn as sns\n",
    "sns.set_context('poster')\n",
    "sns.set_style('white')"
   ]
  },
  {
   "cell_type": "markdown",
   "metadata": {},
   "source": [
    "# Sink Accretion History"
   ]
  },
  {
   "cell_type": "code",
   "execution_count": null,
   "metadata": {
    "collapsed": false
   },
   "outputs": [],
   "source": [
    "simname = {'vanilla':r'$u_{\\rm \\tiny CR} = 0$',\n",
    "        'cr00': r'$u_{\\rm \\tiny CR} = u_0$', \n",
    "        'cr01': r'$u_{\\rm \\tiny CR} = 10 u_0$', \n",
    "        'cr02': r'$u_{\\rm \\tiny CR} = 10^2 u_0$', \n",
    "        'cr03': r'$u_{\\rm \\tiny CR} = 10^3 u_0$', \n",
    "        'cr04': r'$u_{\\rm \\tiny CR} = 10^4 u_0$',\n",
    "        'cr05': r'$u_{\\rm \\tiny CR} = 10^5 u_0$'}\n",
    "name = ['vanilla', 'cr00', 'cr01', 'cr02', 'cr03', 'cr04', 'cr05']"
   ]
  },
  {
   "cell_type": "code",
   "execution_count": null,
   "metadata": {
    "collapsed": false
   },
   "outputs": [],
   "source": [
    "sinkdata = pd.HDFStore(os.getenv(\"HOME\")+'/data/stampede/sinkdata.hdf5')\n",
    "dataV = sinkdata['vanilla']\n",
    "data0 = sinkdata['cr00']\n",
    "data1 = sinkdata['cr01']\n",
    "data2 = sinkdata['cr02']\n",
    "data3 = sinkdata['cr03']\n",
    "data4 = sinkdata['cr04']\n",
    "data5 = sinkdata['cr05']\n",
    "sinkdata.close()"
   ]
  },
  {
   "cell_type": "code",
   "execution_count": null,
   "metadata": {
    "collapsed": false
   },
   "outputs": [],
   "source": [
    "sinksV = dataV.set_index('time')\n",
    "sinks0 = data0.set_index('time')\n",
    "sinks1 = data1.set_index('time')\n",
    "sinks2 = data2.set_index('time')\n",
    "sinks3 = data3.set_index('time')\n",
    "sinks4 = data4.set_index('time')\n",
    "sinks5 = data5.set_index('time')"
   ]
  },
  {
   "cell_type": "code",
   "execution_count": null,
   "metadata": {
    "collapsed": false
   },
   "outputs": [],
   "source": [
    "fig = plt.figure(2, figsize=(12,8))\n",
    "ax0 = fig.add_subplot(231)\n",
    "ax1 = fig.add_subplot(232)\n",
    "ax2 = fig.add_subplot(233)\n",
    "ax3 = fig.add_subplot(234)\n",
    "ax4 = fig.add_subplot(235)\n",
    "ax5 = fig.add_subplot(236)\n",
    "\n",
    "\n",
    "\n",
    "slw = 3\n",
    "sls = ['-', '--', '-.', ':']\n",
    "\n",
    "for i, (ax, sinkset) in enumerate([(ax0,sinks0), (ax1,sinks1), (ax2,sinks2), (ax3,sinks3), (ax4,sinks4), (ax5,sinks5)]):\n",
    "    for sinkID in sinksV.ID.unique():\n",
    "        growth = sinksV[sinksV.ID == sinkID]['mass']\n",
    "        ax = growth.plot(ax=ax, grid=False, lw=1, ls=':', color='grey')\n",
    "    for j,sinkID in enumerate(sinkset.ID.unique()):\n",
    "        growth = sinkset[sinkset.ID == sinkID]['mass']\n",
    "        ax = growth.plot(ax=ax, grid=False, lw=3, ls=sls[j/4])\n",
    "    ax.text(.03,.93, simname[name[i+1]], ha='left', va='top', size=20, transform=ax.transAxes)\n",
    "\n",
    "        \n",
    "\n",
    "ax0.xaxis.set_visible(False)\n",
    "ax1.xaxis.set_visible(False)\n",
    "ax2.xaxis.set_visible(False)\n",
    "ax1.yaxis.set_visible(False)\n",
    "ax2.yaxis.set_visible(False)\n",
    "ax4.yaxis.set_visible(False)\n",
    "ax5.yaxis.set_visible(False)\n",
    "\n",
    "\n",
    "for ax in fig.axes:\n",
    "    ax.set_xlim(0,5000)\n",
    "    ax.set_ylim(.5,45)\n",
    "ax0.set_yticks((5,10,15,20,25,30, 35, 40, 45))\n",
    "ax3.set_yticks((5,10,15,20,25, 30, 35, 40))\n",
    "ax3.set_xticks((0,1000,2000,3000,4000))\n",
    "ax4.set_xticks((1000,2000,3000,4000))\n",
    "ax5.set_xticks((1000,2000,3000,4000,5000))\n",
    "\n",
    "ax0.set_ylabel('Mass [$M_{\\odot}$]')\n",
    "ax3.set_ylabel('Mass [$M_{\\odot}$]')\n",
    "ax3.set_xlabel('Time [yr]')\n",
    "ax4.set_xlabel('Time [yr]')\n",
    "ax5.set_xlabel('Time [yr]')\n",
    "\n",
    "\n",
    "plt.tight_layout(w_pad=0.0,h_pad=0.0)\n",
    "fig.savefig('figures/sinks/sink_masses.png', bbox_inches='tight')\n",
    "plt.show()"
   ]
  },
  {
   "cell_type": "code",
   "execution_count": null,
   "metadata": {
    "collapsed": false
   },
   "outputs": [],
   "source": [
    "total_mass = []\n",
    "for i,data in enumerate([dataV, data0, data1, data2, data3, data4, data5]):\n",
    "    mtot = data[['time','mass']].groupby('time').sum()\n",
    "    mtot.rename(columns = {'mass':simname[name[i]]}, inplace=True)\n",
    "    total_mass.append(mtot)"
   ]
  },
  {
   "cell_type": "code",
   "execution_count": null,
   "metadata": {
    "collapsed": false
   },
   "outputs": [],
   "source": [
    "slw = 3\n",
    "sls = ['-', '--', '-.', ':']\n",
    "count = 0\n",
    "plt.figure()\n",
    "ax = plt.gca()\n",
    "total_mass[0].plot(ax=ax, grid=False, lw=5, ls='--', color='k')\n",
    "for i,mtot in enumerate(total_mass[1:]):\n",
    "    mtot.plot(ax=ax, grid=False, lw=slw)\n",
    "    \n",
    "    \n",
    "leg = plt.legend(loc=0)\n",
    "plt.xlim(0,5000)\n",
    "plt.ylim(0,80)\n",
    "\n",
    "plt.ylabel('Mass [$M_{\\odot}$]')\n",
    "plt.xlabel('Time [yr]')\n",
    "plt.title('Total Mass in Sinks')\n",
    "plt.savefig('figures/sinks/total_sink_mass.png', bbox_inches='tight')"
   ]
  },
  {
   "cell_type": "code",
   "execution_count": null,
   "metadata": {
    "collapsed": false
   },
   "outputs": [],
   "source": [
    "most_massive_sink = []\n",
    "for i,data in enumerate([dataV, data0, data1, data2, data3, data4, data5]):\n",
    "    mms = data[['time','mass']].groupby('time').max()\n",
    "    mms.rename(columns = {'mass':simname[name[i]]}, inplace=True)\n",
    "    most_massive_sink.append(mms)"
   ]
  },
  {
   "cell_type": "code",
   "execution_count": null,
   "metadata": {
    "collapsed": false
   },
   "outputs": [],
   "source": [
    "slw = 3\n",
    "count = 0\n",
    "plt.figure()\n",
    "ax = plt.gca()\n",
    "most_massive_sink[0].plot(ax=ax, grid=False, lw=5, ls='--', color='k')\n",
    "for i,mms in enumerate(most_massive_sink[1:]):\n",
    "    mms.plot(ax=ax, grid=False, lw=slw)\n",
    "    \n",
    "leg = plt.legend(loc=0)\n",
    "plt.xlim(0,5000)\n",
    "plt.ylim(0,45)\n",
    "\n",
    "plt.ylabel('Mass [$M_{\\odot}$]')\n",
    "plt.xlabel('Time [yr]')\n",
    "plt.title('Most Massive Sink')\n",
    "plt.savefig('figures/sinks/most_massive_sink.png', bbox_inches='tight')"
   ]
  }
 ],
 "metadata": {
  "kernelspec": {
   "display_name": "Python 2",
   "language": "python",
   "name": "python2"
  },
  "language_info": {
   "codemirror_mode": {
    "name": "ipython",
    "version": 2
   },
   "file_extension": ".py",
   "mimetype": "text/x-python",
   "name": "python",
   "nbconvert_exporter": "python",
   "pygments_lexer": "ipython2",
   "version": "2.7.9"
  }
 },
 "nbformat": 4,
 "nbformat_minor": 0
}
