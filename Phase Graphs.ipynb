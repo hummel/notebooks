{
 "cells": [
  {
   "cell_type": "markdown",
   "metadata": {},
   "source": [
    "# The First Stars: Formation under Cosmic Ray Feedback -- Phase Diagrams"
   ]
  },
  {
   "cell_type": "markdown",
   "metadata": {},
   "source": [
    "This notebook generates all simulation results figures for my current paper.  All simulations run on stampede.tacc.utexas.edu"
   ]
  },
  {
   "cell_type": "code",
   "execution_count": null,
   "metadata": {
    "collapsed": false
   },
   "outputs": [],
   "source": [
    "%matplotlib inline\n",
    "import os\n",
    "import numpy as np\n",
    "import pandas as pd\n",
    "import matplotlib as mpl\n",
    "from matplotlib import pyplot as plt\n",
    "#mpl.rc('font', size=20.)\n",
    "#mpl.rc('font', family='serif')\n",
    "#mpl.rc('text', usetex=True)\n",
    "import seaborn as sns\n",
    "import pyGadget"
   ]
  },
  {
   "cell_type": "code",
   "execution_count": null,
   "metadata": {
    "collapsed": false
   },
   "outputs": [],
   "source": [
    "sns.set_context('poster')\n",
    "mpl.rc('text', usetex=True)"
   ]
  },
  {
   "cell_type": "code",
   "execution_count": null,
   "metadata": {
    "collapsed": false
   },
   "outputs": [],
   "source": [
    "simV = pyGadget.sim.Simulation('stampede/no_bkg',length='pc')\n",
    "sim0 = pyGadget.sim.Simulation('stampede/cr00',length='pc')\n",
    "sim1 = pyGadget.sim.Simulation('stampede/cr01',length='pc')\n",
    "sim2 = pyGadget.sim.Simulation('stampede/cr02',length='pc')\n",
    "sim3 = pyGadget.sim.Simulation('stampede/cr03',length='pc')\n",
    "sim4 = pyGadget.sim.Simulation('stampede/cr04',length='pc')\n",
    "sim5 = pyGadget.sim.Simulation('stampede/cr05',length='pc')\n",
    "sims = [simV, sim0, sim1, sim2, sim3, sim4, sim5]"
   ]
  },
  {
   "cell_type": "code",
   "execution_count": null,
   "metadata": {
    "collapsed": false
   },
   "outputs": [],
   "source": [
    "simname = {'vanilla':r'$u_{\\rm \\tiny CR} = 0$',\n",
    "        'cr00': r'$u_{\\rm \\tiny CR} = u_0$', \n",
    "        'cr01': r'$u_{\\rm \\tiny CR} = 10 u_0$', \n",
    "        'cr02': r'$u_{\\rm \\tiny CR} = 10^2 u_0$', \n",
    "        'cr03': r'$u_{\\rm \\tiny CR} = 10^3 u_0$', \n",
    "        'cr04': r'$u_{\\rm \\tiny CR} = 10^4 u_0$',\n",
    "        'cr05': r'$u_{\\rm \\tiny CR} = 10^5 u_0$'}\n",
    "simlist = ['vanilla', 'cr02', 'cr03', 'cr04', 'cr05']\n",
    "nsnap = [355, 310, 327, 318, 249, 213, 176]"
   ]
  },
  {
   "cell_type": "code",
   "execution_count": null,
   "metadata": {
    "collapsed": false
   },
   "outputs": [],
   "source": [
    "snaps= {}\n",
    "for name, n, sim in zip(simlist, nsnap, sims):\n",
    "    snaps[name] = sim.load_snapshot(n, 'ndensity', 'temp', 'particleIDs', 'h2frac', 'HDfrac', 'electron_frac')"
   ]
  },
  {
   "cell_type": "code",
   "execution_count": null,
   "metadata": {
    "collapsed": false
   },
   "outputs": [],
   "source": [
    "snapdata = {}\n",
    "for sim in simlist:\n",
    "    snap = snaps[sim]\n",
    "    snapdata[sim] = pd.DataFrame(np.column_stack((snap.gas.particleIDs, snap.gas.ndensity, snap.gas.temp, snap.gas.h2frac, snap.gas.HDfrac, snap.gas.electron_frac)),\n",
    "                               index=snap.gas.particleIDs, columns=['ID', 'ndensity', 'temp', 'h2frac', 'HDfrac', 'efrac'])"
   ]
  },
  {
   "cell_type": "code",
   "execution_count": null,
   "metadata": {
    "collapsed": false
   },
   "outputs": [],
   "source": [
    "ars_temp = pd.read_csv(os.getenv(\"HOME\")+'/data/literature_data/Stacy_Bromm2007/f2_nocr.csv', names=['n', 'temp'])\n",
    "ars_temp_hiSF = pd.read_csv(os.getenv(\"HOME\")+'/data/literature_data/Stacy_Bromm2007/f2_1e6_high.csv', names=['n', 'temp'])\n",
    "ars_temp_loSF = pd.read_csv(os.getenv(\"HOME\")+'/data/literature_data/Stacy_Bromm2007/f2_1e6_low.csv', names=['n', 'temp'])\n",
    "ars_mbe = pd.read_csv(os.getenv(\"HOME\")+'/data/literature_data/Stacy_Bromm2007/f6_nocr.csv', names=['n', 'Mbe'])\n",
    "ars_mbe_hiSF = pd.read_csv(os.getenv(\"HOME\")+'/data/literature_data/Stacy_Bromm2007/f6_1e6_high.csv', names=['n', 'Mbe'])\n",
    "ars_mbe_loSF = pd.read_csv(os.getenv(\"HOME\")+'/data/literature_data/Stacy_Bromm2007/f6_1e6_low.csv', names=['n', 'Mbe'])\n",
    "for df in [ars_temp, ars_temp_hiSF, ars_temp_loSF]:\n",
    "    df['logn'] = np.log10(df.n)\n",
    "    df['logT'] = np.log10(df.temp)\n",
    "for df in [ars_mbe, ars_mbe_hiSF, ars_mbe_loSF]:\n",
    "    df['logn'] = np.log10(df.n)\n",
    "    df['logM'] = np.log10(df.Mbe)   "
   ]
  },
  {
   "cell_type": "code",
   "execution_count": null,
   "metadata": {
    "collapsed": false
   },
   "outputs": [],
   "source": [
    "average = {}\n",
    "bins = np.linspace(-4,12,100)\n",
    "for sim in simlist:\n",
    "    print sim\n",
    "    df = snapdata[sim]\n",
    "    df.sort('ndensity', inplace=True)\n",
    "    df['logn'] = np.log10(df.ndensity)\n",
    "    # calculate the Bonnor-Ebert mass\n",
    "    df['Mbe'] = 700 * (df.temp/200)**1.5 / np.sqrt(df.ndensity/1e4)\n",
    "    # bin the data\n",
    "    gb = df.groupby(pd.cut(df.logn, bins))\n",
    "    # take the average of all quantities for each bin\n",
    "    avg = gb.mean()\n",
    "    # Calculate total mass above a given density\n",
    "    avg['Mn'] = gb['ID'].count()[::-1].cumsum()[::-1] * 0.014770775438579679\n",
    "    avg['logT'] = np.log10(avg.temp)\n",
    "    avg['loge'] = np.log10(avg.efrac)\n",
    "    avg['logM'] = np.log10(avg.Mbe)\n",
    "    average[sim] = avg\n"
   ]
  },
  {
   "cell_type": "code",
   "execution_count": null,
   "metadata": {
    "collapsed": false
   },
   "outputs": [],
   "source": [
    "first_quartile = {}\n",
    "third_quartile = {}\n",
    "for sim in simlist:\n",
    "    print sim\n",
    "    df = snapdata[sim]\n",
    "    gb = df.groupby(pd.cut(df.logn, bins))\n",
    "    q1 = gb.quantile(q=.25)\n",
    "    first_quartile[sim] = q1\n",
    "    q1['logT'] = np.log10(q1.temp)\n",
    "    q1['loge'] = np.log10(q1.efrac)\n",
    "    q1['logM'] = np.log10(q1.Mbe)\n",
    "    q2 = gb.quantile(q=.75)\n",
    "    q2['logT'] = np.log10(q2.temp)\n",
    "    q2['loge'] = np.log10(q2.efrac)\n",
    "    q2['logM'] = np.log10(q2.Mbe)\n",
    "    third_quartile[sim] = q2"
   ]
  },
  {
   "cell_type": "code",
   "execution_count": null,
   "metadata": {
    "collapsed": false
   },
   "outputs": [],
   "source": [
    "current_palette = sns.color_palette()[::-1]\n",
    "sns.palplot(current_palette)"
   ]
  },
  {
   "cell_type": "code",
   "execution_count": null,
   "metadata": {
    "collapsed": false
   },
   "outputs": [],
   "source": [
    "current_palette = sns.color_palette()\n",
    "f,ax = plt.subplots()\n",
    "df = average['vanilla']\n",
    "ax.fill_between(df.logn, first_quartile['vanilla'].logT, third_quartile['vanilla'].logT, \n",
    "                edgecolor='none', facecolor='.25', alpha=0.3)\n",
    "ax.plot(df.logn, df.logT, color='.25', label=simname['vanilla'])\n",
    "for sim in simlist[1:]:\n",
    "    df = average[sim]\n",
    "    ax.plot(df.logn, df.logT, label=simname[sim])\n",
    "ax.fill_between(df.logn, first_quartile[sim].logT, third_quartile[sim].logT,\n",
    "                edgecolor='none', facecolor=current_palette[3], alpha=0.3)\n",
    "ax.plot(ars_temp.logn, ars_temp.logT, color='.25', ls='--', label=\"one-zone model\")\n",
    "ax.plot(ars_temp_hiSF.logn, ars_temp_hiSF.logT, color='.25', ls='-.', label=\"one-zone, high SF\")\n",
    "ax.plot(ars_temp_loSF.logn, ars_temp_loSF.logT, color='.25', ls=':', label=\"one-zone, low SF\")\n",
    "ax.legend(loc=0)\n",
    "ax.set_xlim(-1, 12)\n",
    "ax.set_ylim(1.75,3)\n",
    "ax.set_xlabel('Log n [cm$^{-3}$]')\n",
    "ax.set_ylabel('Log Temperature [K]')\n",
    "f.savefig('figures/phase_diagrams/stacy_temp.png', bbox_inches='tight')"
   ]
  },
  {
   "cell_type": "code",
   "execution_count": null,
   "metadata": {
    "collapsed": false
   },
   "outputs": [],
   "source": [
    "current_palette = sns.color_palette()\n",
    "f,ax = plt.subplots()\n",
    "df = average['vanilla']\n",
    "ax.fill_between(df.logn, first_quartile['vanilla'].logM, third_quartile['vanilla'].logM, \n",
    "                edgecolor='none', facecolor='.25', alpha=0.3)\n",
    "ax.plot(df.logn, df.logM, color='.25', label=simname['vanilla'])\n",
    "for sim in simlist[1:]:\n",
    "    df = average[sim]\n",
    "    ax.plot(df.logn, df.logM, label=simname[sim])\n",
    "ax.fill_between(df.logn, first_quartile[sim].logM, third_quartile[sim].logM,\n",
    "                edgecolor='none', facecolor=current_palette[3], alpha=0.3)\n",
    "ax.plot(ars_mbe.logn, ars_mbe.logM, color='.25', ls='--', label=\"one-zone model\")\n",
    "ax.plot(ars_mbe_hiSF.logn, ars_mbe_hiSF.logM, color='.25', ls='-.', label=\"one-zone, high SF\")\n",
    "ax.plot(ars_mbe_loSF.logn, ars_mbe_loSF.logM, color='.25', ls=':', label=\"one-zone, low SF\")\n",
    "ax.legend(loc=0)\n",
    "ax.set_xlim(-1, 12)\n",
    "ax.set_ylim(-.25,6)\n",
    "ax.set_xlabel('Log n [cm$^{-3}$]')\n",
    "ax.set_ylabel('Log M$_{BE}$ [M$_{\\odot}$]')\n",
    "f.savefig('figures/phase_diagrams/stacy_Mbe.png', bbox_inches='tight')"
   ]
  },
  {
   "cell_type": "code",
   "execution_count": null,
   "metadata": {
    "collapsed": false
   },
   "outputs": [],
   "source": [
    "thick=4; thin=2\n",
    "current_palette = sns.color_palette()\n",
    "with sns.color_palette(n_colors=4):\n",
    "    f,ax = plt.subplots()\n",
    "df = average['vanilla']\n",
    "ax.fill_between(df.ndensity, first_quartile['vanilla'].Mbe, third_quartile['vanilla'].Mbe, \n",
    "                edgecolor='none', facecolor='.25', alpha=0.2)\n",
    "ax.plot(df.ndensity, df.Mbe, color='.25', label=simname['vanilla'], ls='-', lw=thick)\n",
    "for sim in simlist[1:]:\n",
    "    df = average[sim]\n",
    "    ax.plot(df.ndensity, df.Mbe, label=simname[sim], ls='-', lw=thick)\n",
    "df = average['vanilla']\n",
    "ax.plot(df.ndensity, df.Mn, color='.25', ls='--', lw=thin)\n",
    "for sim in simlist[1:]:\n",
    "    df = average[sim]\n",
    "    ax.plot(df.ndensity, df.Mn, ls='--', lw=thin)\n",
    "ax.fill_between(df.ndensity, first_quartile[sim].Mbe, third_quartile[sim].Mbe,\n",
    "                edgecolor='none', facecolor=current_palette[3], alpha=0.2)\n",
    "ax.legend(loc=0)\n",
    "ax.set_xlim(1e3, 1e4)\n",
    "ax.set_ylim(7.5e2,2e3)\n",
    "#ax.set_xscale('log')\n",
    "#ax.set_yscale('log')\n",
    "ax.set_xlabel('Log n [cm$^{-3}$]')\n",
    "ax.set_ylabel('Log M$_{BE}$ [M$_{\\odot}$]')\n",
    "f.savefig('figures/phase_diagrams/Menc_Mbe.png', bbox_inches='tight')"
   ]
  },
  {
   "cell_type": "code",
   "execution_count": null,
   "metadata": {
    "collapsed": false
   },
   "outputs": [],
   "source": [
    "current_palette = sns.color_palette()[::-1]\n",
    "f,ax = plt.subplots()\n",
    "df = average['vanilla']\n",
    "#ax.fill_between(df.logn, first_quartile['vanilla'].loge, third_quartile['vanilla'].loge, \n",
    "#                edgecolor='none', facecolor='.25', alpha=0.3)\n",
    "ax.plot(df.logn, df.loge, color='.25', label=simname['vanilla'])\n",
    "for sim in simlist[1:]:\n",
    "    df = average[sim]\n",
    "#    ax.fill_between(df.logn, first_quartile[sim].loge, third_quartile[sim].loge,\n",
    "#                    edgecolor='none', facecolor=current_palette.pop(), alpha=0.3)\n",
    "    ax.plot(df.logn, df.loge, label=simname[sim])\n",
    "ax.legend(loc=0)\n",
    "ax.set_xlim(8,12)\n",
    "ax.set_ylim(-10,-8)\n",
    "ax.set_xlabel('Log n [cm$^{-3}$]')\n",
    "ax.set_ylabel('Log $f_{e^-}$')"
   ]
  },
  {
   "cell_type": "code",
   "execution_count": null,
   "metadata": {
    "collapsed": false
   },
   "outputs": [],
   "source": [
    "f,(ax0,ax1) = plt.subplots(2, sharex=True, figsize=(8,12))\n",
    "ax0.plot(average['vanilla'].logn, average['vanilla'].logT, color='.25', label=simname['vanilla'])\n",
    "for sim in simlist[1:]:\n",
    "    df = average[sim]\n",
    "    ax0.plot(df.logn, df.logT, label=simname[sim])\n",
    "ax0.legend(loc=0)\n",
    "ax0.set_ylabel('Log Temperature [K]')\n",
    "\n",
    "ax1.plot(average['vanilla'].logn, average['vanilla'].loge, color='.25', label=simname['vanilla'])\n",
    "for sim in simlist[1:]:\n",
    "    df = average[sim]\n",
    "    ax1.plot(df.logn, df.loge, label=simname[sim])\n",
    "#ax1.legend(loc=0)\n",
    "#ax1.set_xlim(8,12)\n",
    "#ax1.set_ylim(-10,-8)\n",
    "ax1.set_ylabel(\"Log free $e^-$ fraction\")\n",
    "ax1.set_xlabel(\"Log number density [cm$^{-3}$]\")\n",
    "f.subplots_adjust(hspace=0.02)\n",
    "f.savefig('figures/phase_diagrams/binned.png', bbox_inches='tight')"
   ]
  },
  {
   "cell_type": "code",
   "execution_count": null,
   "metadata": {
    "collapsed": true
   },
   "outputs": [],
   "source": []
  }
 ],
 "metadata": {
  "kernelspec": {
   "display_name": "Python 2",
   "language": "python",
   "name": "python2"
  },
  "language_info": {
   "codemirror_mode": {
    "name": "ipython",
    "version": 2
   },
   "file_extension": ".py",
   "mimetype": "text/x-python",
   "name": "python",
   "nbconvert_exporter": "python",
   "pygments_lexer": "ipython2",
   "version": "2.7.9"
  }
 },
 "nbformat": 4,
 "nbformat_minor": 0
}
