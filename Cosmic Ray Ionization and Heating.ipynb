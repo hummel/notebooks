{
 "metadata": {
  "name": "",
  "signature": "sha256:74a3b92c39eaa28d820c980a4e78e7b1b2b3206aaa805b301273e3b0bfba59b8"
 },
 "nbformat": 3,
 "nbformat_minor": 0,
 "worksheets": [
  {
   "cells": [
    {
     "cell_type": "heading",
     "level": 1,
     "metadata": {},
     "source": [
      "Cosmic Ray Ionization and Heating"
     ]
    },
    {
     "cell_type": "markdown",
     "metadata": {},
     "source": [
      "Following Stacy & Bromm (2007), we calculate the rates for ionization ($k_{\\rm \\small CR}$) and heating ($\\Gamma_{\\rm \\small CR}$) of neutral hydrogen by cosmic rays as follows:\n",
      "    $$\\Gamma_{\\rm \\small CR} = n_{\\rm \\small H} E_{\\rm \\small heat} k_{\\rm \\small CR}$$\n",
      "and\n",
      "    $$\n",
      "    k_{\\rm \\small CR} = \\frac{1.82\\times10^{-7}\\,{\\rm \\small eV\\,s}^{-1}}{50\\,{\\rm \\small eV}} \n",
      "    \\int_{\\epsilon_{\\rm min}}^{\\epsilon_{\\rm max}} f(\\epsilon) \\frac{dn_{\\rm \\tiny CR}}{d\\epsilon} d\\epsilon,\n",
      "    $$\n",
      "where\n",
      "    $$f(\\epsilon) = (1 + 0.0185 \\,{\\rm ln}\\beta )\\, \\frac{2 \\beta^2}{\\beta_0^3 + 2 \\beta^3}$$\n",
      "and\n",
      "    $$\\beta =  \\sqrt{1 - \\left( \\frac{\\epsilon}{m_{\\rm \\tiny H}c^2}+1 \\right)^{-2}},$$\n",
      "and the differential CR energy spectrum is given by\n",
      "    $$\\frac{dn_{\\rm \\tiny CR}}{d\\epsilon} = \\frac{u_{\\rm \\small CR} \\epsilon^{-2}}{{\\rm ln}\\,\\epsilon_{\\rm max}{\\large /}\\epsilon_{\\rm min}}.$$\n",
      "\n",
      "Here, $n_{\\rm \\small H}$ is the number density of hydrogen, $E_{\\rm \\small heat}$ is the energy deposited as heat in a neutral medium, $m_{\\rm \\small H}$ is the mass of hydrogen, $c$ is the speed of light, $\\beta = v/c,$ and $\\beta_0$ is the cutoff below which the interaction between CRs and the gas decreases sharply.\n",
      "\n",
      "**Note that we have assumed that the gas in question remains optically thin, such that attenuation of the incident CR flux is negligible.**"
     ]
    },
    {
     "cell_type": "code",
     "collapsed": false,
     "input": [
      "#First, define beta.\n",
      "def xbeta(epsilon):\n",
      "    mHc2 = 938272046 #rest energy of a proton in eV\n",
      "    return np.sqrt(1 - (epsilon/mHc2 + 1)**(-2))"
     ],
     "language": "python",
     "metadata": {},
     "outputs": [],
     "prompt_number": 1
    },
    {
     "cell_type": "code",
     "collapsed": false,
     "input": [
      "#Define f(epsilon).\n",
      "def f(epsilon):\n",
      "    B0 = 0.01\n",
      "    B = xbeta(epsilon)\n",
      "    return (1 + 0.0185 * np.log(B)) * 2*B**2 / (B0**3 + 2*B**3)"
     ],
     "language": "python",
     "metadata": {},
     "outputs": [],
     "prompt_number": 2
    },
    {
     "cell_type": "code",
     "collapsed": false,
     "input": [
      "#Define differential energy spectrum.\n",
      "def dnCR(epsilon, ucr, emin, emax):\n",
      "    return ucr / epsilon / epsilon / np.log(emax/emin)"
     ],
     "language": "python",
     "metadata": {},
     "outputs": [],
     "prompt_number": 3
    },
    {
     "cell_type": "code",
     "collapsed": false,
     "input": [
      "def integrand(epsilon, emin, emax):\n",
      "    return f(epsilon) / epsilon / epsilon / np.log(emax/emin)"
     ],
     "language": "python",
     "metadata": {},
     "outputs": [],
     "prompt_number": 4
    },
    {
     "cell_type": "heading",
     "level": 4,
     "metadata": {},
     "source": [
      "Check to see that what we get matches Athena's parameterization."
     ]
    },
    {
     "cell_type": "markdown",
     "metadata": {},
     "source": [
      "First, do the integral over epsilon, from $10^6$eV to $10^{15}$eV.  We have to do it by hand because scipy's built-in integration routines all use quadrature, which doesn't work for a power law over many orders of magnitude."
     ]
    },
    {
     "cell_type": "code",
     "collapsed": false,
     "input": [
      "%matplotlib inline\n",
      "import os\n",
      "import numpy as np\n",
      "from matplotlib import pyplot as plt\n",
      "import seaborn as sns"
     ],
     "language": "python",
     "metadata": {},
     "outputs": [],
     "prompt_number": 5
    },
    {
     "cell_type": "code",
     "collapsed": false,
     "input": [
      "sns.set_context('poster')"
     ],
     "language": "python",
     "metadata": {},
     "outputs": [],
     "prompt_number": 6
    },
    {
     "cell_type": "code",
     "collapsed": false,
     "input": [
      "emin = 1e6\n",
      "emax = 1e15\n",
      "n_steps = 1000\n",
      "integral = 0.0\n",
      "\n",
      "logmin = np.log10(emin)\n",
      "logmax = np.log10(emax)\n",
      "for i in xrange(n_steps):\n",
      "    epsilon = (logmax - logmin) / n_steps * (i + 0.5) + logmin\n",
      "    e_start = (logmax - logmin) / n_steps* (i) + logmin\n",
      "    e_stop = (logmax - logmin) / n_steps * (i + 1.0) + logmin\n",
      "    epsilon = 10**epsilon\n",
      "    e_start = 10**e_start\n",
      "    e_stop = 10**e_stop\n",
      "    De = e_stop - e_start\n",
      "    #print epsilon, f(epsilon), De, integrand(epsilon, emin, emax)\n",
      "    integral += integrand(epsilon, emin, emax) * De\n",
      "integral = integral * 1.82e-7 / 50\n",
      "print integral"
     ],
     "language": "python",
     "metadata": {},
     "outputs": [
      {
       "output_type": "stream",
       "stream": "stdout",
       "text": [
        "2.40709315428e-15\n"
       ]
      }
     ],
     "prompt_number": 7
    },
    {
     "cell_type": "markdown",
     "metadata": {},
     "source": [
      "Now, Athena's parameterization uses $U_{\\rm \\small CR} = 2\\times10^{-15} {\\rm erg\\,cm^{-3}}$, $E_{\\rm \\small heat} = 6{\\rm eV}$, and $n_{\\rm \\small H} = 1{\\rm cm^{-3}}.$"
     ]
    },
    {
     "cell_type": "code",
     "collapsed": false,
     "input": [
      "u_athena = 2e-15 * 6.24150934e11 # convert from erg to eV\n",
      "eHeat =  6 / 6.24150934e11\n",
      "ion_rate = u_athena * integral\n",
      "heat_rate = ion_rate * eHeat"
     ],
     "language": "python",
     "metadata": {},
     "outputs": [],
     "prompt_number": 8
    },
    {
     "cell_type": "markdown",
     "metadata": {},
     "source": [
      "Plugging those values in and making sure to correctly convert from erg to eV, we get the following for $k_{\\rm \\small CR}$ and $\\Gamma_{\\rm \\small CR}$:"
     ]
    },
    {
     "cell_type": "code",
     "collapsed": false,
     "input": [
      "print ion_rate"
     ],
     "language": "python",
     "metadata": {},
     "outputs": [
      {
       "output_type": "stream",
       "stream": "stdout",
       "text": [
        "3.00477888093e-18\n"
       ]
      }
     ],
     "prompt_number": 9
    },
    {
     "cell_type": "code",
     "collapsed": false,
     "input": [
      "print heat_rate"
     ],
     "language": "python",
     "metadata": {},
     "outputs": [
      {
       "output_type": "stream",
       "stream": "stdout",
       "text": [
        "2.88851178513e-29\n"
       ]
      }
     ],
     "prompt_number": 10
    },
    {
     "cell_type": "markdown",
     "metadata": {},
     "source": [
      "These values are off from Athena's parameterizations by about 2x.  I haven't figured out exactly what accounts for the discrepancy yet, but it's close enough to start a simulation."
     ]
    },
    {
     "cell_type": "heading",
     "level": 1,
     "metadata": {},
     "source": [
      "Complete H/He Ionization and Heating"
     ]
    },
    {
     "cell_type": "markdown",
     "metadata": {},
     "source": [
      "From Schlickeiser (2002; eq. 5.3.42), the full-blown prescription for the kinetic energy loss rate of a CR ion traveling through a neutral medium is given by\n",
      "$$\n",
      "-\\frac{{\\rm d}\\epsilon}{{\\rm d}t} = \n",
      "\\frac{3 c \\sigma_{\\rm \\tiny T} Z^2 (m_e c^2)}{4\\beta}\n",
      "\\sum_s n_s [B_s + B'(\\alpha Z / \\beta)],\n",
      "$$\n",
      "where (eq. 5.3.43)\n",
      "$$\n",
      "B_s = {\\rm ln} \\left[ \\frac{2m_e c^2 \\beta^2 Q_{\\rm \\small max}}{I_s^2 (1-\\beta^2)} \\right] - 2\\beta^2 - \\frac{2C_s}{z_s} - \\delta_s\n",
      "$$\n",
      "and (eq. 5.3.44)\n",
      "$$\n",
      "Q_{\\rm \\small max} \\simeq\n",
      "\\frac{2m_e c^2 \\beta^2 \\gamma^2} {1 + \\frac{2m_e \\epsilon}{m^2 c^2}}\n",
      "$$\n",
      "    \n",
      "+ $c \\equiv$ speed of light\n",
      "+ $\\alpha \\equiv$ fine structure constant\n",
      "+ $\\sigma_{\\rm \\tiny T} \\equiv$ Thompson cross-section\n",
      "+ $\\epsilon \\equiv$ cosmic ray energy\n",
      "+ $Z \\equiv$ cosmic ray charge\n",
      "+ $M \\equiv$ cosmic ray mass\n",
      "+ $m_p \\equiv$ proton mass\n",
      "+ $m_e \\equiv$ electron mass\n",
      "+ $n_s \\equiv$ number density of species $s$ in medium\n",
      "+ $z_s \\equiv$ charge of species $s$ \n",
      "+ $I_s \\equiv$ average of all ionization and excitation potentials of species $s$; $\\left[ I_{\\rm H} = 19{\\rm eV}, I_{\\rm He} = 44{\\rm ev} \\right]$\n",
      "+ $\\beta \\equiv$ cosmic ray velocity; $\\left[ \\beta = v/c = \\sqrt{1 - \\left( \\frac{\\epsilon}{M c^2}+1 \\right)^{-2}} \\right]$\n",
      "+ $\\gamma \\equiv$ cosmic ray Lorentz factor?\n",
      "\n",
      "\n",
      "**We will restrict ourselves to high-energy CR protons, in which case $Z=1$, $M=m_p$ and $B' \\rightarrow 0$.**"
     ]
    },
    {
     "cell_type": "markdown",
     "metadata": {},
     "source": [
      "For $\\epsilon \\leq 918 m_p c^2$, the asymptotic behavior of $Q_{\\rm \\small max}$ is given by\n",
      "$$\n",
      "Q_{\\rm \\small max} = 2 m_e (c \\beta \\gamma)^2\n",
      "$$\n",
      "\n",
      "According to Schlickeiser, using this approximation and $Z=1$, eq. 5.3.42 should reduce to\n",
      "$$\n",
      "-\\frac{{\\rm d}\\epsilon}{{\\rm d}t} = \n",
      "\\frac{3 c \\sigma_{\\rm \\tiny T}(m_e c^2)}{2}\n",
      "\\sum_s n_s \\left( {\\rm ln}\\frac{2m_e c^2}{I_s} + {\\rm ln}\\beta + \\frac{\\beta^4}{2} \\right)\n",
      "$$\n",
      "with \n",
      "$$\n",
      "-\\frac{{\\rm d}\\epsilon}{{\\rm d}t} = 1.82\\times10^{-7}[n_{\\rm HI} + 2 n_{\\rm H_2}] (1 + 0.0185 \\,{\\rm ln}\\beta )\\, \\frac{2 \\beta^2}{\\beta_0^3 + 2 \\beta^3}\n",
      "$$\n",
      "providing a useful interpolation formula (eq. 5.3.51).\n",
      "\n",
      "**_Let's test this._**"
     ]
    },
    {
     "cell_type": "code",
     "collapsed": false,
     "input": [
      "from __future__ import division\n",
      "from astropy import units as u\n",
      "from astropy import constants as const\n",
      "from scipy import constants as physical_constants\n",
      "import scipy as sp"
     ],
     "language": "python",
     "metadata": {},
     "outputs": [],
     "prompt_number": 11
    },
    {
     "cell_type": "code",
     "collapsed": false,
     "input": [
      "c = const.c.cgs\n",
      "c2 = c*c\n",
      "sigmaT = (physical_constants.value('Thomson cross section') * u.meter**2).to('cm2')\n",
      "me = const.m_e.cgs\n",
      "mp = const.m_p.cgs\n",
      "ee = me*c2\n",
      "ee = ee.to('eV')\n",
      "I_H = 19 * u.eV\n",
      "I_He = 44 * u.eV\n",
      "n_H = 1.14 / u.centimeter**3\n",
      "n_He = 0.00013 / u.centimeter**3"
     ],
     "language": "python",
     "metadata": {},
     "outputs": [],
     "prompt_number": 12
    },
    {
     "cell_type": "code",
     "collapsed": false,
     "input": [
      "#Re-define beta with units.\n",
      "def beta(epsilon):\n",
      "    mHc2 = 938272046*u.eV #rest energy of a proton in eV\n",
      "    return np.sqrt(1 - (epsilon/mHc2 + 1)**(-2))"
     ],
     "language": "python",
     "metadata": {},
     "outputs": [],
     "prompt_number": 13
    },
    {
     "cell_type": "code",
     "collapsed": false,
     "input": [
      "def part(ep, n, I):\n",
      "    return n * (np.log(2*ee/I) + np.log(beta(ep)) + 0.5*(beta(ep))**4)\n",
      "    \n",
      "def D1(epsilon):\n",
      "    tot = part(epsilon, n_H, I_H) + part(epsilon, n_He, I_He)\n",
      "    return 1.5 * c * sigmaT * ee * tot"
     ],
     "language": "python",
     "metadata": {},
     "outputs": [],
     "prompt_number": 14
    },
    {
     "cell_type": "code",
     "collapsed": false,
     "input": [
      "E = np.logspace(-3,12,100) * u.eV\n",
      "out1 = D1(E)\n",
      "out2 = 1.82e-7 * n_H.value * f(E.value)"
     ],
     "language": "python",
     "metadata": {},
     "outputs": [],
     "prompt_number": 15
    },
    {
     "cell_type": "code",
     "collapsed": false,
     "input": [
      "plt.loglog(E.value/1e6, out1.value)\n",
      "plt.loglog(E.value/1e6, out2)\n",
      "plt.xlabel('CR proton energy [MeV]')\n",
      "plt.ylabel('d$\\epsilon$/d$t$ [eV s$^{-1}$]')\n",
      "plt.xlim(1e-3, 1e6)\n",
      "plt.ylim(1e-9, 1e-3)"
     ],
     "language": "python",
     "metadata": {},
     "outputs": [
      {
       "metadata": {},
       "output_type": "pyout",
       "prompt_number": 16,
       "text": [
        "(1e-09, 0.001)"
       ]
      },
      {
       "metadata": {},
       "output_type": "display_data",
       "png": "[encoded data removed]",
       "text": [
        "<matplotlib.figure.Figure at 0x10a0b1510>"
       ]
      }
     ],
     "prompt_number": 16
    },
    {
     "cell_type": "markdown",
     "metadata": {},
     "source": [
      "*_Clearly that didn't work._* In retrospect it is now clear that the asymptotic behavior referred to does not cover the entire range we are interested in ($10^6$ to $10^{15}$ eV)."
     ]
    },
    {
     "cell_type": "heading",
     "level": 3,
     "metadata": {},
     "source": [
      "Using full prescription for $Q_{\\rm max}$:"
     ]
    },
    {
     "cell_type": "markdown",
     "metadata": {},
     "source": [
      "Going back to equations 5.3.42 - 5.3.44, we have\n",
      "$$\n",
      "-\\frac{{\\rm d}\\epsilon}{{\\rm d}t} = \n",
      "\\frac{3 c \\sigma_{\\rm \\tiny T} Z^2 (m_e c^2)}{4\\beta}\n",
      "\\sum_s n_s [B_s + B'(\\alpha Z / \\beta)],\n",
      "$$\n",
      "$$\n",
      "B_s = {\\rm ln} \\left[ \\frac{2m_e c^2 \\beta^2 Q_{\\rm \\small max}}{I_s^2 (1-\\beta^2)} \\right] - 2\\beta^2 - \\frac{2C_s}{z_s} - \\delta_s,\n",
      "$$\n",
      "and\n",
      "$$\n",
      "Q_{\\rm \\small max} = \n",
      "\\frac{\\epsilon + 2M c^2} {1 + \\frac{(M + m_e)^2 c^2}{2m_e \\epsilon}}\n",
      "$$"
     ]
    },
    {
     "cell_type": "markdown",
     "metadata": {},
     "source": [
      "As before, we can assume $Z=1$, $M=m_p$ and $B' \\rightarrow 0$.  In addition, following the implicit logic of eq. 5.3.50, we will assume $C_s \\rightarrow 0$ and $\\delta_s \\rightarrow 0$.  Using these assumptions, and noting that $m_p + m_e \\simeq m_p$,\n",
      "$$\n",
      "-\\frac{{\\rm d}\\epsilon}{{\\rm d}t} = \n",
      "\\frac{3 c \\sigma_{\\rm \\tiny T} Z^2 (m_e c^2)}{4\\beta}\n",
      "\\sum_s n_s B_s,\n",
      "$$\n",
      "$$\n",
      "B_s = {\\rm ln} \\left[ \\frac{2m_e c^2 \\beta^2 Q_{\\rm \\small max}}{I_s^2 (1-\\beta^2)} \\right] - 2\\beta^2,\n",
      "$$\n",
      "and\n",
      "$$\n",
      "Q_{\\rm \\small max} \\simeq\n",
      "\\frac{2m_e c^2 \\beta^2 \\gamma^2} {1 + \\frac{2m_e \\epsilon}{m_p^2 c^2}}\n",
      "$$"
     ]
    },
    {
     "cell_type": "code",
     "collapsed": false,
     "input": [
      "def gamma(ep):\n",
      "    return 1 / np.sqrt(1 - beta(ep)**2)\n",
      "\n",
      "def Bs(ep, I):\n",
      "    numerator = (2*ee * beta(ep)**2 * gamma(ep)**2)**2 \n",
      "    denominator = I*I * (1 + (2*me*ep)/(mp*c)**2)\n",
      "    return np.log(numerator/denominator) - 2*beta(ep)**2\n",
      "\n",
      "def Bprime(x):\n",
      "    digamma = sp.special.psi(1 + x.value*1j)\n",
      "    return .5 * (sp.special.psi(1) - digamma.real)\n",
      "    \n",
      "def fullD(epsilon):\n",
      "    sigma = n_H * Bs(epsilon, I_H) + n_He * Bs(epsilon, I_He)\n",
      "    return 0.75 * c * sigmaT * ee * sigma / beta(epsilon)"
     ],
     "language": "python",
     "metadata": {},
     "outputs": [],
     "prompt_number": 34
    },
    {
     "cell_type": "code",
     "collapsed": false,
     "input": [
      "sp.special.psi(1)"
     ],
     "language": "python",
     "metadata": {},
     "outputs": [
      {
       "metadata": {},
       "output_type": "pyout",
       "prompt_number": 35,
       "text": [
        "-0.57721566490153287"
       ]
      }
     ],
     "prompt_number": 35
    },
    {
     "cell_type": "code",
     "collapsed": false,
     "input": [
      "E = np.logspace(-3,12,100) * u.eV\n",
      "dEdt = fullD(E)\n",
      "asym = D1(E)\n",
      "interp = 1.82e-7 * n_H.value * f(E.value)"
     ],
     "language": "python",
     "metadata": {},
     "outputs": [],
     "prompt_number": 36
    },
    {
     "cell_type": "code",
     "collapsed": false,
     "input": [
      "schlickeiser = np.loadtxt(os.getenv('HOME')+'/data/otherPeoplesWork/Schlickeiser2002/data.csv', delimiter=',')"
     ],
     "language": "python",
     "metadata": {},
     "outputs": [],
     "prompt_number": 37
    },
    {
     "cell_type": "code",
     "collapsed": false,
     "input": [
      "plt.loglog(E.value/1e6, dEdt.value, lw=2, label='full solution')\n",
      "plt.loglog(E.value/1e6, asym.value, lw=2, label ='high-$\\epsilon$ asmptotic solution')\n",
      "plt.loglog(E.value/1e6, interp, lw=2, label='combined interpolation (Athena)')\n",
      "plt.loglog(schlickeiser[:,0], schlickeiser[:,1], 'k--', lw=3, label='Figure 5.15 from Schlickeiser')\n",
      "plt.xlabel('CR proton energy [MeV]')\n",
      "plt.ylabel('d$\\epsilon$/d$t$ [eV s$^{-1}$]')\n",
      "plt.xlim(1e-3, 1e6)\n",
      "plt.ylim(1e-9, 1e-3)\n",
      "plt.legend()\n",
      "plt.savefig('figures/dEdt.png', bbox_inches='tight')"
     ],
     "language": "python",
     "metadata": {},
     "outputs": [
      {
       "metadata": {},
       "output_type": "display_data",
       "png": "[encoded data removed]",
       "text": [
        "<matplotlib.figure.Figure at 0x10ad58290>"
       ]
      }
     ],
     "prompt_number": 39
    },
    {
     "cell_type": "heading",
     "level": 6,
     "metadata": {},
     "source": [
      "Still didn't quite work. "
     ]
    },
    {
     "cell_type": "markdown",
     "metadata": {},
     "source": [
      "I'm beginning to suspect that $C_s \\rightarrow 0$ and $\\delta_s \\rightarrow 0$ is not a valid assumption.\n",
      "But first, lets check the veracity of 5.3.44. Namely, let's check that \n",
      "$$\n",
      "Q_{\\rm \\small max} = \n",
      "\\frac{\\epsilon + 2M c^2} {1 + \\frac{(M + m_e)^2 c^2}{2m_e \\epsilon}}\n",
      " \\simeq\n",
      "\\frac{2m_e c^2 \\beta^2 \\gamma^2} {1 + \\frac{2m_e \\epsilon}{m_p^2 c^2}}.\n",
      "$$\n",
      "Again, we assume $M=m_p$:"
     ]
    },
    {
     "cell_type": "code",
     "collapsed": false,
     "input": [
      "def Qmax(epsilon):\n",
      "    numerator = epsilon + 2 * mp * c2\n",
      "    denominator = 1 + (mp + me)**2 * c2 / (2*me * epsilon)\n",
      "    return numerator / denominator\n",
      "\n",
      "def Qapprox(epsilon):\n",
      "    denom = 1 + (2 * me * epsilon / (mp * mp * c2))\n",
      "    return 2 * ee * beta(epsilon)**2 * gamma(epsilon)**2 / denom"
     ],
     "language": "python",
     "metadata": {},
     "outputs": []
    },
    {
     "cell_type": "code",
     "collapsed": false,
     "input": [
      "q1 = Qmax(E)\n",
      "q2 = Qapprox(E)\n",
      "\n",
      "plt.loglog(E.value/1e6, q1.value, 'k', lw=2, label='full Q')\n",
      "plt.loglog(E.value/1e6, q2.value, 'r--', lw=2, label='approximate Q')\n",
      "\n",
      "plt.legend(loc=0)"
     ],
     "language": "python",
     "metadata": {},
     "outputs": []
    },
    {
     "cell_type": "code",
     "collapsed": false,
     "input": [
      "plt.semilogx(E.value, q1.value/q2.value)\n",
      "plt.ylim(.99,1.01)"
     ],
     "language": "python",
     "metadata": {},
     "outputs": []
    },
    {
     "cell_type": "heading",
     "level": 1,
     "metadata": {},
     "source": [
      "A different approach: following Jasche, Ciardi & En$\\beta$lin (2007)"
     ]
    },
    {
     "cell_type": "markdown",
     "metadata": {},
     "source": [
      "The approach detailed in Schlickeiser (2002) is incomplete, referring the reader to Sternheimer (1952) for a complete explanation of the $C_s$ and $\\delta_s$ terms in equation 5.3.43.  Since Jasche provides a comprehensive description of their ionization and heating machinery, we'll follow them instead.  Unfortunately, this will require grokking a new set of notations..."
     ]
    },
    {
     "cell_type": "markdown",
     "metadata": {},
     "source": [
      "Jasche et al. describe things in terms of a dimensionless momentum, $p$.  This is given by $p=p_{\\rm \\tiny CR}/m_p c$, where $p_{\\rm \\tiny CR}$ is the particle's momentum.  However, I still want to have things described in terms of energy at the end of the day, so we'll take advantage of the fact that $p_{\\rm \\tiny CR} = m_p c \\beta \\gamma$ and $\\epsilon = m_p c^2 \\gamma$ to define $p$ in terms of epsilon: $$p = \\frac{\\beta \\epsilon}{m_p c^2}$$"
     ]
    },
    {
     "cell_type": "code",
     "collapsed": false,
     "input": [
      "def p(epsilon): \n",
      "    return beta(epsilon) * epsilon / mp / c2"
     ],
     "language": "python",
     "metadata": {},
     "outputs": []
    },
    {
     "cell_type": "markdown",
     "metadata": {},
     "source": [
      "We'll need to introduce some other new notation as well:\n",
      "\n",
      "+ e $ \\equiv$ charge of an electron\n",
      "+ "
     ]
    },
    {
     "cell_type": "code",
     "collapsed": false,
     "input": [],
     "language": "python",
     "metadata": {},
     "outputs": []
    }
   ],
   "metadata": {}
  }
 ]
}