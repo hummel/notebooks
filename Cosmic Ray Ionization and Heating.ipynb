{
 "cells": [
  {
   "cell_type": "markdown",
   "metadata": {},
   "source": [
    "# Cosmic Ray Ionization and Heating"
   ]
  },
  {
   "cell_type": "markdown",
   "metadata": {},
   "source": [
    "Following Stacy & Bromm (2007), we calculate the rates for ionization ($k_{\\rm \\small CR}$) and heating ($\\Gamma_{\\rm \\small CR}$) of neutral hydrogen by cosmic rays as follows:\n",
    "    $$\\Gamma_{\\rm \\small CR} = n_{\\rm \\small H} E_{\\rm \\small heat} k_{\\rm \\small CR}$$\n",
    "and\n",
    "    $$\n",
    "    k_{\\rm \\small CR} = \\frac{1.82\\times10^{-7}\\,{\\rm \\small eV\\,s}^{-1}}{50\\,{\\rm \\small eV}} \n",
    "    \\int_{\\epsilon_{\\rm min}}^{\\epsilon_{\\rm max}} f(\\epsilon) \\frac{dn_{\\rm \\tiny CR}}{d\\epsilon} d\\epsilon,\n",
    "    $$\n",
    "where\n",
    "    $$f(\\epsilon) = (1 + 0.0185 \\,{\\rm ln}\\beta )\\, \\frac{2 \\beta^2}{\\beta_0^3 + 2 \\beta^3}$$\n",
    "and\n",
    "    $$\\beta =  \\sqrt{1 - \\left( \\frac{\\epsilon}{m_{\\rm \\tiny H}c^2}+1 \\right)^{-2}},$$\n",
    "and the differential CR energy spectrum is given by\n",
    "    $$\\frac{dn_{\\rm \\tiny CR}}{d\\epsilon} = \\frac{u_{\\rm \\small CR} \\epsilon^{-2}}{{\\rm ln}\\,\\epsilon_{\\rm max}{\\large /}\\epsilon_{\\rm min}}.$$\n",
    "\n",
    "Here, $n_{\\rm \\small H}$ is the number density of hydrogen, $E_{\\rm \\small heat}$ is the energy deposited as heat in a neutral medium, $m_{\\rm \\small H}$ is the mass of hydrogen, $c$ is the speed of light, $\\beta = v/c,$ and $\\beta_0$ is the cutoff below which the interaction between CRs and the gas decreases sharply.\n",
    "\n",
    "**Note that we have assumed that the gas in question remains optically thin, such that attenuation of the incident CR flux is negligible.**"
   ]
  },
  {
   "cell_type": "code",
   "execution_count": null,
   "metadata": {
    "collapsed": false
   },
   "outputs": [],
   "source": [
    "#First, define beta.\n",
    "def xbeta(epsilon):\n",
    "    mHc2 = 938272046 #rest energy of a proton in eV\n",
    "    return np.sqrt(1 - (epsilon/mHc2 + 1)**(-2))"
   ]
  },
  {
   "cell_type": "code",
   "execution_count": null,
   "metadata": {
    "collapsed": false
   },
   "outputs": [],
   "source": [
    "#Define f(epsilon).\n",
    "def f(epsilon):\n",
    "    B0 = 0.01\n",
    "    B = xbeta(epsilon)\n",
    "    return (1 + 0.0185 * np.log(B)) * 2*B**2 / (B0**3 + 2*B**3)"
   ]
  },
  {
   "cell_type": "code",
   "execution_count": null,
   "metadata": {
    "collapsed": false
   },
   "outputs": [],
   "source": [
    "#Define differential energy spectrum.\n",
    "def dnCR(epsilon, ucr, emin, emax):\n",
    "    return ucr / epsilon / epsilon / np.log(emax/emin)"
   ]
  },
  {
   "cell_type": "code",
   "execution_count": null,
   "metadata": {
    "collapsed": false
   },
   "outputs": [],
   "source": [
    "def integrand(epsilon, emin, emax):\n",
    "    return f(epsilon) / epsilon / epsilon / np.log(emax/emin)"
   ]
  },
  {
   "cell_type": "markdown",
   "metadata": {},
   "source": [
    "#### Check to see that what we get matches Athena's parameterization."
   ]
  },
  {
   "cell_type": "markdown",
   "metadata": {},
   "source": [
    "First, do the integral over epsilon, from $10^6$eV to $10^{15}$eV.  We have to do it by hand because scipy's built-in integration routines all use quadrature, which doesn't work for a power law over many orders of magnitude."
   ]
  },
  {
   "cell_type": "code",
   "execution_count": null,
   "metadata": {
    "collapsed": false
   },
   "outputs": [],
   "source": [
    "%matplotlib inline\n",
    "import os\n",
    "import numpy as np\n",
    "from matplotlib import pyplot as plt\n",
    "import seaborn as sns"
   ]
  },
  {
   "cell_type": "code",
   "execution_count": null,
   "metadata": {
    "collapsed": false
   },
   "outputs": [],
   "source": [
    "sns.set_context('poster')"
   ]
  },
  {
   "cell_type": "code",
   "execution_count": null,
   "metadata": {
    "collapsed": false
   },
   "outputs": [],
   "source": [
    "emin = 1e6\n",
    "emax = 1e15\n",
    "n_steps = 1000\n",
    "integral = 0.0\n",
    "\n",
    "logmin = np.log10(emin)\n",
    "logmax = np.log10(emax)\n",
    "for i in xrange(n_steps):\n",
    "    epsilon = (logmax - logmin) / n_steps * (i + 0.5) + logmin\n",
    "    e_start = (logmax - logmin) / n_steps* (i) + logmin\n",
    "    e_stop = (logmax - logmin) / n_steps * (i + 1.0) + logmin\n",
    "    epsilon = 10**epsilon\n",
    "    e_start = 10**e_start\n",
    "    e_stop = 10**e_stop\n",
    "    De = e_stop - e_start\n",
    "    #print epsilon, f(epsilon), De, integrand(epsilon, emin, emax)\n",
    "    integral += integrand(epsilon, emin, emax) * De\n",
    "integral = integral * 1.82e-7 / 50\n",
    "print integral"
   ]
  },
  {
   "cell_type": "markdown",
   "metadata": {},
   "source": [
    "Now, Athena's parameterization uses $U_{\\rm \\small CR} = 2\\times10^{-15} {\\rm erg\\,cm^{-3}}$, $E_{\\rm \\small heat} = 6{\\rm eV}$, and $n_{\\rm \\small H} = 1{\\rm cm^{-3}}.$"
   ]
  },
  {
   "cell_type": "code",
   "execution_count": null,
   "metadata": {
    "collapsed": false
   },
   "outputs": [],
   "source": [
    "u_athena = 2e-15 * 6.24150934e11 # convert from erg to eV\n",
    "eHeat =  6 / 6.24150934e11\n",
    "ion_rate = u_athena * integral\n",
    "heat_rate = ion_rate * eHeat"
   ]
  },
  {
   "cell_type": "markdown",
   "metadata": {},
   "source": [
    "Plugging those values in and making sure to correctly convert from erg to eV, we get the following for $k_{\\rm \\small CR}$ and $\\Gamma_{\\rm \\small CR}$:"
   ]
  },
  {
   "cell_type": "code",
   "execution_count": null,
   "metadata": {
    "collapsed": false
   },
   "outputs": [],
   "source": [
    "print ion_rate"
   ]
  },
  {
   "cell_type": "code",
   "execution_count": null,
   "metadata": {
    "collapsed": false
   },
   "outputs": [],
   "source": [
    "print heat_rate"
   ]
  },
  {
   "cell_type": "markdown",
   "metadata": {},
   "source": [
    "These values are off from Athena's parameterizations by about 2x.  I haven't figured out exactly what accounts for the discrepancy yet, but it's close enough to start a simulation."
   ]
  },
  {
   "cell_type": "markdown",
   "metadata": {},
   "source": [
    "# Complete H/He Ionization and Heating"
   ]
  },
  {
   "cell_type": "markdown",
   "metadata": {},
   "source": [
    "From Schlickeiser (2002; eq. 5.3.42), the full-blown prescription for the kinetic energy loss rate of a CR ion traveling through a neutral medium is given by\n",
    "$$\n",
    "-\\frac{{\\rm d}\\epsilon}{{\\rm d}t} = \n",
    "\\frac{3 c \\sigma_{\\rm \\tiny T} Z^2 (m_e c^2)}{4\\beta}\n",
    "\\sum_s n_s [B_s + B'(\\alpha Z / \\beta)],\n",
    "$$\n",
    "where (eq. 5.3.43)\n",
    "$$\n",
    "B_s = {\\rm ln} \\left[ \\frac{2m_e c^2 \\beta^2 Q_{\\rm \\small max}}{I_s^2 (1-\\beta^2)} \\right] - 2\\beta^2 - \\frac{2C_s}{z_s} - \\delta_s\n",
    "$$\n",
    "and (eq. 5.3.44)\n",
    "$$\n",
    "Q_{\\rm \\small max} \\simeq\n",
    "\\frac{2m_e c^2 \\beta^2 \\gamma^2} {1 + \\frac{2m_e \\epsilon}{m^2 c^2}}\n",
    "$$\n",
    "    \n",
    "+ $c \\equiv$ speed of light\n",
    "+ $\\alpha \\equiv$ fine structure constant\n",
    "+ $\\sigma_{\\rm \\tiny T} \\equiv$ Thompson cross-section\n",
    "+ $\\epsilon \\equiv$ cosmic ray energy\n",
    "+ $Z \\equiv$ cosmic ray charge\n",
    "+ $M \\equiv$ cosmic ray mass\n",
    "+ $m_p \\equiv$ proton mass\n",
    "+ $m_e \\equiv$ electron mass\n",
    "+ $n_s \\equiv$ number density of species $s$ in medium\n",
    "+ $z_s \\equiv$ charge of species $s$ \n",
    "+ $I_s \\equiv$ average of all ionization and excitation potentials of species $s$; $\\left[ I_{\\rm H} = 19{\\rm eV}, I_{\\rm He} = 44{\\rm ev} \\right]$\n",
    "+ $\\beta \\equiv$ cosmic ray velocity; $\\left[ \\beta = v/c = \\sqrt{1 - \\left( \\frac{\\epsilon}{M c^2}+1 \\right)^{-2}} \\right]$\n",
    "+ $\\gamma \\equiv$ cosmic ray Lorentz factor?\n",
    "\n",
    "\n",
    "**We will restrict ourselves to high-energy CR protons, in which case $Z=1$, $M=m_p$ and $B' \\rightarrow 0$.**"
   ]
  },
  {
   "cell_type": "markdown",
   "metadata": {},
   "source": [
    "For $\\epsilon \\leq 918 m_p c^2$, the asymptotic behavior of $Q_{\\rm \\small max}$ is given by\n",
    "$$\n",
    "Q_{\\rm \\small max} = 2 m_e (c \\beta \\gamma)^2\n",
    "$$\n",
    "\n",
    "According to Schlickeiser, using this approximation and $Z=1$, eq. 5.3.42 should reduce to\n",
    "$$\n",
    "-\\frac{{\\rm d}\\epsilon}{{\\rm d}t} = \n",
    "\\frac{3 c \\sigma_{\\rm \\tiny T}(m_e c^2)}{2}\n",
    "\\sum_s n_s \\left( {\\rm ln}\\frac{2m_e c^2}{I_s} + {\\rm ln}\\beta + \\frac{\\beta^4}{2} \\right)\n",
    "$$\n",
    "with \n",
    "$$\n",
    "-\\frac{{\\rm d}\\epsilon}{{\\rm d}t} = 1.82\\times10^{-7}[n_{\\rm HI} + 2 n_{\\rm H_2}] (1 + 0.0185 \\,{\\rm ln}\\beta )\\, \\frac{2 \\beta^2}{\\beta_0^3 + 2 \\beta^3}\n",
    "$$\n",
    "providing a useful interpolation formula (eq. 5.3.51).\n",
    "\n",
    "**_Let's test this._**"
   ]
  },
  {
   "cell_type": "code",
   "execution_count": null,
   "metadata": {
    "collapsed": false
   },
   "outputs": [],
   "source": [
    "from __future__ import division\n",
    "from astropy import units as u\n",
    "from astropy import constants as const\n",
    "from scipy import constants as physical_constants\n",
    "import scipy as sp"
   ]
  },
  {
   "cell_type": "code",
   "execution_count": null,
   "metadata": {
    "collapsed": false
   },
   "outputs": [],
   "source": [
    "c = const.c.cgs\n",
    "c2 = c*c\n",
    "sigmaT = (physical_constants.value('Thomson cross section') * u.meter**2).to('cm2')\n",
    "me = const.m_e.cgs\n",
    "mp = const.m_p.cgs\n",
    "ee = me*c2\n",
    "ee = ee.to('eV')\n",
    "I_H = 19 * u.eV\n",
    "I_He = 44 * u.eV\n",
    "n_H = 1.14 / u.centimeter**3\n",
    "n_He = 0.00013 / u.centimeter**3"
   ]
  },
  {
   "cell_type": "code",
   "execution_count": null,
   "metadata": {
    "collapsed": false
   },
   "outputs": [],
   "source": [
    "#Re-define beta with units.\n",
    "def beta(epsilon):\n",
    "    mHc2 = 938272046*u.eV #rest energy of a proton in eV\n",
    "    return np.sqrt(1 - (epsilon/mHc2 + 1)**(-2))"
   ]
  },
  {
   "cell_type": "code",
   "execution_count": null,
   "metadata": {
    "collapsed": false
   },
   "outputs": [],
   "source": [
    "def part(ep, n, I):\n",
    "    return n * (np.log(2*ee/I) + np.log(beta(ep)) + 0.5*(beta(ep))**4)\n",
    "    \n",
    "def D1(epsilon):\n",
    "    tot = part(epsilon, n_H, I_H) + part(epsilon, n_He, I_He)\n",
    "    return 1.5 * c * sigmaT * ee * tot"
   ]
  },
  {
   "cell_type": "code",
   "execution_count": null,
   "metadata": {
    "collapsed": false
   },
   "outputs": [],
   "source": [
    "E = np.logspace(-3,12,100) * u.eV\n",
    "out1 = D1(E)\n",
    "out2 = 1.82e-7 * n_H.value * f(E.value)"
   ]
  },
  {
   "cell_type": "code",
   "execution_count": null,
   "metadata": {
    "collapsed": false
   },
   "outputs": [],
   "source": [
    "plt.loglog(E.value/1e6, out1.value)\n",
    "plt.loglog(E.value/1e6, out2)\n",
    "plt.xlabel('CR proton energy [MeV]')\n",
    "plt.ylabel('d$\\epsilon$/d$t$ [eV s$^{-1}$]')\n",
    "plt.xlim(1e-3, 1e6)\n",
    "plt.ylim(1e-9, 1e-3)"
   ]
  },
  {
   "cell_type": "markdown",
   "metadata": {},
   "source": [
    "*_Clearly that didn't work._* In retrospect it is now clear that the asymptotic behavior referred to does not cover the entire range we are interested in ($10^6$ to $10^{15}$ eV)."
   ]
  },
  {
   "cell_type": "markdown",
   "metadata": {},
   "source": [
    "### Using full prescription for $Q_{\\rm max}$:"
   ]
  },
  {
   "cell_type": "markdown",
   "metadata": {},
   "source": [
    "Going back to equations 5.3.42 - 5.3.44, we have\n",
    "$$\n",
    "-\\frac{{\\rm d}\\epsilon}{{\\rm d}t} = \n",
    "\\frac{3 c \\sigma_{\\rm \\tiny T} Z^2 (m_e c^2)}{4\\beta}\n",
    "\\sum_s n_s [B_s + B'(\\alpha Z / \\beta)],\n",
    "$$\n",
    "$$\n",
    "B_s = {\\rm ln} \\left[ \\frac{2m_e c^2 \\beta^2 Q_{\\rm \\small max}}{I_s^2 (1-\\beta^2)} \\right] - 2\\beta^2 - \\frac{2C_s}{z_s} - \\delta_s,\n",
    "$$\n",
    "and\n",
    "$$\n",
    "Q_{\\rm \\small max} = \n",
    "\\frac{\\epsilon + 2M c^2} {1 + \\frac{(M + m_e)^2 c^2}{2m_e \\epsilon}}\n",
    "$$"
   ]
  },
  {
   "cell_type": "markdown",
   "metadata": {},
   "source": [
    "As before, we can assume $Z=1$, $M=m_p$ and $B' \\rightarrow 0$.  In addition, following the implicit logic of eq. 5.3.50, we will assume $C_s \\rightarrow 0$ and $\\delta_s \\rightarrow 0$.  Using these assumptions, and noting that $m_p + m_e \\simeq m_p$,\n",
    "$$\n",
    "-\\frac{{\\rm d}\\epsilon}{{\\rm d}t} = \n",
    "\\frac{3 c \\sigma_{\\rm \\tiny T} Z^2 (m_e c^2)}{4\\beta}\n",
    "\\sum_s n_s B_s,\n",
    "$$\n",
    "$$\n",
    "B_s = {\\rm ln} \\left[ \\frac{2m_e c^2 \\beta^2 Q_{\\rm \\small max}}{I_s^2 (1-\\beta^2)} \\right] - 2\\beta^2,\n",
    "$$\n",
    "and\n",
    "$$\n",
    "Q_{\\rm \\small max} \\simeq\n",
    "\\frac{2m_e c^2 \\beta^2 \\gamma^2} {1 + \\frac{2m_e \\epsilon}{m_p^2 c^2}}\n",
    "$$"
   ]
  },
  {
   "cell_type": "code",
   "execution_count": null,
   "metadata": {
    "collapsed": false
   },
   "outputs": [],
   "source": [
    "def gamma(ep):\n",
    "    return 1 / np.sqrt(1 - beta(ep)**2)\n",
    "\n",
    "def Bs(ep, I):\n",
    "    numerator = (2*ee * beta(ep)**2 * gamma(ep)**2)**2 \n",
    "    denominator = I*I * (1 + (2*me*ep)/(mp*c)**2)\n",
    "    return np.log(numerator/denominator) - 2*beta(ep)**2\n",
    "\n",
    "def Bprime(x):\n",
    "    digamma = sp.special.psi(1 + x.value*1j)\n",
    "    return .5 * (sp.special.psi(1) - digamma.real)\n",
    "    \n",
    "def fullD(epsilon):\n",
    "    sigma = n_H * Bs(epsilon, I_H) + n_He * Bs(epsilon, I_He)\n",
    "    return 0.75 * c * sigmaT * ee * sigma / beta(epsilon)"
   ]
  },
  {
   "cell_type": "code",
   "execution_count": null,
   "metadata": {
    "collapsed": false
   },
   "outputs": [],
   "source": [
    "E = np.logspace(-3,12,100) * u.eV\n",
    "schlickeiser = fullD(E)\n",
    "asym = D1(E)\n",
    "interp = 1.82e-7 * n_H.value * f(E.value)"
   ]
  },
  {
   "cell_type": "code",
   "execution_count": null,
   "metadata": {
    "collapsed": false
   },
   "outputs": [],
   "source": [
    "f515 = np.loadtxt(os.getenv('HOME')+'/data/otherPeoplesWork/Schlickeiser2002/data.csv', delimiter=',')"
   ]
  },
  {
   "cell_type": "code",
   "execution_count": null,
   "metadata": {
    "collapsed": false
   },
   "outputs": [],
   "source": [
    "plt.loglog(E.value/1e6, schlickeiser.value, lw=2, label='full solution')\n",
    "plt.loglog(E.value/1e6, asym.value, lw=2, label ='high-$\\epsilon$ asymptotic solution')\n",
    "plt.loglog(E.value/1e6, interp, lw=2, label='combined interpolation (Athena)')\n",
    "plt.loglog(f515[:,0], f515[:,1], 'k--', lw=3, label='Figure 5.15 from Schlickeiser')\n",
    "plt.xlabel('CR proton energy [MeV]')\n",
    "plt.ylabel('d$\\epsilon$/d$t$ [eV s$^{-1}$]')\n",
    "plt.xlim(1e-3, 1e6)\n",
    "plt.ylim(1e-9, 1e-3)\n",
    "plt.legend()\n",
    "plt.savefig('figures/dEdt.png', bbox_inches='tight')"
   ]
  },
  {
   "cell_type": "markdown",
   "metadata": {},
   "source": [
    "###### Still didn't quite work. "
   ]
  },
  {
   "cell_type": "markdown",
   "metadata": {},
   "source": [
    "I'm beginning to suspect that $C_s \\rightarrow 0$ and $\\delta_s \\rightarrow 0$ is not a valid assumption.\n",
    "But first, lets check the veracity of 5.3.44. Namely, let's check that \n",
    "$$\n",
    "Q_{\\rm \\small max} = \n",
    "\\frac{\\epsilon + 2M c^2} {1 + \\frac{(M + m_e)^2 c^2}{2m_e \\epsilon}}\n",
    " \\simeq\n",
    "\\frac{2m_e c^2 \\beta^2 \\gamma^2} {1 + \\frac{2m_e \\epsilon}{m_p^2 c^2}}.\n",
    "$$\n",
    "Again, we assume $M=m_p$:"
   ]
  },
  {
   "cell_type": "code",
   "execution_count": null,
   "metadata": {
    "collapsed": false
   },
   "outputs": [],
   "source": [
    "def Qmax(epsilon):\n",
    "    numerator = epsilon + 2 * mp * c2\n",
    "    denominator = 1 + (mp + me)**2 * c2 / (2*me * epsilon)\n",
    "    return numerator / denominator\n",
    "\n",
    "def Qapprox(epsilon):\n",
    "    denom = 1 + (2 * me * epsilon / (mp * mp * c2))\n",
    "    return 2 * ee * beta(epsilon)**2 * gamma(epsilon)**2 / denom"
   ]
  },
  {
   "cell_type": "code",
   "execution_count": null,
   "metadata": {
    "collapsed": false
   },
   "outputs": [],
   "source": [
    "q1 = Qmax(E)\n",
    "q2 = Qapprox(E)\n",
    "\n",
    "plt.loglog(E.value/1e6, q1.value, 'k', lw=2, label='full Q')\n",
    "plt.loglog(E.value/1e6, q2.value, 'r--', lw=2, label='approximate Q')\n",
    "\n",
    "plt.legend(loc=0)"
   ]
  },
  {
   "cell_type": "code",
   "execution_count": null,
   "metadata": {
    "collapsed": false
   },
   "outputs": [],
   "source": [
    "plt.semilogx(E.value, q1.value/q2.value)\n",
    "plt.ylim(.99,1.01)"
   ]
  },
  {
   "cell_type": "markdown",
   "metadata": {},
   "source": [
    "# A different approach: following Jasche, Ciardi & En$\\beta$lin (2007)"
   ]
  },
  {
   "cell_type": "markdown",
   "metadata": {},
   "source": [
    "The approach detailed in Schlickeiser (2002) is incomplete, referring the reader to Sternheimer (1952) for a complete explanation of the $C_s$ and $\\delta_s$ terms in equation 5.3.43.  Since Jasche provides a comprehensive description of their ionization and heating machinery, we'll follow them instead.  Unfortunately, this will require grokking a new set of notations..."
   ]
  },
  {
   "cell_type": "markdown",
   "metadata": {},
   "source": [
    "Jasche et al. describe things in terms of a dimensionless momentum, $p$.  This is given by $p=p_{\\rm \\tiny CR}/m_p c$, where $p_{\\rm \\tiny CR}$ is the particle's momentum.  However, I still want to have things described in terms of energy at the end of the day, so we'll take advantage of the fact that $p_{\\rm \\tiny CR} = m_p c \\beta \\gamma$ and $\\epsilon = m_p c^2 \\gamma$ to define $p$ in terms of epsilon: $$p = \\frac{\\beta \\epsilon}{m_p c^2}$$"
   ]
  },
  {
   "cell_type": "code",
   "execution_count": null,
   "metadata": {
    "collapsed": false
   },
   "outputs": [],
   "source": [
    "def p(epsilon): \n",
    "    return beta(epsilon) * gamma(epsilon) #epsilon.to('erg') / mp / c2"
   ]
  },
  {
   "cell_type": "markdown",
   "metadata": {},
   "source": [
    "We'll need to introduce some other new notation as well:\n",
    "\n",
    "+ $e \\equiv$ charge of an electron\n",
    "+ $n_z \\equiv$ number density of atomic species with electron number $Z$\n",
    "+ $I_z \\equiv$ ionization potential of species $Z$\n",
    "+ $L_0 \\equiv$ the stopping number (Ziegler 1999)\n",
    "+ $L_{\\rm Bloch} \\equiv$ Bloch correction for slow particles (Mannheim & Schlickeiser 1994)\n",
    "+ $b(\\gamma) = \\sqrt{1 + 2 \\gamma m_e / m_p + (m_e/m_p)^2} \\equiv$ correction factor accounting for maximum kinetic energy that can be imparted to a free electron in a given collision\n",
    "+ $\\delta_z \\equiv$ density correction factor accounting for the screen effect of a medium as it becomes polarized by the CRs moving through it\n",
    "\n",
    "With this updated notation, we can describe the ionization losses of the CR using the Bethe-Bloch equation:\n",
    "$$ -\\left[\\frac{{\\rm d}\\epsilon}{{\\rm d}t}\\right]_{\\rm ion} = \\frac{4\\pi e^4}{m_e \\beta c} \\sum_z Z n_z [L_0 + L_{\\rm Bloch}]$$\n",
    "where $$L_0 = {\\rm ln}\\left(\\frac{2 m_e c^2 p^2}{I_z b(\\gamma)} \\right) -\\beta^2 - \\frac{\\delta_z}{2}$$\n",
    "and $$L_{\\rm Bloch} = \\frac{1}{2} \\left[ \\Psi(1) - {\\rm Re}\\Psi\\left(1 + \\frac{i\\alpha}{\\beta} \\right) \\right]$$\n",
    "such that the full equation can be written as \n",
    "$$ = \\frac{4\\pi e^4}{m_e \\beta c} \\sum_z Z n_z \\left[ {\\rm ln}\\left(\\frac{2 m_e c^2 p^2}{I_z b(\\gamma)} \\right) -\\beta^2 - \\frac{\\delta_z}{2} + \\frac{\\Psi(1)}{2} -  \\frac{1}{2}{\\rm Re}\\Psi\\left(1 + \\frac{i\\alpha}{\\beta} \\right) \\right]$$\n",
    "where \n",
    "\n"
   ]
  },
  {
   "cell_type": "code",
   "execution_count": null,
   "metadata": {
    "collapsed": false
   },
   "outputs": [],
   "source": [
    "qe = const.e.gauss\n"
   ]
  },
  {
   "cell_type": "code",
   "execution_count": null,
   "metadata": {
    "collapsed": false
   },
   "outputs": [],
   "source": [
    "mp, me, qe"
   ]
  },
  {
   "cell_type": "code",
   "execution_count": null,
   "metadata": {
    "collapsed": false
   },
   "outputs": [],
   "source": [
    "def beta(epsilon):\n",
    "    mHc2 = 938272046*u.eV #rest energy of a proton in eV\n",
    "    return np.sqrt(1 - (epsilon/mHc2 + 1)**(-2))\n",
    "\n",
    "def gamma(ep):\n",
    "    return 1 / np.sqrt(1 - beta(ep)**2)\n",
    "\n",
    "def bgamma(gamma):\n",
    "    return np.sqrt(1 + 2*gamma*me/mp + (me/mp)**2)\n",
    "\n",
    "def deltaz(ep, Iz, y0, y1, az, kz):\n",
    "    y = np.log(p(ep))\n",
    "    #wpl = np.\n",
    "\n",
    "def L0(ep, I):\n",
    "    top = 2 * me * c2 * p(ep)**2\n",
    "    bot = I.to('erg') * bgamma(gamma(ep))\n",
    "    return np.log(top/bot) - beta(ep)**2 #!!!!! Ignoring delta_z for the moment...\n",
    "\n",
    "def Lb(ep):\n",
    "    a = sp.special.psi(1)\n",
    "    b = 1 +(1j/137/beta(ep))\n",
    "    b = sp.special.psi(b.value)\n",
    "    return 0.5 * (a+np.real(b))\n",
    "\n",
    "def dTdt(ep):\n",
    "    sigma = n_H * (L0(ep, 13.6*u.eV) + Lb(ep)) + 2 * n_He * (L0(ep, 24.6*u.eV) + Lb(ep))\n",
    "    x = 4 * np.pi * qe**4 * sigma / (me * beta(ep) * c)\n",
    "    return x.cgs.to('eV / s')"
   ]
  },
  {
   "cell_type": "code",
   "execution_count": null,
   "metadata": {
    "collapsed": false
   },
   "outputs": [],
   "source": [
    "def dedt(epsilon):\n",
    "    sigma = n_H * Bs(epsilon, I_H) + n_He * Bs(epsilon, I_He)\n",
    "    return 0.75 * c * sigmaT * ee * sigma / beta(epsilon)"
   ]
  },
  {
   "cell_type": "code",
   "execution_count": null,
   "metadata": {
    "collapsed": false
   },
   "outputs": [],
   "source": [
    "E = np.logspace(-3,12,1000) * u.eV\n",
    "jasche = dTdt(E)\n",
    "schlickeiser = dedt(E)\n",
    "interp = 1.82e-7 * n_H.value * f(E.value)\n",
    "jasche.unit"
   ]
  },
  {
   "cell_type": "code",
   "execution_count": null,
   "metadata": {
    "collapsed": false
   },
   "outputs": [],
   "source": [
    "plt.loglog(E.value/1e6, schlickeiser.value, lw=2, label='Schlickeiser (2002)')\n",
    "plt.loglog(E.value/1e6, jasche.value, lw=2, label ='Jasche et al. (2007)')\n",
    "plt.loglog(E.value/1e6, interp, lw=2, label='combined interpolation (Athena)')\n",
    "plt.loglog(f515[:,0], f515[:,1], 'k--', lw=3, label='Figure 5.15 from Schlickeiser')\n",
    "plt.xlabel('CR proton energy [MeV]')\n",
    "plt.ylabel('d$\\epsilon$/d$t$ [eV s$^{-1}$]')\n",
    "plt.xlim(1e-3, 1e6)\n",
    "plt.ylim(1e-9, 1e-3)\n",
    "plt.legend()\n",
    "#plt.savefig('figures/dEdt.png', bbox_inches='tight')"
   ]
  },
  {
   "cell_type": "code",
   "execution_count": null,
   "metadata": {
    "collapsed": false
   },
   "outputs": [],
   "source": [
    "jasche.unit"
   ]
  },
  {
   "cell_type": "code",
   "execution_count": null,
   "metadata": {
    "collapsed": false
   },
   "outputs": [],
   "source": [
    "hbar = const.hbar\n",
    "hbar"
   ]
  },
  {
   "cell_type": "code",
   "execution_count": null,
   "metadata": {
    "collapsed": false
   },
   "outputs": [],
   "source": [
    "c"
   ]
  },
  {
   "cell_type": "code",
   "execution_count": null,
   "metadata": {
    "collapsed": false
   },
   "outputs": [],
   "source": [
    "const.e.gauss**2 / const.hbar.cgs / const.c.cgs"
   ]
  },
  {
   "cell_type": "code",
   "execution_count": null,
   "metadata": {
    "collapsed": false
   },
   "outputs": [],
   "source": [
    "1.60218e-19**2 / 1.05257e-34 / 2.9979e8"
   ]
  },
  {
   "cell_type": "code",
   "execution_count": null,
   "metadata": {
    "collapsed": false
   },
   "outputs": [],
   "source": [
    "const.e.gauss"
   ]
  },
  {
   "cell_type": "code",
   "execution_count": null,
   "metadata": {
    "collapsed": false
   },
   "outputs": [],
   "source": [
    "u.erg.find_equivalent_units()"
   ]
  }
 ],
 "metadata": {
  "kernelspec": {
   "display_name": "Python 2",
   "language": "python",
   "name": "python2"
  },
  "language_info": {
   "codemirror_mode": {
    "name": "ipython",
    "version": 2
   },
   "file_extension": ".py",
   "mimetype": "text/x-python",
   "name": "python",
   "nbconvert_exporter": "python",
   "pygments_lexer": "ipython2",
   "version": "2.7.9"
  }
 },
 "nbformat": 4,
 "nbformat_minor": 0
}
