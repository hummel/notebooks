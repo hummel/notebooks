{
 "metadata": {
  "name": "",
  "signature": "sha256:4c93be2d2c6c3caf95e1baa6801eb7b850861a33068e00426dfed6cd28ed3f6a"
 },
 "nbformat": 3,
 "nbformat_minor": 0,
 "worksheets": [
  {
   "cells": [
    {
     "cell_type": "heading",
     "level": 1,
     "metadata": {},
     "source": [
      "Cosmic Ray Ionization and Heating"
     ]
    },
    {
     "cell_type": "markdown",
     "metadata": {},
     "source": [
      "Following Stacy & Bromm (2007), we calculate the rates for ionization ($k_{\\rm \\small CR}$) and heating ($\\Gamma_{\\rm \\small CR}$) of neutral hydrogen by cosmic rays as follows:\n",
      "    $$\\Gamma_{\\rm \\small CR} = n_{\\rm \\small H} E_{\\rm \\small heat} k_{\\rm \\small CR}$$\n",
      "and\n",
      "    $$\n",
      "    k_{\\rm \\small CR} = \\frac{1.82\\times10^{-7}\\,{\\rm \\small eV\\,s}^{-1}}{50\\,{\\rm \\small eV}} \n",
      "    \\int_{\\epsilon_{\\rm min}}^{\\epsilon_{\\rm max}} f(\\epsilon) \\frac{dn_{\\rm \\tiny CR}}{d\\epsilon} d\\epsilon,\n",
      "    $$\n",
      "where\n",
      "    $$f(\\epsilon) = (1 + 0.0185 \\,{\\rm ln}\\beta )\\, \\frac{2 \\beta^2}{\\beta_0^3 + 2 \\beta^3}$$\n",
      "and\n",
      "    $$\\beta =  \\sqrt{1 - \\left( \\frac{\\epsilon}{m_{\\rm \\tiny H}c^2}+1 \\right)^{-2}},$$\n",
      "and the differential CR energy spectrum is given by\n",
      "    $$\\frac{dn_{\\rm \\tiny CR}}{d\\epsilon} = \\frac{u_{\\rm \\small CR} \\epsilon^{-2}}{{\\rm ln}\\,\\epsilon_{\\rm max}{\\large /}\\epsilon_{\\rm min}}.$$\n",
      "\n",
      "Here, $n_{\\rm \\small H}$ is the number density of hydrogen, $E_{\\rm \\small heat}$ is the energy deposited as heat in a neutral medium, $m_{\\rm \\small H}$ is the mass of hydrogen, $c$ is the speed of light, $\\beta = v/c,$ and $\\beta_0$ is the cutoff below which the interaction between CRs and the gas decreases sharply.\n",
      "\n",
      "**Note that we have assumed that the gas in question remains optically thin, such that attenuation of the incident CR flux is negligible.**"
     ]
    },
    {
     "cell_type": "code",
     "collapsed": false,
     "input": [
      "#First, define beta.\n",
      "def beta(epsilon):\n",
      "    mHc2 = 938272046 #rest energy of a proton in eV\n",
      "    return np.sqrt(1 - (epsilon/mHc2 + 1)**(-2))"
     ],
     "language": "python",
     "metadata": {},
     "outputs": [],
     "prompt_number": 12
    },
    {
     "cell_type": "code",
     "collapsed": false,
     "input": [
      "#Define f(epsilon).\n",
      "def f(epsilon):\n",
      "    B0 = 0.01\n",
      "    B = beta(epsilon)\n",
      "    return (1 + 0.0185 * np.log(B)) * 2*B**2 / (B0**3 + 2*B**3)"
     ],
     "language": "python",
     "metadata": {},
     "outputs": [],
     "prompt_number": 13
    },
    {
     "cell_type": "code",
     "collapsed": false,
     "input": [
      "#Define differential energy spectrum.\n",
      "def dnCR(epsilon, ucr, emin, emax):\n",
      "    return ucr / epsilon / epsilon / np.log(emax/emin)"
     ],
     "language": "python",
     "metadata": {},
     "outputs": [],
     "prompt_number": 14
    },
    {
     "cell_type": "code",
     "collapsed": false,
     "input": [
      "def integrand(epsilon, emin, emax):\n",
      "    return f(epsilon) / epsilon / epsilon / np.log(emax/emin)"
     ],
     "language": "python",
     "metadata": {},
     "outputs": [],
     "prompt_number": 15
    },
    {
     "cell_type": "heading",
     "level": 4,
     "metadata": {},
     "source": [
      "Check to see that what we get matches Athena's parameterization."
     ]
    },
    {
     "cell_type": "markdown",
     "metadata": {},
     "source": [
      "First, do the integral over epsilon, from $10^6$eV to $10^{15}$eV.  We have to do it by hand because scipy's built-in integration routines all use quadrature, which doesn't work for a power law over many orders of magnitude."
     ]
    },
    {
     "cell_type": "code",
     "collapsed": false,
     "input": [
      "emin = 1e6\n",
      "emax = 1e15\n",
      "n_steps = 1000\n",
      "integral = 0.0\n",
      "\n",
      "logmin = np.log10(emin)\n",
      "logmax = np.log10(emax)\n",
      "for i in xrange(n_steps):\n",
      "    epsilon = (logmax - logmin) / n_steps * (i + 0.5) + logmin\n",
      "    e_start = (logmax - logmin) / n_steps* (i) + logmin\n",
      "    e_stop = (logmax - logmin) / n_steps * (i + 1.0) + logmin\n",
      "    epsilon = 10**epsilon\n",
      "    e_start = 10**e_start\n",
      "    e_stop = 10**e_stop\n",
      "    De = e_stop - e_start\n",
      "    #print epsilon, f(epsilon), De, integrand(epsilon, emin, emax)\n",
      "    integral += integrand(epsilon, emin, emax) * De\n",
      "integral = integral * 1.82e-7 / 50\n",
      "print integral"
     ],
     "language": "python",
     "metadata": {},
     "outputs": [
      {
       "output_type": "stream",
       "stream": "stdout",
       "text": [
        "2.40709315428e-15\n"
       ]
      }
     ],
     "prompt_number": 16
    },
    {
     "cell_type": "markdown",
     "metadata": {},
     "source": [
      "Now, Athena's parameterization uses $U_{\\rm \\small CR} = 2\\times10^{-15} {\\rm erg\\,cm^{-3}}$, $E_{\\rm \\small heat} = 6{\\rm eV}$, and $n_{\\rm \\small H} = 1{\\rm cm^{-3}}.$"
     ]
    },
    {
     "cell_type": "code",
     "collapsed": false,
     "input": [
      "u_athena = 2e-15 * 6.24150934e11 # convert from erg to eV\n",
      "eHeat =  6 / 6.24150934e11\n",
      "ion_rate = u_athena * integral\n",
      "heat_rate = ion_rate * eHeat"
     ],
     "language": "python",
     "metadata": {},
     "outputs": [],
     "prompt_number": 17
    },
    {
     "cell_type": "markdown",
     "metadata": {},
     "source": [
      "Plugging those values in and making sure to correctly convert from erg to eV, we get the following for $k_{\\rm \\small CR}$ and $\\Gamma_{\\rm \\small CR}$:"
     ]
    },
    {
     "cell_type": "code",
     "collapsed": false,
     "input": [
      "print ion_rate"
     ],
     "language": "python",
     "metadata": {},
     "outputs": [
      {
       "output_type": "stream",
       "stream": "stdout",
       "text": [
        "3.00477888093e-18\n"
       ]
      }
     ],
     "prompt_number": 18
    },
    {
     "cell_type": "code",
     "collapsed": false,
     "input": [
      "print heat_rate"
     ],
     "language": "python",
     "metadata": {},
     "outputs": [
      {
       "output_type": "stream",
       "stream": "stdout",
       "text": [
        "2.88851178513e-29\n"
       ]
      }
     ],
     "prompt_number": 19
    },
    {
     "cell_type": "markdown",
     "metadata": {},
     "source": [
      "These values are off from Athena's parameterizations by about 2x.  I haven't figured out exactly what accounts for the discrepancy yet, but it's close enough to start a simulation."
     ]
    }
   ],
   "metadata": {}
  }
 ]
}