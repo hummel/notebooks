{
 "cells": [
  {
   "cell_type": "code",
   "execution_count": null,
   "metadata": {
    "collapsed": false
   },
   "outputs": [],
   "source": [
    "%matplotlib inline\n",
    "import os\n",
    "import numpy as np\n",
    "import pandas as pd\n",
    "import pyGadget\n",
    "import matplotlib as mpl\n",
    "from matplotlib import pyplot as plt"
   ]
  },
  {
   "cell_type": "raw",
   "metadata": {},
   "source": [
    "mpl.rc('figure', figsize=(12,9))\n",
    "mpl.rc('font', size=20.)\n",
    "mpl.rc('font', family='serif')\n",
    "mpl.rc('text', usetex=True)\n",
    "mpl.rc('axes', color_cycle=['k','b','g','r','k','b','g','r'])"
   ]
  },
  {
   "cell_type": "code",
   "execution_count": null,
   "metadata": {
    "collapsed": false
   },
   "outputs": [],
   "source": [
    "import seaborn as sns\n",
    "sns.set_context('poster')\n",
    "sns.set_style('white')\n",
    "sns.despine()\n",
    "mpl.rc('text', usetex=True)"
   ]
  },
  {
   "cell_type": "markdown",
   "metadata": {},
   "source": [
    "# Halo Mass Growth History"
   ]
  },
  {
   "cell_type": "code",
   "execution_count": null,
   "metadata": {
    "collapsed": false
   },
   "outputs": [],
   "source": [
    "simname = {'vanilla':r'$u_{\\rm \\tiny CR} = 0$',\n",
    "        'cr00': r'$u_{\\rm \\tiny CR} = u_0$', \n",
    "        'cr01': r'$u_{\\rm \\tiny CR} = 10 u_0$', \n",
    "        'cr02': r'$u_{\\rm \\tiny CR} = 10^2 u_0$', \n",
    "        'cr03': r'$u_{\\rm \\tiny CR} = 10^3 u_0$', \n",
    "        'cr04': r'$u_{\\rm \\tiny CR} = 10^4 u_0$',\n",
    "        'cr05': r'$u_{\\rm \\tiny CR} = 10^5 u_0$'}\n",
    "simlist = ['cr00','cr01','cr02','cr03','cr04','cr05']\n",
    "name = ['vanilla', 'cr00', 'cr01', 'cr02', 'cr03', 'cr04', 'cr05']"
   ]
  },
  {
   "cell_type": "code",
   "execution_count": null,
   "metadata": {
    "collapsed": false
   },
   "outputs": [],
   "source": [
    "store = pd.HDFStore(os.getenv(\"HOME\")+'/data/stampede/mass_history.hdf5')\n",
    "mg = store['vanilla']#.set_index('time')\n",
    "mg0 = store['cr00']#.set_index('time')\n",
    "mg1 = store['cr01']#.set_index('time')\n",
    "mg2 = store['cr02']#.set_index('time')\n",
    "mg3 = store['cr03']#.set_index('time')\n",
    "mg4 = store['cr04']#.set_index('time')\n",
    "mg5 = store['cr05']#.set_index('time')\n",
    "store.close()"
   ]
  },
  {
   "cell_type": "code",
   "execution_count": null,
   "metadata": {
    "collapsed": false
   },
   "outputs": [],
   "source": [
    "store = pd.HDFStore(os.getenv(\"HOME\")+'/data/stampede/sinkdata.hdf5')\n",
    "sinksV = store['vanilla']\n",
    "sinks0 = store['cr00']\n",
    "sinks1 = store['cr01']\n",
    "sinks2 = store['cr02']\n",
    "sinks3 = store['cr03']\n",
    "sinks4 = store['cr04']\n",
    "sinks5 = store['cr05']\n",
    "store.close()"
   ]
  },
  {
   "cell_type": "code",
   "execution_count": null,
   "metadata": {
    "collapsed": false
   },
   "outputs": [],
   "source": [
    "sinksV.groupby('ID').last().describe()"
   ]
  },
  {
   "cell_type": "code",
   "execution_count": null,
   "metadata": {
    "collapsed": false
   },
   "outputs": [],
   "source": [
    "data = {'vanilla':mg, 'cr00':mg0, 'cr01':mg1, 'cr02':mg2, 'cr03':mg3, 'cr04':mg4, 'cr05':mg5}\n",
    "sinkdata = {'vanilla':sinksV, 'cr00':sinks0, 'cr01':sinks1, 'cr02':sinks2, 'cr03':sinks3, 'cr04':sinks4, 'cr05':sinks5}"
   ]
  },
  {
   "cell_type": "code",
   "execution_count": null,
   "metadata": {
    "collapsed": false
   },
   "outputs": [],
   "source": [
    "for sim in data.keys():\n",
    "    df = data[sim]\n",
    "    print sim, df[df.time > 0].z.iloc[0]"
   ]
  },
  {
   "cell_type": "code",
   "execution_count": null,
   "metadata": {
    "collapsed": false
   },
   "outputs": [],
   "source": [
    "total_mass = {}\n",
    "for i, sim in enumerate(data.keys()):\n",
    "    mtot = sinkdata[sim][['time','mass']].groupby('time').sum()\n",
    "    mtot.rename(columns = {'mass':simname[sim]}, inplace=True)\n",
    "    total_mass[sim] = mtot.reset_index()"
   ]
  },
  {
   "cell_type": "code",
   "execution_count": null,
   "metadata": {
    "collapsed": false
   },
   "outputs": [],
   "source": [
    "combined = {}\n",
    "for i, sim in enumerate(name):\n",
    "    df = data[sim]\n",
    "    sdf = total_mass[sim].rename(columns = {simname[name[i]]:'sinks'})\n",
    "    cdf = pd.merge(df, sdf, on='time')\n",
    "    cdf['SFE'] = cdf['sinks'] / cdf['100cc']\n",
    "    cdf[\"DFE\"] = cdf['1e8cc'] / cdf['100cc']\n",
    "    cdf['AcE'] = cdf['sinks'] / cdf['1e8cc']\n",
    "    combined[sim] = cdf\n",
    "#    df['SFE'] = df['100cc'] / "
   ]
  },
  {
   "cell_type": "code",
   "execution_count": null,
   "metadata": {
    "collapsed": false
   },
   "outputs": [],
   "source": [
    "nkeys = ['10cc', '100cc', '1e4cc', '1e8cc', '1e10cc']\n",
    "rkeys = ['100pc', '10pc', '1pc', '.1pc', '1e4AU', '5e3AU', '1e3AU']"
   ]
  },
  {
   "cell_type": "code",
   "execution_count": null,
   "metadata": {
    "collapsed": false
   },
   "outputs": [],
   "source": [
    "fig, axarr = plt.subplots(3, sharex=True, figsize=(9,15))\n",
    "\n",
    "for i, dlim in enumerate(nkeys[2:]):\n",
    "    axarr[i].axvline(0, lw=1, ls='-', c='.8')\n",
    "    axarr[i] = mg[mg[dlim] > 0].plot(ax=axarr[i], x='time', y=dlim, label=simname['vanilla'],\n",
    "                                    ls='-', color='.25', grid=False)\n",
    "    for sim in simlist:\n",
    "        df = data[sim]\n",
    "        axarr[i] = df[df[dlim] > 0].plot(ax=axarr[i], x='time', y=dlim, label=simname[sim])#, grid=False)\n",
    "    axarr[i].set_ylabel('Mass [M$_{\\odot}$]')\n",
    "    axarr[i].set_xlabel(\"\")\n",
    "    axarr[i].text(.97,.03,\"$n >$ \"+dlim.replace('cc', ' cm$^{-3}$') , ha='right', va='bottom', \n",
    "                  size=20, transform=axarr[i].transAxes)\n",
    "\n",
    "axarr[0].set_ylim(500, 1.4e3)\n",
    "axarr[1].set_ylim(0, 130)\n",
    "axarr[2].set_ylim(0, 75)\n",
    "axarr[1].legend(loc=0)\n",
    "axarr[2].set_xlabel(\"Time since sink formation [yr]\")\n",
    "plt.xlim(-5e3, 5e3)\n",
    "fig.subplots_adjust(hspace=0.0)\n",
    "sns.despine()\n",
    "#plt.setp([a.get_xticklabels() for a in fig.axes[:-1]], visible=False)"
   ]
  },
  {
   "cell_type": "code",
   "execution_count": null,
   "metadata": {
    "collapsed": false
   },
   "outputs": [],
   "source": [
    "with sns.axes_style(\"darkgrid\"):\n",
    "    fig, ax = plt.subplots()\n",
    "    df = data['vanilla']\n",
    "    df[df['1e8cc'] > 0].plot(ax=ax, x='time', y='1e8cc', color='.25', label=simname['vanilla'])\n",
    "    for sim in simlist:\n",
    "        df = data[sim]\n",
    "        df[df['1e8cc'] > 0].plot(ax=ax, x='time', y='1e8cc', label=simname[sim])\n",
    "    ax.set_xlim(-7500,5000)\n",
    "    ax.set_ylim(0,120)\n",
    "    ax.legend(loc=0)\n",
    "    ax.set_ylabel('Mass [M$_{\\odot}$]')\n",
    "    ax.set_xlabel(\"Time since sink formation [yr]\")"
   ]
  },
  {
   "cell_type": "code",
   "execution_count": null,
   "metadata": {
    "collapsed": false
   },
   "outputs": [],
   "source": [
    "with sns.axes_style(\"white\"):\n",
    "    fig, ax = plt.subplots()\n",
    "df = data['vanilla']\n",
    "df = df[df['1pc'] > 0]\n",
    "ax.semilogy(df.z, df['1pc'], color='.25', label=simname['vanilla'])\n",
    "for sim in simlist[1:]:\n",
    "    df = data[sim]\n",
    "    df = df[df['1pc'] > 0]\n",
    "    ax.plot(df.z, df['1pc'], label=simname[sim])\n",
    "ax.set_color_cycle(None)\n",
    "ax.set_xlim(34, 25)\n",
    "ax.set_ylim(2,2e3)\n",
    "ax.legend(loc=0)\n",
    "ax.set_ylabel('Mass within 1 pc [M$_{\\odot}$]')\n",
    "ax.set_xlabel(\"Redshift\")\n",
    "fig.savefig('figures/growth/collapse.png', bbox_inches='tight')\n",
    "#fig.savefig('figures/growth/collapse.pdf', bbox_inches='tight')"
   ]
  },
  {
   "cell_type": "code",
   "execution_count": null,
   "metadata": {
    "collapsed": false
   },
   "outputs": [],
   "source": [
    "fig, axarr = plt.subplots(3, sharex=True, figsize=(9,15))\n",
    "\n",
    "for i, dlim in enumerate(nkeys[:3]):\n",
    "    axarr[i].axvline(0, lw=1, ls='-', c='.8')\n",
    "    axarr[i] = mg[mg[dlim] > 0].plot(ax=axarr[i], x='z', y=dlim, label=simname['vanilla'],\n",
    "                                    ls='-', color='.25', grid=False, logy=True)\n",
    "    for sim in simlist:\n",
    "        df = data[sim]\n",
    "        axarr[i] = df[df[dlim] > 0].plot(ax=axarr[i], x='z', y=dlim, label=simname[sim], logy=True)#, grid=False)\n",
    "    axarr[i].set_ylabel('Mass [M$_{\\odot}$]')\n",
    "    axarr[i].set_xlabel(\"\")\n",
    "    axarr[i].text(.5,.95,\"$n >$ \"+dlim.replace('cc', ' cm$^{-3}$') , ha='center', va='top', \n",
    "                  size=20, transform=axarr[i].transAxes)\n",
    "\n",
    "axarr[0].set_ylim(1, 1e4)\n",
    "axarr[1].set_ylim(.2, 5e3)\n",
    "axarr[2].set_ylim(.2, 5e3)\n",
    "axarr[1].legend(loc=0)\n",
    "axarr[2].set_xlabel(\"Redshift\")\n",
    "plt.xlim(42, 25)\n",
    "fig.subplots_adjust(hspace=0.0)\n",
    "sns.despine()\n",
    "#plt.setp([a.get_xticklabels() for a in fig.axes[:-1]], visible=False)"
   ]
  },
  {
   "cell_type": "code",
   "execution_count": null,
   "metadata": {
    "collapsed": false
   },
   "outputs": [],
   "source": [
    "fig, axarr = plt.subplots(3, sharex=True, figsize=(8,15))\n",
    "\n",
    "for i, dlim in enumerate(rkeys[:3]):\n",
    "    axarr[i].axvline(0, lw=1, ls='-', c='.8')\n",
    "    axarr[i] = mg[mg[dlim] > 0].plot(ax=axarr[i], x='z', y=dlim, label=simname['vanilla'],\n",
    "                                    ls='-', color='.25', grid=False, logy=False)\n",
    "    for sim in simlist:\n",
    "        df = data[sim]\n",
    "        axarr[i] = df[df[dlim] > 0].plot(ax=axarr[i], x='z', y=dlim, label=simname[sim], logy=False)#, grid=False)\n",
    "    axarr[i].set_ylabel('Mass [M$_{\\odot}$]')\n",
    "    axarr[i].set_xlabel(\"\")\n",
    "    axarr[i].text(.5,.95,\"$r <$ \"+dlim, ha='center', va='top', \n",
    "                  size=20, transform=axarr[i].transAxes)\n",
    "\n",
    "#axarr[0].set_ylim(1, 1e4)\n",
    "#axarr[1].set_ylim(.2, 5e3)\n",
    "#axarr[2].set_ylim(.2, 5e3)\n",
    "axarr[1].legend(loc=0)\n",
    "axarr[2].set_xlabel(\"Redshift\")\n",
    "plt.xlim(35, 24.95)\n",
    "fig.subplots_adjust(hspace=0.003)\n",
    "sns.despine()\n",
    "fig.savefig('figures/growth/massgrowth_lores.png', bbox_inches='tight')"
   ]
  },
  {
   "cell_type": "code",
   "execution_count": null,
   "metadata": {
    "collapsed": false
   },
   "outputs": [],
   "source": [
    "fig, axarr = plt.subplots(3, sharex=True, figsize=(9,15))\n",
    "\n",
    "for i, dlim in enumerate([rkeys[i] for i in [3,4,5]]):\n",
    "    axarr[i].axvline(0, lw=1, ls='-', c='.8')\n",
    "    axarr[i] = mg[mg[dlim] > 0].plot(ax=axarr[i], x='time', y=dlim, label=simname['vanilla'],\n",
    "                                    ls='-', color='.25', grid=False)\n",
    "    for sim in simlist:\n",
    "        df = data[sim]\n",
    "        axarr[i] = df[df[dlim] > 0].plot(ax=axarr[i], x='time', y=dlim, label=simname[sim])#, grid=False)\n",
    "    axarr[i].set_ylabel('Mass [M$_{\\odot}$]')\n",
    "    axarr[i].set_xlabel(\"\")\n",
    "    axarr[i].text(.97,.03,\"$r <$ \"+dlim , ha='right', va='bottom', \n",
    "                  size=20, transform=axarr[i].transAxes)\n",
    "\n",
    "axarr[0].set_ylim(125, 450)\n",
    "axarr[1].set_ylim(75, 275)\n",
    "axarr[2].set_ylim(25, 190)\n",
    "axarr[2].legend(loc=0)\n",
    "axarr[2].set_xlabel(\"Time since sink formation [yr]\")\n",
    "plt.xlim(-5e3, 5e3)\n",
    "fig.subplots_adjust(hspace=0.0)\n",
    "sns.despine()\n",
    "#plt.setp([a.get_xticklabels() for a in fig.axes[:-1]], visible=False)"
   ]
  },
  {
   "cell_type": "code",
   "execution_count": null,
   "metadata": {
    "collapsed": false
   },
   "outputs": [],
   "source": [
    "eff_label = {'SFE':\"Star Formation Efficiency\", 'DFE':\"Disk Formation Efficiency\", 'AcE':\"Sink Accretion Efficiency\"}"
   ]
  },
  {
   "cell_type": "code",
   "execution_count": null,
   "metadata": {
    "collapsed": false
   },
   "outputs": [],
   "source": [
    "eff = 'SFE'\n",
    "with sns.axes_style(\"darkgrid\"):\n",
    "    fig, ax = plt.subplots()\n",
    "    df = combined['vanilla'].set_index('time')\n",
    "    ax = df[eff].plot(ax=ax, label=simname['vanilla'], ls='-', color='.25')#, grid=False)\n",
    "    for sim in simlist:\n",
    "        df = combined[sim].set_index('time')\n",
    "        ax = df[eff].plot(ax=ax, label=simname[sim])#, grid=False)\n",
    "    ax.set_ylabel(eff_label[eff])\n",
    "    ax.set_xlim(0,5000)\n",
    "    ax.set_ylim(0,.04)\n",
    "    ax.legend(loc=2)\n",
    "#sns.despine()\n",
    "fig.savefig('figures/growth/efficiency.png', bbox_inches='tight')"
   ]
  },
  {
   "cell_type": "code",
   "execution_count": null,
   "metadata": {
    "collapsed": false
   },
   "outputs": [],
   "source": [
    "with sns.axes_style(\"darkgrid\"):\n",
    "    fig, axl = plt.subplots(1,2, sharex=True, figsize=(15,6))\n",
    "    eff_label = {'SFE':\"Star Formation Efficiency\", 'DFE':\"Disk Formation Efficiency\", 'AcE':\"Sink Accretion Efficiency\"}\n",
    "    for i, eff in enumerate(['SFE', 'DFE']):\n",
    "        df = combined['vanilla'].set_index('time')\n",
    "        axl[i] = df[eff].plot(ax=axl[i], label=simname['vanilla'], ls='-', color='.25')#, grid=False)\n",
    "        for sim in simlist:\n",
    "            df = combined[sim].set_index('time')\n",
    "            axl[i] = df[eff].plot(ax=axl[i], label=simname[sim])#, grid=False)\n",
    "        axl[i].set_ylabel(eff_label[eff])\n",
    "    axl[0].set_xlim(0,5000)\n",
    "    axl[0].set_ylim(0,.035)\n",
    "    axl[1].set_ylim(0,0.05)#1.005)\n",
    "    axl[0].legend(loc=2)\n",
    "#sns.despine()\n",
    "fig.savefig('figures/growth/efficiency.png', bbox_inches='tight')"
   ]
  },
  {
   "cell_type": "code",
   "execution_count": null,
   "metadata": {
    "collapsed": false
   },
   "outputs": [],
   "source": [
    "fig, ((ax0,ax1),(ax2,ax3)) = plt.subplots(2,2, figsize=(12,10))\n",
    "\n",
    "for ax in fig.axes:\n",
    "    ax.axvline(0, lw=1.2, ls='-', c='.75')\n",
    "    \n",
    "ax0 = mg.plot(ax=ax0, x='time', y='100cc', ls='-', color='.25')\n",
    "ax1 = mg.plot(ax=ax1, x='time', y='1e8cc', ls='-', color='.25', label=simname['vanilla'])\n",
    "ax2 = combined['vanilla'].plot(ax=ax2, x='time', y='SFE', ls='-', color='.25')\n",
    "ax3 = total_mass['vanilla'].plot(ax=ax3, x='time', y=simname['vanilla'], ls='-', color='.25')\n",
    "\n",
    "#============ Panel A ==============\n",
    "for sim in simlist:\n",
    "    df = data[sim]\n",
    "    ax0 = df.plot(ax=ax0, x='time', y='100cc', label=simname[sim])\n",
    "ax0.set_ylim(1900,2700)\n",
    "ax0.set_ylabel('$n >$ 100 cm$^{-3}$ Mass [M$_{\\odot}$]')\n",
    "\n",
    "#============ Panel B ==============\n",
    "for sim in simlist:\n",
    "    df = data[sim]\n",
    "    ax1 = df.plot(ax=ax1, x='time', y='1e8cc', label=simname[sim])\n",
    "ax1.set_ylim(0,112)\n",
    "ax1.set_ylabel('$n > 10^8$ cm$^{-3}$ Mass [M$_{\\odot}$]')\n",
    "ax1.legend(loc=0)\n",
    "\n",
    "#============ Panel C ==============\n",
    "for sim in simlist:\n",
    "    df = combined[sim]\n",
    "    ax2 = df.plot(ax=ax2, x='time', y=\"SFE\", label=simname[sim])\n",
    "ax2.set_ylim(0,.035)\n",
    "ax2.set_ylabel('Star Formation Efficiency')\n",
    "\n",
    "#============ Panel D ==============\n",
    "for sim in simlist:\n",
    "    df = total_mass[sim]\n",
    "    ax3 = df.plot(ax=ax3, x='time', y=simname[sim], label=simname[sim])\n",
    "ax3.set_ylim(0,70)\n",
    "ax3.set_ylabel('Total Sink Mass [M$_{\\odot}$]')\n",
    "\n",
    "\n",
    "for ax in fig.axes:\n",
    "    ax.set_xlim(-1.8e3,5e3)\n",
    "    ax.set_xticks((-1e3, 0, 1e3, 3e3, 5e3))\n",
    "    ax.set_xlabel('Time Since Sink Formation [yr]')\n",
    "#fig.subplots_adjust(vspace=1)\n",
    "fig.tight_layout()\n",
    "fig.savefig('figures/growth/sinkgrowth.png', bbox_inches='tight')"
   ]
  }
 ],
 "metadata": {
  "kernelspec": {
   "display_name": "Python 2",
   "language": "python",
   "name": "python2"
  },
  "language_info": {
   "codemirror_mode": {
    "name": "ipython",
    "version": 2
   },
   "file_extension": ".py",
   "mimetype": "text/x-python",
   "name": "python",
   "nbconvert_exporter": "python",
   "pygments_lexer": "ipython2",
   "version": "2.7.9"
  }
 },
 "nbformat": 4,
 "nbformat_minor": 0
}
