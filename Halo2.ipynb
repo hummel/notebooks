{
 "cells": [
  {
   "cell_type": "code",
   "execution_count": null,
   "metadata": {
    "collapsed": false
   },
   "outputs": [],
   "source": [
    "%matplotlib inline\n",
    "import os\n",
    "import re\n",
    "import numpy as np\n",
    "import pandas as pd\n",
    "import matplotlib as mpl\n",
    "from matplotlib import pyplot as plt\n",
    "#import seaborn as sns\n",
    "import pyGadget\n",
    "mpl.rc('font', size=20.)\n",
    "mpl.rc('font', family='serif')\n",
    "mpl.rc('text', usetex=True)"
   ]
  },
  {
   "cell_type": "code",
   "execution_count": null,
   "metadata": {
    "collapsed": false
   },
   "outputs": [],
   "source": [
    "simV0 = pyGadget.sim.Simulation('stampede/no_bkg',length='pc', coordinates='physical')\n",
    "snapV0 = simV0.load_snapshot(266)\n",
    "simV = pyGadget.sim.Simulation('lonestar/vanilla2',length='pc', coordinates='physical')\n",
    "snapV = simV.load_snapshot(176)\n",
    "sim = pyGadget.sim.Simulation('lonestar/cr05',length='pc', coordinates='physical')\n",
    "snap = sim.load_snapshot(139)\n",
    "sim0 = pyGadget.sim.Simulation('stampede/cr05',length='pc', coordinates='physical')\n",
    "snap0 = sim0.load_snapshot(140)"
   ]
  },
  {
   "cell_type": "raw",
   "metadata": {
    "collapsed": false
   },
   "source": [
    "snap.close()"
   ]
  },
  {
   "cell_type": "code",
   "execution_count": null,
   "metadata": {
    "collapsed": false
   },
   "outputs": [],
   "source": [
    "snapV.header.Redshift, snap.header.Redshift"
   ]
  },
  {
   "cell_type": "code",
   "execution_count": null,
   "metadata": {
    "collapsed": false
   },
   "outputs": [],
   "source": [
    "2.725*(1+snapV.header.Redshift), 2.725*(1+snap.header.Redshift)"
   ]
  },
  {
   "cell_type": "code",
   "execution_count": null,
   "metadata": {
    "collapsed": false
   },
   "outputs": [],
   "source": [
    "snap.sim.units.length_unit"
   ]
  },
  {
   "cell_type": "code",
   "execution_count": null,
   "metadata": {
    "collapsed": true
   },
   "outputs": [],
   "source": [
    "snap.gas.load_coords()\n",
    "snap.gas.load_masses()\n",
    "snap.gas.load_number_density()\n",
    "snap.gas.load_PIDs()"
   ]
  },
  {
   "cell_type": "code",
   "execution_count": null,
   "metadata": {
    "collapsed": false
   },
   "outputs": [],
   "source": [
    "snap.gas.coordinates.max()"
   ]
  },
  {
   "cell_type": "code",
   "execution_count": null,
   "metadata": {
    "collapsed": false
   },
   "outputs": [],
   "source": [
    "np.unique(snap.gas.masses)"
   ]
  },
  {
   "cell_type": "code",
   "execution_count": null,
   "metadata": {
    "collapsed": false
   },
   "outputs": [],
   "source": [
    "snap.gas.masses.max(), snap.gas.masses.min()"
   ]
  },
  {
   "cell_type": "code",
   "execution_count": null,
   "metadata": {
    "collapsed": false
   },
   "outputs": [],
   "source": [
    "snap.gas.ndensity.max(), snap.gas.ndensity.min()"
   ]
  },
  {
   "cell_type": "code",
   "execution_count": null,
   "metadata": {
    "collapsed": false
   },
   "outputs": [],
   "source": [
    "img = pyGadget.visualize.project(snap, 'ndensity', '1000pc', 'xz', centering='avg')"
   ]
  },
  {
   "cell_type": "code",
   "execution_count": null,
   "metadata": {
    "collapsed": false
   },
   "outputs": [],
   "source": [
    "fig = plt.figure(figsize=(15,15))\n",
    "x,y,z = img\n",
    "plt.imshow(z, extent=[x.min(),x.max(),y.min(),y.max()], cmap=plt.cm.bone, origin='lower')\n",
    "fig.savefig('figures/structure/halo2_environment_1kpc.png', bbox_inches='tight')"
   ]
  },
  {
   "cell_type": "code",
   "execution_count": null,
   "metadata": {
    "collapsed": true
   },
   "outputs": [],
   "source": [
    "ars_temp = pd.read_csv(os.getenv(\"HOME\")+'/data/literature_data/Stacy_Bromm2007/f2_nocr.csv', names=['n', 'temp'])\n",
    "ars_temp_hiSF = pd.read_csv(os.getenv(\"HOME\")+'/data/literature_data/Stacy_Bromm2007/f2_1e6_high.csv', names=['n', 'temp'])\n",
    "ars_temp_loSF = pd.read_csv(os.getenv(\"HOME\")+'/data/literature_data/Stacy_Bromm2007/f2_1e6_low.csv', names=['n', 'temp'])"
   ]
  },
  {
   "cell_type": "code",
   "execution_count": null,
   "metadata": {
    "collapsed": false
   },
   "outputs": [],
   "source": [
    "fig,ax = plt.subplots(figsize=(12,9))\n",
    "ax = pyGadget.multiplot.Phase.temp(snapV,ax, rasterized=True, color='.75', cmbline=False)\n",
    "ax = pyGadget.multiplot.Phase.temp(snap,ax, rasterized=True, cmap=plt.cm.Blues_r)\n",
    "ax.set_xlim(2e-3, 1e8)\n",
    "ax.axhline(2.725 * (snapV0.header.Redshift + 1), ls='--', color='.75')\n",
    "fig.savefig('figures/phase_diagrams/halo2_temp.png', bbox_inches='tight')"
   ]
  },
  {
   "cell_type": "code",
   "execution_count": null,
   "metadata": {
    "collapsed": false
   },
   "outputs": [],
   "source": [
    "fig,ax = plt.subplots(figsize=(12,9))\n",
    "ax = pyGadget.multiplot.Phase.temp(snap0,ax, rasterized=True, cmap=plt.cm.Blues_r, cmbline=False)\n",
    "ax = pyGadget.multiplot.Phase.temp(snap,ax, rasterized=True, cmap=plt.cm.Reds_r, cmbline=False)\n",
    "ax.axhline(2.725 * (snap0.header.Redshift + 1), ls='-', color='b')\n",
    "ax.axhline(2.725 * (snap.header.Redshift + 1), ls='-', color='r')\n",
    "ax.set_xlim(2e-3, 1e8)"
   ]
  },
  {
   "cell_type": "code",
   "execution_count": null,
   "metadata": {
    "collapsed": false
   },
   "outputs": [],
   "source": [
    "fig,ax = plt.subplots(figsize=(12,9))\n",
    "ax.axhline(2.725 * (snapV0.header.Redshift + 1), lw=2, ls='--', color='.75')\n",
    "ax.axhline(2.725 * (snap0.header.Redshift + 1), lw=2, ls='--', \n",
    "           color=(0.2980392156862745, 0.4470588235294118, 0.6901960784313725))\n",
    "ax.axhline(2.725 * (snap.header.Redshift + 1), lw=2, ls='--', \n",
    "           color=(0.7686274509803922, 0.3058823529411765, 0.3215686274509804))\n",
    "ax.axhline(2.725 * (21 + 1), lw=2, ls='--', color='.5')\n",
    "ax = pyGadget.multiplot.Phase.temp(snapV0,ax, rasterized=True, color='.75', cmbline=False)\n",
    "ax = pyGadget.multiplot.Phase.temp(snap0,ax, rasterized=True, cmap=plt.cm.Blues_r, cmbline=False)\n",
    "ax = pyGadget.multiplot.Phase.temp(snap,ax, rasterized=True, cmap=plt.cm.Reds_r, cmbline=False)\n",
    "ax.plot(ars_temp.n, ars_temp.temp, color='.75', lw=3, ls='-', label=\"one-zone model\")\n",
    "ax.plot(ars_temp_hiSF.n, ars_temp_hiSF.temp, color='.5', lw=3, ls='-', label=\"one-zone, high SF\")\n",
    "#ax.plot(ars_temp_loSF.n, ars_temp_loSF.temp, color='.5', lw=3, ls='--', label=\"one-zone, low SF\")\n",
    "ax.set_xlim(2e-3,1e8)\n",
    "fig.savefig('figures/phase_diagrams/halo2_1zone_comparison.png', bbox_inches='tight')"
   ]
  },
  {
   "cell_type": "code",
   "execution_count": null,
   "metadata": {
    "collapsed": false
   },
   "outputs": [],
   "source": [
    "fig,ax = plt.subplots(figsize=(12,9))\n",
    "ax.axhline(2.725 * (snap0.header.Redshift + 1), lw=2, ls='--', zorder=1,\n",
    "           color=(0.2980392156862745, 0.4470588235294118, 0.6901960784313725))\n",
    "ax.axhline(2.725 * (snap.header.Redshift + 1), lw=2, ls='--', zorder=2,\n",
    "           color=(0.7686274509803922, 0.3058823529411765, 0.3215686274509804))\n",
    "ax.axhline(2.725 * (21 + 1), lw=2, ls='--', color='.5', zorder=1)\n",
    "ax = pyGadget.multiplot.Phase.temp(snap0,ax, rasterized=True, cmap=plt.cm.Blues_r, cmbline=False, zorder=2)\n",
    "ax = pyGadget.multiplot.Phase.temp(snap,ax, rasterized=True, cmap=plt.cm.autumn, cmbline=False, zorder=2)\n",
    "ax.plot(ars_temp_hiSF.n, ars_temp_hiSF.temp, color='.5', lw=3, ls='-', zorder=3, label=\"one-zone, high SF\")\n",
    "ax.set_xlim(2e-3,1e8)\n",
    "fig.savefig('figures/phase_diagrams/halo2_cr05_comparison.png', bbox_inches='tight')"
   ]
  },
  {
   "cell_type": "code",
   "execution_count": null,
   "metadata": {
    "collapsed": false
   },
   "outputs": [],
   "source": [
    "fig,ax = plt.subplots(figsize=(12,9))\n",
    "ax.axhline(2.725 * (snapV0.header.Redshift + 1), lw=2, ls='--', color='.75', zorder=1)\n",
    "ax.axhline(2.725 * (snapV.header.Redshift + 1), lw=2, ls='--', color='.5', zorder=1)\n",
    "ax.axhline(2.725 * (21 + 1), lw=2, ls='--', color='.25', zorder=1)\n",
    "ax = pyGadget.multiplot.Phase.temp(snapV0,ax, rasterized=True, color='.75', cmbline=False, zorder=2)\n",
    "ax = pyGadget.multiplot.Phase.temp(snapV,ax, rasterized=True, color='.5', cmbline=False, zorder=2)\n",
    "ax.plot(ars_temp.n, ars_temp.temp, color='.25', lw=3, ls='-', label=\"one-zone model\")\n",
    "ax.set_xlim(2e-3,1e8)\n",
    "fig.savefig('figures/phase_diagrams/halo2_1zone_temp.png', bbox_inches='tight')"
   ]
  },
  {
   "cell_type": "code",
   "execution_count": null,
   "metadata": {
    "collapsed": true
   },
   "outputs": [],
   "source": []
  }
 ],
 "metadata": {
  "kernelspec": {
   "display_name": "Python 2",
   "language": "python",
   "name": "python2"
  },
  "language_info": {
   "codemirror_mode": {
    "name": "ipython",
    "version": 2
   },
   "file_extension": ".py",
   "mimetype": "text/x-python",
   "name": "python",
   "nbconvert_exporter": "python",
   "pygments_lexer": "ipython2",
   "version": "2.7.9"
  }
 },
 "nbformat": 4,
 "nbformat_minor": 0
}
