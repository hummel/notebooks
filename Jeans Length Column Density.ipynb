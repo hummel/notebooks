{
 "cells": [
  {
   "cell_type": "code",
   "execution_count": null,
   "metadata": {
    "collapsed": false
   },
   "outputs": [],
   "source": [
    "%matplotlib inline\n",
    "import numpy as np\n",
    "import pandas as pd\n",
    "import seaborn as sns\n",
    "import matplotlib as mpl\n",
    "#mpl.rc('text', usetex=True)\n",
    "from matplotlib import pyplot as plt\n",
    "import pyGadget\n",
    "sns.set_context('poster')"
   ]
  },
  {
   "cell_type": "code",
   "execution_count": null,
   "metadata": {
    "collapsed": false
   },
   "outputs": [],
   "source": [
    "sim = pyGadget.sim.Simulation('stampede/vanilla',length='AU')"
   ]
  },
  {
   "cell_type": "code",
   "execution_count": null,
   "metadata": {
    "collapsed": false
   },
   "outputs": [],
   "source": [
    "snap = sim.load_snapshot(355)"
   ]
  },
  {
   "cell_type": "code",
   "execution_count": null,
   "metadata": {
    "collapsed": false
   },
   "outputs": [],
   "source": [
    "n = snap.gas.get_number_density()\n",
    "T = snap.gas.get_temperature()\n",
    "Lj = snap.gas.get_jeans_length()\n",
    "snap.close()"
   ]
  },
  {
   "cell_type": "code",
   "execution_count": null,
   "metadata": {
    "collapsed": false
   },
   "outputs": [],
   "source": [
    "n,T,Lj = pyGadget.analyze.data_slice(n >= .95, n,T,Lj)"
   ]
  },
  {
   "cell_type": "code",
   "execution_count": null,
   "metadata": {
    "collapsed": false
   },
   "outputs": [],
   "source": [
    "def N_p(n):\n",
    "    exponent = 0.532301 * np.log10(n) + 19.636552\n",
    "    return 10**exponent\n",
    "\n",
    "def N_eq(n):\n",
    "    exponent = 0.626204 * np.log10(n) + 19.573490\n",
    "    return 10**exponent\n",
    "\n",
    "Omega_pole = 1.840282\n",
    "fourpi = 4 * np.pi\n",
    "a = 2 * Omega_pole / fourpi\n",
    "b = (fourpi - 2*Omega_pole)/fourpi\n",
    "def N_eff(n):\n",
    "    x = N_p(n)\n",
    "    y = N_eq(n)\n",
    "    return a*x + b*y\n",
    "\n",
    "Neff = N_eff(n)\n",
    "Np = N_p(n)"
   ]
  },
  {
   "cell_type": "code",
   "execution_count": null,
   "metadata": {
    "collapsed": false
   },
   "outputs": [],
   "source": [
    "plt.loglog(n,n*Lj, 'o', ms=2, label=r'$n \\times L_J$')\n",
    "plt.plot(n, Neff, label=r'$N_{\\rm eff}$')\n",
    "plt.plot(n, Np, label=r'$N_{\\rm pole}$')\n",
    "plt.legend(loc=0)\n",
    "plt.xlim(1e0,1e12)\n",
    "plt.ylabel('Column Density [cm$^{-2}$]')\n",
    "plt.xlabel('Number Density [cm$^{-3}$]')\n",
    "plt.savefig(\"figures/optical_depth/column_density.png\", bbox_inches=\"tight\")"
   ]
  },
  {
   "cell_type": "code",
   "execution_count": null,
   "metadata": {
    "collapsed": false
   },
   "outputs": [],
   "source": [
    "plt.loglog(n,Lj, 'o', ms=2, label=r'$L_J$')\n",
    "plt.plot(n, Neff/n, label=r'$N_{\\rm eff} / n$')\n",
    "plt.plot(n, Np/n, label=r'$N_{\\rm pole} / n$')\n",
    "plt.legend(loc=0)\n",
    "plt.xlim(1e0,1e12)\n",
    "plt.ylabel('Estimated Cloud Depth [cm]')\n",
    "plt.xlabel('Number Density [cm$^{-3}$]')"
   ]
  },
  {
   "cell_type": "code",
   "execution_count": null,
   "metadata": {
    "collapsed": false
   },
   "outputs": [],
   "source": [
    "plt.semilogx(n, Neff/(n*Lj), 'o', ms=2)\n",
    "plt.axhline(1)"
   ]
  },
  {
   "cell_type": "code",
   "execution_count": null,
   "metadata": {
    "collapsed": false
   },
   "outputs": [],
   "source": [
    "#First, define beta.\n",
    "def beta(epsilon):\n",
    "    mHc2 = 938272046 #rest energy of a proton in eV\n",
    "    return np.sqrt(1 - (epsilon/mHc2 + 1)**(-2))\n",
    "\n",
    "#Define f(epsilon).\n",
    "def f(epsilon):\n",
    "    B0 = 0.01\n",
    "    B = beta(epsilon)\n",
    "    return (1 + 0.0185 * np.log(B)) * 2*B**2 / (B0**3 + 2*B**3)\n",
    "\n",
    "def dedt(n, epsilon):\n",
    "    return 1.82e-7 * n * f(epsilon)\n",
    "\n",
    "def Dp(n,epsilon):\n",
    "    return beta(epsilon) * 2.99e10 * epsilon / dedt(n,epsilon)"
   ]
  },
  {
   "cell_type": "code",
   "execution_count": null,
   "metadata": {
    "collapsed": false
   },
   "outputs": [],
   "source": [
    "energy = np.logspace(6,12, 100)\n",
    "for nd in np.logspace(0,12, 6):\n",
    "    plt.loglog(energy, Dp(nd,energy)/3.08e18)"
   ]
  },
  {
   "cell_type": "code",
   "execution_count": null,
   "metadata": {
    "collapsed": false
   },
   "outputs": [],
   "source": [
    "plt.loglog(n,Lj, 'o', ms=2, label=r'$L_J$')\n",
    "plt.plot(n, Neff/n, label=r'$N_{\\rm eff} / n$')\n",
    "plt.plot(n, Np/n, label=r'$N_{\\rm pole} / n$')\n",
    "plt.plot(n, Dp(n,1e6), label=r'D$_{\\rm p}(\\epsilon = 10^6 {\\rm eV})$')\n",
    "plt.plot(n, Dp(n,1e8), label=r'D$_{\\rm p}(\\epsilon = 10^8 {\\rm eV})$')\n",
    "plt.legend(loc=0)\n",
    "plt.xlim(1e0,1e12)\n",
    "plt.ylabel('Cloud Depth [cm]')\n",
    "plt.xlabel('Number Density [cm$^{-3}$]')\n",
    "plt.savefig(\"figures/optical_depth/cloud_depth.png\", bbox_inches=\"tight\")"
   ]
  },
  {
   "cell_type": "code",
   "execution_count": null,
   "metadata": {
    "collapsed": false
   },
   "outputs": [],
   "source": [
    "plt.loglog(n, Lj/Dp(n,1e6), 'o', ms=2, label=r'L$_J$/D$_{\\rm p}(\\epsilon = 10^6 {\\rm eV})$')\n",
    "plt.loglog(n, Neff/n/Dp(n,1e6), label=r'($N_{\\rm eff} / n$)/D$_{\\rm p}(\\epsilon = 10^6 {\\rm eV})$')\n",
    "plt.loglog(n, Lj/Dp(n,1e8), 'o', ms=2, label=r'L$_J$/D$_{\\rm p}(\\epsilon = 10^8 {\\rm eV})$')\n",
    "plt.loglog(n, Neff/n/Dp(n,1e8), label=r'($N_{\\rm eff} / n$)/D$_{\\rm p}(\\epsilon = 10^8 {\\rm eV})$')\n",
    "plt.axhline(1, linestyle='--', color='k')\n",
    "plt.legend(loc=0)\n",
    "plt.xlim(1e0,1e12)\n",
    "plt.ylabel('Optical Depth')\n",
    "plt.xlabel('Number Density [cm$^{-3}$]')\n",
    "plt.savefig(\"figures/optical_depth/optical_depth.png\", bbox_inches=\"tight\")"
   ]
  }
 ],
 "metadata": {
  "kernelspec": {
   "display_name": "Python 2",
   "language": "python",
   "name": "python2"
  },
  "language_info": {
   "codemirror_mode": {
    "name": "ipython",
    "version": 2
   },
   "file_extension": ".py",
   "mimetype": "text/x-python",
   "name": "python",
   "nbconvert_exporter": "python",
   "pygments_lexer": "ipython2",
   "version": "2.7.9"
  }
 },
 "nbformat": 4,
 "nbformat_minor": 0
}
