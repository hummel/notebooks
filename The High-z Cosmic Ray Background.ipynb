{
 "metadata": {
  "name": "",
  "signature": "sha256:ac247301a576facc56952070bd41ae1fe67fb5be20837fb858e1af061abfc004"
 },
 "nbformat": 3,
 "nbformat_minor": 0,
 "worksheets": [
  {
   "cells": [
    {
     "cell_type": "heading",
     "level": 1,
     "metadata": {},
     "source": [
      "Estimating the average Cosmic Ray backgound at high redshifts"
     ]
    },
    {
     "cell_type": "markdown",
     "metadata": {},
     "source": [
      "The primary source of cosmic rays at high redshifts will be from supernova (SN) explosions.  Given an estimate of the Star Formation Rate Density (SFRD), we can calculate the corresponding energy density of cosmic rays in space ($u_{\\rm \\small CR}$) by assuming values for the number of SNe produced per unit of star-forming material, the typical energy of a SN, and the fraction of a SN's explosion energy that goes into cosmic rays:\n",
      "\n",
      "$$u_{\\rm \\small CR}(z) = f_{\\rm \\small CR} f_{\\rm \\small SN} E_{\\rm \\small SN} \\Psi_{*}(z) \\; t_{\\rm \\small H}(z) (1+z)^3,$$\n",
      "\n",
      "where $$f_{\\rm \\small CR} \\equiv {\\rm fraction \\; of \\; SN \\; energy \\; going \\; into \\; cosmic \\; rays}$$\n",
      "\n",
      "$$f_{\\rm \\small SN} \\equiv {\\rm number \\; of \\; SN \\; occuring \\; per \\; solar \\; mass  \\; of \\; star-forming \\; material}$$\n",
      "\n",
      "$$E_{\\rm \\small SN} \\equiv {\\rm typical \\; SN \\; explosion \\; energy}$$\n",
      "\n",
      "$$\\Psi_*(z) \\equiv {\\rm comoving \\; SFR \\; in \\;M}_{\\odot} \\; {\\rm yr}^{-1} \\; {\\rm Mpc}^{-3}$$\n",
      "\n",
      "$$t_{\\rm \\small H} \\equiv {\\rm Hubble \\; time \\; at \\; redshift \\;}z$$\n",
      "\n",
      "Here, $t_{\\rm \\small H}$ accounts for the time X-rays have had to propagate through the universe since their creation, and the factor of $(1+z)^3$ is required to convert from a comoving SFRD to a physical X-ray energy density."
     ]
    },
    {
     "cell_type": "heading",
     "level": 2,
     "metadata": {},
     "source": [
      "Assumptions:"
     ]
    },
    {
     "cell_type": "markdown",
     "metadata": {},
     "source": [
      "We assume that each SN producing star lives for a relatively brief time before dying as a core-collapse SN with $E_{\\rm \\small SN} = 10^{51}\\,{\\rm erg}$."
     ]
    },
    {
     "cell_type": "code",
     "collapsed": false,
     "input": [
      "E_sn = 1e51"
     ],
     "language": "python",
     "metadata": {},
     "outputs": [],
     "prompt_number": 1
    },
    {
     "cell_type": "markdown",
     "metadata": {},
     "source": [
      "We assume one SN is produced per $50\\,M_{\\odot}$ of stars formed."
     ]
    },
    {
     "cell_type": "code",
     "collapsed": false,
     "input": [
      "f_sn = .02 # == 1/50"
     ],
     "language": "python",
     "metadata": {},
     "outputs": [],
     "prompt_number": 2
    },
    {
     "cell_type": "markdown",
     "metadata": {},
     "source": [
      "We assume ten percent of each SN's energy is ultimately released as Cosmic Rays."
     ]
    },
    {
     "cell_type": "code",
     "collapsed": false,
     "input": [
      "f_cr = .1"
     ],
     "language": "python",
     "metadata": {},
     "outputs": [],
     "prompt_number": 3
    },
    {
     "cell_type": "heading",
     "level": 2,
     "metadata": {},
     "source": [
      "Assumed Star Formation Rate Density:"
     ]
    },
    {
     "cell_type": "markdown",
     "metadata": {},
     "source": [
      "We use the star formation rate density determined by Greif & Bromm (2006).  To do so we load the file 'sfr_GB06.dat' containing the comoving SFR as a function of redshift in units of solar masses per year per cubic Mpc. This was extracted from Figure 7 (dotted line) of GB06 and extended to redshift 100 using a log-linear extrapolation."
     ]
    },
    {
     "cell_type": "code",
     "collapsed": false,
     "input": [
      "import os\n",
      "from astropy.io import ascii\n",
      "fname = '../sfr/sfr_GB06.dat'\n",
      "sfdata = ascii.read(fname)\n",
      "z = sfdata['z']\n",
      "sfr = sfdata['sfr']"
     ],
     "language": "python",
     "metadata": {},
     "outputs": [],
     "prompt_number": 4
    },
    {
     "cell_type": "heading",
     "level": 2,
     "metadata": {},
     "source": [
      "Calculate $u_{\\rm \\small CR}$:"
     ]
    },
    {
     "cell_type": "markdown",
     "metadata": {},
     "source": [
      "First calculate the hubble time for each redshift point and convert it to years."
     ]
    },
    {
     "cell_type": "code",
     "collapsed": false,
     "input": [
      "import astropy\n",
      "from astropy.cosmology import WMAP9\n",
      "from astropy import units\n",
      "t_H = WMAP9.age(z) #returns age of universe in Gyr\n",
      "\n",
      "tH = t_H.to(units.yr).value #just want the array, not the unit information\n",
      "z3 = (1+z)**3 # (1+z)^3 (defined for convenience)"
     ],
     "language": "python",
     "metadata": {},
     "outputs": [],
     "prompt_number": 5
    },
    {
     "cell_type": "markdown",
     "metadata": {},
     "source": [
      "Now calculate $u_{\\rm \\small CR}$ and convert to cgs units."
     ]
    },
    {
     "cell_type": "code",
     "collapsed": false,
     "input": [
      "# CR energy density (erg/Mpc^3)\n",
      "u_cr = f_cr * f_sn * E_sn * tH * sfr * z3\n",
      "# Convert to cgs units (Mpc --> cm)\n",
      "u_cr /= (3.08e24)**3"
     ],
     "language": "python",
     "metadata": {},
     "outputs": [],
     "prompt_number": 6
    },
    {
     "cell_type": "markdown",
     "metadata": {},
     "source": [
      "Now let's make some plots."
     ]
    },
    {
     "cell_type": "code",
     "collapsed": false,
     "input": [
      "%matplotlib inline\n",
      "from matplotlib import pyplot as plt\n",
      "plt.rcParams['figure.figsize'] = (12,10)"
     ],
     "language": "python",
     "metadata": {},
     "outputs": [],
     "prompt_number": 7
    },
    {
     "cell_type": "markdown",
     "metadata": {},
     "source": [
      "First lets plot the SFR as a function of redshift:"
     ]
    },
    {
     "cell_type": "code",
     "collapsed": false,
     "input": [
      "plt.rc('font', size=18.)\n",
      "plt.semilogy(z,sfr, 'k')\n",
      "plt.plot(21, 2e-3, 'ro')\n",
      "plt.plot(21, 2e-2, 'ro')\n",
      "plt.xlim(20,60)\n",
      "plt.ylim(1e-15,.1)\n",
      "plt.xlabel('Redshift')\n",
      "plt.ylabel(r'SFR [M$_{\\odot}$ yr$^{-1} Mpc$^{-3}$]')\n",
      "plt.savefig('figures/sfr.png')"
     ],
     "language": "python",
     "metadata": {},
     "outputs": [
      {
       "metadata": {},
       "output_type": "display_data",
       "png": "[encoded data removed]",
       "text": [
        "<matplotlib.figure.Figure at 0x2b94f8a0ba50>"
       ]
      }
     ],
     "prompt_number": 8
    },
    {
     "cell_type": "markdown",
     "metadata": {},
     "source": [
      "Now plot u<sub>CR</sub> as a function of redshift:"
     ]
    },
    {
     "cell_type": "code",
     "collapsed": false,
     "input": [
      "tH21 = WMAP9.age(21).to(units.yr).value"
     ],
     "language": "python",
     "metadata": {},
     "outputs": [],
     "prompt_number": 9
    },
    {
     "cell_type": "code",
     "collapsed": false,
     "input": [
      "plt.plot(z,np.log10(u_cr), 'k')\n",
      "plt.plot(21, np.log10(f_cr * f_sn * E_sn * tH21 * 2e-3 * 22**3 / (3.08e24)**3), 'ro')\n",
      "plt.plot(21, np.log10(f_cr * f_sn * E_sn * tH21 * 2e-2 * 22**3 / (3.08e24)**3), 'ro')\n",
      "plt.xlim(20,60)\n",
      "plt.ylim(-30,-10)\n",
      "plt.xlabel('Redshift')\n",
      "plt.ylabel(r'Log u$_{\\textsc{cr}}$ [erg cm$^{-3}$]')\n",
      "plt.savefig('figures/u_cr.png', bbox_inches='tight')"
     ],
     "language": "python",
     "metadata": {},
     "outputs": [
      {
       "metadata": {},
       "output_type": "display_data",
       "png": "[encoded data removed]",
       "text": [
        "<matplotlib.figure.Figure at 0x2b94f8a58390>"
       ]
      }
     ],
     "prompt_number": 10
    },
    {
     "cell_type": "markdown",
     "metadata": {},
     "source": [
      "Save this to the file 'jxr.dat' for loading into GADGET."
     ]
    },
    {
     "cell_type": "code",
     "collapsed": false,
     "input": [
      "udata = np.zeros((z.size,2))\n",
      "udata[:,0] = z[::-1]\n",
      "udata[:,1] = u_cr[::-1]\n",
      "np.savetxt('ucr.dat', udata, fmt='%.8e %.8e')"
     ],
     "language": "python",
     "metadata": {},
     "outputs": [],
     "prompt_number": 11
    },
    {
     "cell_type": "heading",
     "level": 1,
     "metadata": {},
     "source": [
      "Ionization and Heating"
     ]
    },
    {
     "cell_type": "markdown",
     "metadata": {},
     "source": [
      "Following Stacy & Bromm (2007), we calculate the rates for ionization ($k_{\\rm \\small CR}$) and heating ($\\Gamma_{\\rm \\small CR}$) of neutral hydrogen by cosmic rays as follows:\n",
      "    $$\\Gamma_{\\rm \\small CR} = n_{\\rm \\small H} E_{\\rm \\small heat} k_{\\rm \\small CR}$$\n",
      "and\n",
      "    $$\n",
      "    k_{\\rm \\small CR} = \\frac{1.82\\times10^{-7}\\,{\\rm \\small eV\\,s}^{-1}}{50\\,{\\rm \\small eV}} \n",
      "    \\int_{\\epsilon_{\\rm min}}^{\\epsilon_{\\rm max}} f(\\epsilon) \\frac{dn_{\\rm \\tiny CR}}{d\\epsilon} d\\epsilon,\n",
      "    $$\n",
      "where\n",
      "    $$f(\\epsilon) = (1 + 0.0185 \\,{\\rm ln}\\beta )\\, \\frac{2 \\beta^2}{\\beta_0^3 + 2 \\beta^3}$$\n",
      "and\n",
      "    $$\\beta =  \\sqrt{1 - \\left( \\frac{\\epsilon}{m_{\\rm \\tiny H}c^2}+1 \\right)^{-2}},$$\n",
      "and the differential CR energy spectrum is given by\n",
      "    $$\\frac{dn_{\\rm \\tiny CR}}{d\\epsilon} = \\frac{u_{\\rm \\small CR} \\epsilon^{-2}}{{\\rm ln}\\,\\epsilon_{\\rm max}{\\large /}\\epsilon_{\\rm min}}.$$\n",
      "\n",
      "Here, $n_{\\rm \\small H}$ is the number density of hydrogen, $E_{\\rm \\small heat}$ is the energy deposited as heat in a neutral medium, $m_{\\rm \\small H}$ is the mass of hydrogen, $c$ is the speed of light, $\\beta = v/c,$ and $\\beta_0$ is the cutoff below which the interaction between CRs and the gas decreases sharply.\n",
      "\n",
      "**Note that we have assumed that the gas in question remains optically thin, such that attenuation of the incident CR flux is negligible.**"
     ]
    },
    {
     "cell_type": "code",
     "collapsed": false,
     "input": [
      "#First, define beta.\n",
      "def beta(epsilon):\n",
      "    mHc2 = 938272046 #rest energy of a proton in eV\n",
      "    return np.sqrt(1 - (epsilon/mHc2 + 1)**(-2))"
     ],
     "language": "python",
     "metadata": {},
     "outputs": [],
     "prompt_number": 12
    },
    {
     "cell_type": "code",
     "collapsed": false,
     "input": [
      "#Define f(epsilon).\n",
      "def f(epsilon):\n",
      "    B0 = 0.01\n",
      "    B = beta(epsilon)\n",
      "    return (1 + 0.0185 * np.log(B)) * 2*B**2 / (B0**3 + 2*B**3)"
     ],
     "language": "python",
     "metadata": {},
     "outputs": [],
     "prompt_number": 13
    },
    {
     "cell_type": "code",
     "collapsed": false,
     "input": [
      "#Define differential energy spectrum.\n",
      "def dnCR(epsilon, ucr, emin, emax):\n",
      "    return ucr / epsilon / epsilon / np.log(emax/emin)"
     ],
     "language": "python",
     "metadata": {},
     "outputs": [],
     "prompt_number": 14
    },
    {
     "cell_type": "code",
     "collapsed": false,
     "input": [
      "def integrand(epsilon, emin, emax):\n",
      "    return f(epsilon) / epsilon / epsilon / np.log(emax/emin)"
     ],
     "language": "python",
     "metadata": {},
     "outputs": [],
     "prompt_number": 15
    },
    {
     "cell_type": "heading",
     "level": 4,
     "metadata": {},
     "source": [
      "Check to see that what we get matches Athena's parameterization."
     ]
    },
    {
     "cell_type": "markdown",
     "metadata": {},
     "source": [
      "First, do the integral over epsilon, from $10^6$eV to $10^{15}$eV.  We have to do it by hand because scipy's built-in integration routines all use quadrature, which doesn't work for a power law over many orders of magnitude."
     ]
    },
    {
     "cell_type": "code",
     "collapsed": false,
     "input": [
      "emin = 1e6\n",
      "emax = 1e15\n",
      "n_steps = 1000\n",
      "integral = 0.0\n",
      "\n",
      "logmin = np.log10(emin)\n",
      "logmax = np.log10(emax)\n",
      "for i in xrange(n_steps):\n",
      "    epsilon = (logmax - logmin) / n_steps * (i + 0.5) + logmin\n",
      "    e_start = (logmax - logmin) / n_steps* (i) + logmin\n",
      "    e_stop = (logmax - logmin) / n_steps * (i + 1.0) + logmin\n",
      "    epsilon = 10**epsilon\n",
      "    e_start = 10**e_start\n",
      "    e_stop = 10**e_stop\n",
      "    De = e_stop - e_start\n",
      "    #print epsilon, f(epsilon), De, integrand(epsilon, emin, emax)\n",
      "    integral += integrand(epsilon, emin, emax) * De\n",
      "integral = integral * 1.82e-7 / 50\n",
      "print integral"
     ],
     "language": "python",
     "metadata": {},
     "outputs": [
      {
       "output_type": "stream",
       "stream": "stdout",
       "text": [
        "2.40709315428e-15\n"
       ]
      }
     ],
     "prompt_number": 16
    },
    {
     "cell_type": "markdown",
     "metadata": {},
     "source": [
      "Now, Athena's parameterization uses $U_{\\rm \\small CR} = 2\\times10^{-15} {\\rm erg\\,cm^{-3}}$, $E_{\\rm \\small heat} = 6{\\rm eV}$, and $n_{\\rm \\small H} = 1{\\rm cm^{-3}}.$"
     ]
    },
    {
     "cell_type": "code",
     "collapsed": false,
     "input": [
      "u_athena = 2e-15 * 6.24150934e11 # convert from erg to eV\n",
      "eHeat =  6 / 6.24150934e11\n",
      "ion_rate = u_athena * integral\n",
      "heat_rate = ion_rate * eHeat"
     ],
     "language": "python",
     "metadata": {},
     "outputs": [],
     "prompt_number": 17
    },
    {
     "cell_type": "markdown",
     "metadata": {},
     "source": [
      "Plugging those values in and making sure to correctly convert from erg to eV, we get the following for $k_{\\rm \\small CR}$ and $\\Gamma_{\\rm \\small CR}$:"
     ]
    },
    {
     "cell_type": "code",
     "collapsed": false,
     "input": [
      "print ion_rate"
     ],
     "language": "python",
     "metadata": {},
     "outputs": [
      {
       "output_type": "stream",
       "stream": "stdout",
       "text": [
        "3.00477888093e-18\n"
       ]
      }
     ],
     "prompt_number": 18
    },
    {
     "cell_type": "code",
     "collapsed": false,
     "input": [
      "print heat_rate"
     ],
     "language": "python",
     "metadata": {},
     "outputs": [
      {
       "output_type": "stream",
       "stream": "stdout",
       "text": [
        "2.88851178513e-29\n"
       ]
      }
     ],
     "prompt_number": 19
    },
    {
     "cell_type": "markdown",
     "metadata": {},
     "source": [
      "These values are off from Athena's parameterizations by about 2x.  I haven't figured out exactly what accounts for the discrepancy yet, but it's close enough to start a simulation."
     ]
    }
   ],
   "metadata": {}
  }
 ]
}