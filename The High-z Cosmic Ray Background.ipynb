{
 "metadata": {
  "name": "",
  "signature": "sha256:e3031c5c7f013b0695bfcc616db8ef02638173130d5e8b890b720dd5711c993a"
 },
 "nbformat": 3,
 "nbformat_minor": 0,
 "worksheets": [
  {
   "cells": [
    {
     "cell_type": "heading",
     "level": 1,
     "metadata": {},
     "source": [
      "Estimating the average Cosmic Ray backgound at high redshifts"
     ]
    },
    {
     "cell_type": "markdown",
     "metadata": {},
     "source": [
      "The primary source of cosmic rays at high redshifts will be from supernova (SN) explosions.  Given an estimate of the Star Formation Rate Density (SFRD), we can calculate the corresponding energy density of cosmic rays in space ($u_{\\rm \\small CR}$) by assuming values for the number of SNe produced per unit of star-forming material, the typical energy of a SN, and the fraction of a SN's explosion energy that goes into cosmic rays:\n",
      "\n",
      "$$u_{\\rm \\small CR}(z) = f_{\\rm \\small CR} f_{\\rm \\small SN} E_{\\rm \\small SN} \\Psi_{*}(z) \\; t_{\\rm \\small H}(z) (1+z)^3,$$\n",
      "\n",
      "where $$f_{\\rm \\small CR} \\equiv {\\rm fraction \\; of \\; SN \\; energy \\; going \\; into \\; cosmic \\; rays}$$\n",
      "\n",
      "$$f_{\\rm \\small SN} \\equiv {\\rm number \\; of \\; SN \\; occuring \\; per \\; solar \\; mass  \\; of \\; star-forming \\; material}$$\n",
      "\n",
      "$$E_{\\rm \\small SN} \\equiv {\\rm typical \\; SN \\; explosion \\; energy}$$\n",
      "\n",
      "$$\\Psi_*(z) \\equiv {\\rm comoving \\; SFR \\; in \\;M}_{\\odot} \\; {\\rm yr}^{-1} \\; {\\rm Mpc}^{-3}$$\n",
      "\n",
      "$$t_{\\rm \\small H} \\equiv {\\rm Hubble \\; time \\; at \\; redshift \\;}z$$\n",
      "\n",
      "Here, $t_{\\rm \\small H}$ accounts for the time X-rays have had to propagate through the universe since their creation, and the factor of $(1+z)^3$ is required to convert from a comoving SFRD to a physical X-ray energy density."
     ]
    },
    {
     "cell_type": "heading",
     "level": 2,
     "metadata": {},
     "source": [
      "Assumptions:"
     ]
    },
    {
     "cell_type": "markdown",
     "metadata": {},
     "source": [
      "We assume that each SN producing star lives for a relatively brief time before dying as a core-collapse SN with $E_{\\rm \\small SN} = 10^{51}\\,{\\rm erg}$."
     ]
    },
    {
     "cell_type": "code",
     "collapsed": false,
     "input": [
      "E_sn = 1e51"
     ],
     "language": "python",
     "metadata": {},
     "outputs": [],
     "prompt_number": 1
    },
    {
     "cell_type": "markdown",
     "metadata": {},
     "source": [
      "We assume one SN is produced per $50\\,M_{\\odot}$ of stars formed."
     ]
    },
    {
     "cell_type": "code",
     "collapsed": false,
     "input": [
      "f_sn = .02 # == 1/50"
     ],
     "language": "python",
     "metadata": {},
     "outputs": [],
     "prompt_number": 2
    },
    {
     "cell_type": "markdown",
     "metadata": {},
     "source": [
      "We assume ten percent of each SN's energy is ultimately released as Cosmic Rays."
     ]
    },
    {
     "cell_type": "code",
     "collapsed": false,
     "input": [
      "f_cr = .1"
     ],
     "language": "python",
     "metadata": {},
     "outputs": [],
     "prompt_number": 3
    },
    {
     "cell_type": "heading",
     "level": 2,
     "metadata": {},
     "source": [
      "Assumed Star Formation Rate Density:"
     ]
    },
    {
     "cell_type": "markdown",
     "metadata": {},
     "source": [
      "We use the star formation rate density determined by Greif & Bromm (2006).  To do so we load the file 'sfr_GB06.dat' containing the comoving SFR as a function of redshift in units of solar masses per year per cubic Mpc. This was extracted from Figure 7 (dotted line) of GB06 and extended to redshift 100 using a log-linear extrapolation."
     ]
    },
    {
     "cell_type": "code",
     "collapsed": false,
     "input": [
      "import os\n",
      "from astropy.io import ascii\n",
      "fname = '../sfr/sfr_GB06.dat'\n",
      "sfdata = ascii.read(fname)\n",
      "z = sfdata['z']\n",
      "sfr = sfdata['sfr']"
     ],
     "language": "python",
     "metadata": {},
     "outputs": []
    },
    {
     "cell_type": "heading",
     "level": 2,
     "metadata": {},
     "source": [
      "Calculate $u_{\\rm \\small CR}$:"
     ]
    },
    {
     "cell_type": "markdown",
     "metadata": {},
     "source": [
      "First calculate the hubble time for each redshift point and convert it to years."
     ]
    },
    {
     "cell_type": "code",
     "collapsed": false,
     "input": [
      "import astropy\n",
      "from astropy.cosmology import WMAP9\n",
      "from astropy import units\n",
      "t_H = WMAP9.age(z) #returns age of universe in Gyr\n",
      "\n",
      "tH = t_H.to(units.yr).value #just want the array, not the unit information\n",
      "z3 = (1+z)**3 # (1+z)^3 (defined for convenience)"
     ],
     "language": "python",
     "metadata": {},
     "outputs": []
    },
    {
     "cell_type": "markdown",
     "metadata": {},
     "source": [
      "Now calculate $u_{\\rm \\small CR}$ and convert to cgs units."
     ]
    },
    {
     "cell_type": "code",
     "collapsed": false,
     "input": [
      "# CR energy density (erg/Mpc^3)\n",
      "u_cr = f_cr * f_sn * E_sn * tH * sfr * z3\n",
      "# Convert to cgs units (Mpc --> cm)\n",
      "u_cr /= (3.08e24)**3"
     ],
     "language": "python",
     "metadata": {},
     "outputs": []
    },
    {
     "cell_type": "markdown",
     "metadata": {},
     "source": [
      "Now let's make some plots."
     ]
    },
    {
     "cell_type": "code",
     "collapsed": false,
     "input": [
      "%matplotlib inline\n",
      "import matplotlib as mpl\n",
      "mpl.rc('text', usetex=True)\n",
      "from matplotlib import pyplot as plt\n",
      "#plt.rcParams['figure.figsize'] = (12,10)\n",
      "import seaborn as sns\n",
      "sns.set_context('poster')"
     ],
     "language": "python",
     "metadata": {},
     "outputs": []
    },
    {
     "cell_type": "markdown",
     "metadata": {},
     "source": [
      "First lets plot the SFR as a function of redshift, overlaying the numbers Athena used in red:"
     ]
    },
    {
     "cell_type": "code",
     "collapsed": false,
     "input": [
      "#plt.rc('font', size=18.)\n",
      "plt.semilogy(z,sfr, '.25')\n",
      "plt.semilogy(z,100*sfr, c='.25', ls='--')\n",
      "plt.scatter([21]*2, [2e-2, 2e-3],s=50, color=\"#e74c3c\")\n",
      "plt.xlim(20,60)\n",
      "plt.ylim(1e-15,.1)\n",
      "plt.xlabel('Redshift')\n",
      "plt.ylabel(r'SFR [M$_{\\odot}$ yr$^{-1}$ Mpc$^{-3}$]')\n",
      "plt.savefig('figures/sfr.png')"
     ],
     "language": "python",
     "metadata": {},
     "outputs": []
    },
    {
     "cell_type": "markdown",
     "metadata": {},
     "source": [
      "Now plot u<sub>CR</sub> as a function of redshift:"
     ]
    },
    {
     "cell_type": "code",
     "collapsed": false,
     "input": [
      "tH21 = WMAP9.age(21).to(units.yr).value"
     ],
     "language": "python",
     "metadata": {},
     "outputs": []
    },
    {
     "cell_type": "code",
     "collapsed": false,
     "input": [
      "import numpy as np\n",
      "def find_closest(A, target):\n",
      "    #A must be sorted\n",
      "    idx = A.searchsorted(target)\n",
      "    idx = np.clip(idx, 1, len(A)-1)\n",
      "    left = A[idx-1]\n",
      "    right = A[idx]\n",
      "    idx -= target - left < right - target\n",
      "    return idx"
     ],
     "language": "python",
     "metadata": {},
     "outputs": []
    },
    {
     "cell_type": "code",
     "collapsed": false,
     "input": [
      "plt.plot(z,np.log10(u_cr), '.25', lw=4)\n",
      "plt.plot([20,25.0240481871],[np.log10(u_cr[find_closest(z,25.0240481871)])]*2, c=\"#e74c3c\")\n",
      "plt.plot(z,np.log10(u_cr) + 1, '.25')\n",
      "plt.plot([20,25.0943467616],[np.log10(u_cr[find_closest(z,25.0943467616)])+1]*2, c=\"#e74c3c\")\n",
      "plt.plot(z,np.log10(u_cr) + 2, '.25')\n",
      "plt.plot([20,25.4341491806],[np.log10(u_cr[find_closest(z,25.4341491806)])+2]*2, c=\"#e74c3c\")\n",
      "plt.plot(z,np.log10(u_cr) + 3, '.25')\n",
      "plt.plot([20,26.3209400982],[np.log10(u_cr[find_closest(z,26.3209400982)])+3]*2, c=\"#e74c3c\")\n",
      "plt.plot(z,np.log10(u_cr) + 4, '.25')\n",
      "plt.plot([20,27.7400906358],[np.log10(u_cr[find_closest(z,27.7400906358)])+4]*2, c=\"#e74c3c\")\n",
      "plt.plot(z,np.log10(u_cr) + 5, '.25')\n",
      "plt.plot([20,29.0965640078],[np.log10(u_cr[find_closest(z,29.0965640078)])+5]*2, c=\"#e74c3c\")\n",
      "print 29.0965640078, np.log10(u_cr[find_closest(z,29.0965640078)])+5\n",
      "#plt.axhline(np.log10(f_cr * f_sn * E_sn * tH21 * 2e-3 * 22**3 / (3.08e24)**3), color='r', ls=':')\n",
      "#plt.axhline(np.log10(f_cr * f_sn * E_sn * tH21 * 2e-2 * 22**3 / (3.08e24)**3), color='r', ls=':')\n",
      "plt.scatter([21]*2,[np.log10(f_cr * f_sn * E_sn * tH21 * 2e-3 * 22**3 / (3.08e24)**3), \n",
      "                    np.log10(f_cr * f_sn * E_sn * tH21 * 2e-2 * 22**3 / (3.08e24)**3)], s=35, c=\"#e74c3c\")\n",
      "plt.xlim(20,60)\n",
      "plt.ylim(-30,-10)\n",
      "plt.xlabel('Redshift')\n",
      "plt.ylabel(r'Log u$_{\\textsc{cr}}$ [erg cm$^{-3}$]')\n",
      "plt.savefig('figures/u_cr.png', bbox_inches='tight')"
     ],
     "language": "python",
     "metadata": {},
     "outputs": []
    },
    {
     "cell_type": "markdown",
     "metadata": {},
     "source": [
      "Save this to the file 'jxr.dat' for loading into GADGET."
     ]
    },
    {
     "cell_type": "raw",
     "metadata": {},
     "source": [
      "udata = np.zeros((z.size,2))\n",
      "udata[:,0] = z[::-1]\n",
      "udata[:,1] = u_cr[::-1]\n",
      "np.savetxt('ucr.dat', udata, fmt='%.8e %.8e')"
     ]
    }
   ],
   "metadata": {}
  }
 ]
}