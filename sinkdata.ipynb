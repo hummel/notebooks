{
 "cells": [
  {
   "cell_type": "code",
   "execution_count": null,
   "metadata": {
    "collapsed": true
   },
   "outputs": [],
   "source": [
    "%matplotlib inline\n",
    "import os\n",
    "import re\n",
    "import numpy as np\n",
    "import pandas as pd\n",
    "import matplotlib as mpl\n",
    "from matplotlib import pyplot as plt\n",
    "#import seaborn as sns\n",
    "import pyGadget\n",
    "mpl.rc('font', size=20.)\n",
    "mpl.rc('font', family='serif')\n",
    "mpl.rc('text', usetex=True)"
   ]
  },
  {
   "cell_type": "code",
   "execution_count": null,
   "metadata": {
    "collapsed": false
   },
   "outputs": [],
   "source": [
    "mergers = pd.read_csv('/home/jhummel/data/sinks/stampede/halo2_vanilla/sinkmergers', \n",
    "                      names=['time', 'ID1', 'ID2', 'mass1', 'mass2'], delim_whitespace=True)"
   ]
  },
  {
   "cell_type": "code",
   "execution_count": null,
   "metadata": {
    "collapsed": false
   },
   "outputs": [],
   "source": [
    "sinkdat = pd.read_csv('/home/jhummel/data/sinks/stampede/halo2_vanilla/sinkdat',\n",
    "                      names=['time', 'n_acc', 'r_sink', 'energy', 'entropy', 'ID', 'pressure'],\n",
    "                      delim_whitespace=True)"
   ]
  },
  {
   "cell_type": "code",
   "execution_count": null,
   "metadata": {
    "collapsed": false
   },
   "outputs": [],
   "source": [
    "sinkmasses = pd.read_csv('/home/jhummel/data/sinks/stampede/halo2_vanilla/sinkmasses',\n",
    "                      names=['time', 'ID', 'mass', 'timestep', 'x', 'y', 'z'],\n",
    "                      delim_whitespace=True)"
   ]
  },
  {
   "cell_type": "code",
   "execution_count": null,
   "metadata": {
    "collapsed": false
   },
   "outputs": [],
   "source": [
    "sinktemp = pd.read_csv('/home/jhummel/data/sinks/stampede/halo2_vanilla/sinktemp',\n",
    "                      names=['time', 'ID', 'mass', 'timestep', 'x', 'y', 'z'],\n",
    "                      delim_whitespace=True)"
   ]
  },
  {
   "cell_type": "code",
   "execution_count": null,
   "metadata": {
    "collapsed": false,
    "scrolled": false
   },
   "outputs": [],
   "source": [
    "sinkangmom = pd.read_csv('/home/jhummel/data/sinks/stampede/halo2_vanilla/sinkangmom',\n",
    "                      names=['time', 'd_sink', 'vx', 'vy', 'vz', 'jx', 'jy', 'jz', 'jtot', 'mass', 'ID'],\n",
    "                      delim_whitespace=True)"
   ]
  },
  {
   "cell_type": "code",
   "execution_count": null,
   "metadata": {
    "collapsed": true
   },
   "outputs": [],
   "source": [
    "gbdat = sinkdat.groupby(sinkdat.ID)"
   ]
  },
  {
   "cell_type": "code",
   "execution_count": null,
   "metadata": {
    "collapsed": false
   },
   "outputs": [],
   "source": [
    "gbdat.count()"
   ]
  },
  {
   "cell_type": "code",
   "execution_count": null,
   "metadata": {
    "collapsed": false
   },
   "outputs": [],
   "source": [
    "for ID,df in gbdat:\n",
    "    print ID, df.count()"
   ]
  },
  {
   "cell_type": "code",
   "execution_count": null,
   "metadata": {
    "collapsed": false
   },
   "outputs": [],
   "source": [
    "gbdat.describe()"
   ]
  },
  {
   "cell_type": "code",
   "execution_count": null,
   "metadata": {
    "collapsed": true
   },
   "outputs": [],
   "source": []
  }
 ],
 "metadata": {
  "kernelspec": {
   "display_name": "Python 2",
   "language": "python",
   "name": "python2"
  },
  "language_info": {
   "codemirror_mode": {
    "name": "ipython",
    "version": 2
   },
   "file_extension": ".py",
   "mimetype": "text/x-python",
   "name": "python",
   "nbconvert_exporter": "python",
   "pygments_lexer": "ipython2",
   "version": "2.7.10"
  }
 },
 "nbformat": 4,
 "nbformat_minor": 0
}
