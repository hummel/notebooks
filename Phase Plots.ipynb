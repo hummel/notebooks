{
 "cells": [
  {
   "cell_type": "markdown",
   "metadata": {},
   "source": [
    "# The First Stars: Formation under Cosmic Ray Feedback -- Phase Diagrams"
   ]
  },
  {
   "cell_type": "markdown",
   "metadata": {},
   "source": [
    "This notebook generates all simulation results figures for my current paper.  All simulations run on stampede.tacc.utexas.edu"
   ]
  },
  {
   "cell_type": "code",
   "execution_count": null,
   "metadata": {
    "collapsed": false
   },
   "outputs": [],
   "source": [
    "%matplotlib inline\n",
    "import numpy as np\n",
    "import matplotlib as mpl\n",
    "from matplotlib import pyplot as plt\n",
    "mpl.rc('font', size=20.)\n",
    "mpl.rc('font', family='serif')\n",
    "mpl.rc('text', usetex=True)\n",
    "import pyGadget"
   ]
  },
  {
   "cell_type": "code",
   "execution_count": null,
   "metadata": {
    "collapsed": false
   },
   "outputs": [],
   "source": [
    "simV = pyGadget.sim.Simulation('stampede/vanilla',length='pc')\n",
    "sim0 = pyGadget.sim.Simulation('local/nocr',length='pc')\n",
    "sim1 = pyGadget.sim.Simulation('stampede/cr01',length='pc')\n",
    "sim2 = pyGadget.sim.Simulation('stampede/cr02',length='pc')\n",
    "sim3 = pyGadget.sim.Simulation('stampede/cr03',length='pc')\n",
    "sim4 = pyGadget.sim.Simulation('stampede/cr04',length='pc')\n",
    "sim5 = pyGadget.sim.Simulation('stampede/cr05',length='pc')"
   ]
  },
  {
   "cell_type": "code",
   "execution_count": null,
   "metadata": {
    "collapsed": false
   },
   "outputs": [],
   "source": [
    "simname = {'vanilla':r'$u_{\\rm \\tiny CR} = 0$',\n",
    "        'cr00': r'$u_{\\rm \\tiny CR} = u_0$', \n",
    "        'cr01': r'$u_{\\rm \\tiny CR} = 10 u_0$', \n",
    "        'cr02': r'$u_{\\rm \\tiny CR} = 10^2 u_0$', \n",
    "        'cr03': r'$u_{\\rm \\tiny CR} = 10^3 u_0$', \n",
    "        'cr04': r'$u_{\\rm \\tiny CR} = 10^4 u_0$',\n",
    "        'cr05': r'$u_{\\rm \\tiny CR} = 10^5 u_0$'}\n",
    "name = ['vanilla', 'cr00', 'cr01', 'cr02', 'cr03', 'cr04', 'cr05']"
   ]
  },
  {
   "cell_type": "code",
   "execution_count": null,
   "metadata": {
    "collapsed": false
   },
   "outputs": [],
   "source": [
    "#nV, n0, n1, n2, n3, n4, n5, tag = 355, 311, 327, 318, 249, 213, 176, '_t0'\n",
    "nV, n0, n1, n2, n3, n4, n5, tag = 355, 305, 327, 318, 249, 213, 176, '_nocr'\n",
    "#nV, n0, n1, n2, n3, n4, n5, tag = 355, 1857, 1546, 1852, 1758, 1687, 1616, '_t5k'"
   ]
  },
  {
   "cell_type": "code",
   "execution_count": null,
   "metadata": {
    "collapsed": false
   },
   "outputs": [],
   "source": [
    "snapV = simV.load_snapshot(nV, 'ndensity', 'temp', 'h2frac', 'HDfrac', 'electron_frac', 'coordinates')#,stride=1e5)\n",
    "snap0 = sim0.load_snapshot(n0, 'ndensity', 'temp', 'h2frac', 'HDfrac', 'electron_frac','coordinates')#,stride=1e5)\n",
    "snap1 = sim1.load_snapshot(n1, 'ndensity', 'temp', 'h2frac', 'HDfrac', 'electron_frac','coordinates')#,stride=1e5)\n",
    "snap2 = sim2.load_snapshot(n2, 'ndensity', 'temp', 'h2frac', 'HDfrac', 'electron_frac','coordinates')#,stride=1e5)\n",
    "snap3 = sim3.load_snapshot(n3, 'ndensity', 'temp', 'h2frac', 'HDfrac', 'electron_frac','coordinates')#,stride=1e5)\n",
    "snap4 = sim4.load_snapshot(n4, 'ndensity', 'temp', 'h2frac', 'HDfrac', 'electron_frac','coordinates')#,stride=1e5)\n",
    "snap5 = sim5.load_snapshot(n5, 'ndensity', 'temp', 'h2frac', 'HDfrac', 'electron_frac','coordinates')#,stride=1e5)"
   ]
  },
  {
   "cell_type": "markdown",
   "metadata": {},
   "source": [
    "## Density - Temperature phase diagram"
   ]
  },
  {
   "cell_type": "code",
   "execution_count": null,
   "metadata": {
    "collapsed": false
   },
   "outputs": [],
   "source": [
    "fig = plt.figure(1, figsize=(16,16))\n",
    "ax0 = fig.add_subplot(321)\n",
    "ax1 = fig.add_subplot(322)\n",
    "ax2 = fig.add_subplot(323)\n",
    "ax3 = fig.add_subplot(324)\n",
    "ax4 = fig.add_subplot(325)\n",
    "ax5 = fig.add_subplot(326)\n",
    "\n",
    "for i, (ax, snap) in enumerate([(ax0,snap0), (ax1,snap1), (ax2,snap2), (ax3,snap3), (ax4,snap4), (ax5,snap5)]):\n",
    "    ax = pyGadget.multiplot.Phase.temp(snapV,ax, rasterized=True, color='.75', cmbline=False)\n",
    "    ax = pyGadget.multiplot.Phase.temp(snap,ax, rasterized=True, cmap=plt.cm.Blues_r)\n",
    "    ax.text(.97,.95, simname[name[i+1]], ha='right', va='top', size=25, transform=ax.transAxes)\n",
    "\n",
    "ax0.xaxis.set_visible(False)\n",
    "ax1.xaxis.set_visible(False)\n",
    "ax2.xaxis.set_visible(False)\n",
    "ax3.xaxis.set_visible(False)\n",
    "\n",
    "ax1.yaxis.set_visible(False)\n",
    "ax3.yaxis.set_visible(False)\n",
    "ax5.yaxis.set_visible(False)\n",
    "\n",
    "ax4.set_xticks((1e-2,1e0,1e2,1e4,1e6,1e8,1e10))\n",
    "ax5.set_xticks((1e-2,1e0,1e2,1e4,1e6,1e8,1e10,1e12))\n",
    "ax0.set_yticks((1e2,1e3,1e4))\n",
    "ax2.set_yticks((1e2,1e3,1e4))\n",
    "ax4.set_yticks((10,1e2,1e3,1e4))\n",
    "\n",
    "plt.tight_layout(w_pad=0.0,h_pad=0.0)\n",
    "fig.savefig('figures/phase_diagrams/temp'+tag+'.png', bbox_inches='tight')"
   ]
  },
  {
   "cell_type": "markdown",
   "metadata": {},
   "source": [
    "## H2 molecular fraction - density phase diagram"
   ]
  },
  {
   "cell_type": "code",
   "execution_count": null,
   "metadata": {
    "collapsed": false
   },
   "outputs": [],
   "source": [
    "fig = plt.figure(1, figsize=(16,16))\n",
    "ax0 = fig.add_subplot(321)\n",
    "ax1 = fig.add_subplot(322)\n",
    "ax2 = fig.add_subplot(323)\n",
    "ax3 = fig.add_subplot(324)\n",
    "ax4 = fig.add_subplot(325)\n",
    "ax5 = fig.add_subplot(326)\n",
    "\n",
    "for i, (ax, snap) in enumerate([(ax0,snap0), (ax1,snap1), (ax2,snap2), (ax3,snap3), (ax4,snap4), (ax5,snap5)]):\n",
    "    ax = pyGadget.multiplot.Phase.h2frac(snapV,ax, rasterized=True, color='.75')\n",
    "    ax = pyGadget.multiplot.Phase.h2frac(snap,ax, rasterized=True, cmap=plt.cm.Blues_r)\n",
    "    ax.text(.03,.95, simname[name[i+1]], ha='left', va='top', size=25, transform=ax.transAxes)\n",
    "\n",
    "ax0.xaxis.set_visible(False)\n",
    "ax1.xaxis.set_visible(False)\n",
    "ax2.xaxis.set_visible(False)\n",
    "ax3.xaxis.set_visible(False)\n",
    "\n",
    "ax1.yaxis.set_visible(False)\n",
    "ax3.yaxis.set_visible(False)\n",
    "ax5.yaxis.set_visible(False)\n",
    "\n",
    "ax4.set_xticks((1e-2,1e0,1e2,1e4,1e6,1e8,1e10))\n",
    "ax5.set_xticks((1e-2,1e0,1e2,1e4,1e6,1e8,1e10,1e12))\n",
    "\n",
    "plt.tight_layout(w_pad=0.0,h_pad=0.0)\n",
    "fig.savefig('figures/phase_diagrams/H2'+tag+'.png', bbox_inches='tight')"
   ]
  },
  {
   "cell_type": "markdown",
   "metadata": {},
   "source": [
    "## HD molecular fraction - density phase diagram"
   ]
  },
  {
   "cell_type": "code",
   "execution_count": null,
   "metadata": {
    "collapsed": false
   },
   "outputs": [],
   "source": [
    "fig = plt.figure(1, figsize=(16,16))\n",
    "ax0 = fig.add_subplot(321)\n",
    "ax1 = fig.add_subplot(322)\n",
    "ax2 = fig.add_subplot(323)\n",
    "ax3 = fig.add_subplot(324)\n",
    "ax4 = fig.add_subplot(325)\n",
    "ax5 = fig.add_subplot(326)\n",
    "\n",
    "for i, (ax, snap) in enumerate([(ax0,snap0), (ax1,snap1), (ax2,snap2), (ax3,snap3), (ax4,snap4), (ax5,snap5)]):\n",
    "    ax = pyGadget.multiplot.Phase.HDfrac(snapV,ax, rasterized=True, color='.75')\n",
    "    ax = pyGadget.multiplot.Phase.HDfrac(snap,ax, rasterized=True, cmap=plt.cm.Blues_r)\n",
    "    ax.text(.03,.95, simname[name[i+1]], ha='left', va='top', size=25, transform=ax.transAxes)\n",
    "\n",
    "ax0.xaxis.set_visible(False)\n",
    "ax1.xaxis.set_visible(False)\n",
    "ax2.xaxis.set_visible(False)\n",
    "ax3.xaxis.set_visible(False)\n",
    "\n",
    "ax1.yaxis.set_visible(False)\n",
    "ax3.yaxis.set_visible(False)\n",
    "ax5.yaxis.set_visible(False)\n",
    "\n",
    "ax4.set_xticks((1e-2,1e0,1e2,1e4,1e6,1e8,1e10))\n",
    "ax5.set_xticks((1e-2,1e0,1e2,1e4,1e6,1e8,1e10,1e12))\n",
    "ax2.set_yticks((1e-10,1e-9,1e-8,1e-7,1e-6,1e-5))\n",
    "ax4.set_yticks((1e-10,1e-9,1e-8,1e-7,1e-6,1e-5))\n",
    "\n",
    "plt.tight_layout(w_pad=0.0,h_pad=0.0)\n",
    "fig.savefig('figures/phase_diagrams/HD'+tag+'.png', bbox_inches='tight')"
   ]
  },
  {
   "cell_type": "markdown",
   "metadata": {},
   "source": [
    "## Electron fraction - overlay"
   ]
  },
  {
   "cell_type": "code",
   "execution_count": null,
   "metadata": {
    "collapsed": true
   },
   "outputs": [],
   "source": [
    "fig = plt.figure(3, figsize=(12,9))\n",
    "ax = fig.add_subplot(111)\n",
    "ax = pyGadget.multiplot.Phase.electron_frac(snapV,ax, cmap=plt.cm.Reds_r, rasterized=True)\n",
    "ax = pyGadget.multiplot.Phase.electron_frac(snap0,ax, cmap=plt.cm.winter, alpha=.5, rasterized=True)\n",
    "\n",
    "fig.savefig('figures/phase_diagrams/elec-overlay'+tag+'.png', bbox_inches='tight')"
   ]
  },
  {
   "cell_type": "code",
   "execution_count": null,
   "metadata": {
    "collapsed": true
   },
   "outputs": [],
   "source": [
    "fig = plt.figure(3, figsize=(12,9))\n",
    "ax = fig.add_subplot(111)\n",
    "ax = pyGadget.multiplot.Phase.temp(snapV, ax, rasterized=True, cmap=plt.cm.Reds_r)\n",
    "ax = pyGadget.multiplot.Phase.temp(snap0, ax, rasterized=True, cmap=plt.cm.winter, alpha=.5)\n",
    "\n",
    "fig.savefig('figures/phase_diagrams/temp-overlay'+tag+'.png', bbox_inches='tight')"
   ]
  },
  {
   "cell_type": "markdown",
   "metadata": {},
   "source": [
    "## H2 fraction - overlay"
   ]
  },
  {
   "cell_type": "code",
   "execution_count": null,
   "metadata": {
    "collapsed": true
   },
   "outputs": [],
   "source": [
    "fig = plt.figure(3, figsize=(12,9))\n",
    "ax = fig.add_subplot(111)\n",
    "ax = pyGadget.multiplot.Phase.h2frac(snapV,ax, cmap=plt.cm.Reds_r, rasterized=True)\n",
    "ax = pyGadget.multiplot.Phase.h2frac(snap0,ax, cmap=plt.cm.winter, alpha=.5, rasterized=True)\n",
    "#ax = pyGadget.multiplot.Phase.h2frac(snap3,ax, cmap=plt.cm.Greens_r, rasterized=True)\n",
    "#ax = pyGadget.multiplot.Phase.h2frac(snap5,ax, cmap=plt.cm.Reds_r, rasterized=True)\n",
    "\n",
    "fig.savefig('figures/phase_diagrams/h2-overlay'+tag+'.png', bbox_inches='tight')"
   ]
  },
  {
   "cell_type": "markdown",
   "metadata": {},
   "source": [
    "## HD fraction - overlay"
   ]
  },
  {
   "cell_type": "code",
   "execution_count": null,
   "metadata": {
    "collapsed": true
   },
   "outputs": [],
   "source": [
    "fig = plt.figure(3, figsize=(12,9))\n",
    "ax = fig.add_subplot(111)\n",
    "ax = pyGadget.multiplot.Phase.HDfrac(snapV,ax, cmap=plt.cm.Reds_r, rasterized=True)\n",
    "ax = pyGadget.multiplot.Phase.HDfrac(snap0,ax, cmap=plt.cm.winter, alpha=.5, rasterized=True)\n",
    "#ax = pyGadget.multiplot.Phase.HDfrac(snap3,ax, cmap=plt.cm.Greens_r, rasterized=True)\n",
    "#ax = pyGadget.multiplot.Phase.HDfrac(snap5,ax, cmap=plt.cm.Reds_r, rasterized=True)\n",
    "\n",
    "fig.savefig('figures/phase_diagrams/HD-overlay'+tag+'.png', bbox_inches='tight')"
   ]
  },
  {
   "cell_type": "markdown",
   "metadata": {},
   "source": [
    "## Combination Overlay"
   ]
  },
  {
   "cell_type": "raw",
   "metadata": {},
   "source": [
    "snaplist = [snapV, snap1, snap2, snap3]\n",
    "fig, axarr = plt.subplots(3,1, sharex=True, figsize=(8,17))\n",
    "for i,func in enumerate([pyGadget.multiplot.Phase.electron_frac, pyGadget.multiplot.Phase.h2frac, pyGadget.multiplot.Phase.HDfrac]):\n",
    "    for j, colormap in enumerate([plt.cm.Greys_r, plt.cm.Blues_r, plt.cm.Greens_r, plt.cm.Reds_r]):\n",
    "        axarr[i] = func(snaplist[j], axarr[i], cmap=colormap, rasterized=True)\n",
    "        \n",
    "\n",
    "#axarr[-1].set_xlabel('n [cm$^{-3}$]') \n",
    "plt.setp([a.get_yticklabels()[::2] for a in axarr], visible=False)\n",
    "plt.setp(axarr[-1].get_xticklabels()[1::2], visible=False)\n",
    "fig.subplots_adjust(hspace=0, wspace=0)\n",
    "fig.savefig('figures/phase_diagrams/combo-overlay'+tag+'.png', bbox_inches='tight')"
   ]
  },
  {
   "cell_type": "markdown",
   "metadata": {},
   "source": [
    "## Halo Temperature vs Radius"
   ]
  },
  {
   "cell_type": "raw",
   "metadata": {},
   "source": [
    "fig = plt.figure(2, figsize=(16,12))\n",
    "ax0 = fig.add_subplot(221)\n",
    "ax1 = fig.add_subplot(222)\n",
    "ax2 = fig.add_subplot(223)\n",
    "ax3 = fig.add_subplot(224)\n",
    "ax0 = pyGadget.multiplot.Phase.radial_temp(snapV,ax0, rasterized=True, cmap=plt.cm.Blues_r)\n",
    "ax1 = pyGadget.multiplot.Phase.radial_temp(snap1,ax1, rasterized=True, cmap=plt.cm.Blues_r)\n",
    "ax2 = pyGadget.multiplot.Phase.radial_temp(snap2,ax2, rasterized=True, cmap=plt.cm.Blues_r)\n",
    "ax3 = pyGadget.multiplot.Phase.radial_temp(snap3,ax3, rasterized=True, cmap=plt.cm.Blues_r)\n",
    "\n",
    "ax0.xaxis.set_visible(False)\n",
    "ax1.xaxis.set_visible(False)\n",
    "ax1.yaxis.set_visible(False)\n",
    "ax3.yaxis.set_visible(False)\n",
    "ax0.set_yticks((1e2,1e3,1e4))\n",
    "ax2.set_yticks((10,1e2,1e3,1e4))\n",
    "\n",
    "ax0.text(.03,.97, r'no background', ha='left', va='top', size=25, transform=ax0.transAxes)\n",
    "ax1.text(.03,.97, r'10$^2$ fiducial', ha='left', va='top', size=25, transform=ax1.transAxes)\n",
    "ax2.text(.03,.97, r'10$^3$ fiducial', ha='left', va='top', size=25, transform=ax2.transAxes)\n",
    "ax3.text(.03,.97, r'10$^4$ fiducial', ha='left', va='top', size=25, transform=ax3.transAxes)\n",
    "\n",
    "plt.tight_layout(w_pad=0.0,h_pad=0.0)\n",
    "fig.savefig('figures/phase_diagrams/radial_temp'+tag+'.png', bbox_inches='tight')"
   ]
  }
 ],
 "metadata": {
  "kernelspec": {
   "display_name": "Python 2",
   "language": "python",
   "name": "python2"
  },
  "language_info": {
   "codemirror_mode": {
    "name": "ipython",
    "version": 2
   },
   "file_extension": ".py",
   "mimetype": "text/x-python",
   "name": "python",
   "nbconvert_exporter": "python",
   "pygments_lexer": "ipython2",
   "version": "2.7.9"
  }
 },
 "nbformat": 4,
 "nbformat_minor": 0
}
