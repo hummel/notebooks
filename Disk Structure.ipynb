{
 "cells": [
  {
   "cell_type": "markdown",
   "metadata": {},
   "source": [
    "# The First Stars: Formation under X-ray Feedback -- Structure Visualization"
   ]
  },
  {
   "cell_type": "markdown",
   "metadata": {},
   "source": [
    "This notebook generates all simulation results figures for my current paper.  All simulations run on stampede.tacc.utexas.edu"
   ]
  },
  {
   "cell_type": "code",
   "execution_count": null,
   "metadata": {
    "collapsed": false
   },
   "outputs": [],
   "source": [
    "%matplotlib inline\n",
    "import numpy as np\n",
    "import matplotlib as mpl\n",
    "from matplotlib import pyplot as plt"
   ]
  },
  {
   "cell_type": "raw",
   "metadata": {},
   "source": [
    "mpl.rc('font', size=20.)\n",
    "mpl.rc('font', family='serif')\n",
    "mpl.rc('text', usetex=True)"
   ]
  },
  {
   "cell_type": "code",
   "execution_count": null,
   "metadata": {
    "collapsed": false
   },
   "outputs": [],
   "source": [
    "import seaborn as sns\n",
    "sns.set_context('poster')\n",
    "sns.set_style('white')"
   ]
  },
  {
   "cell_type": "code",
   "execution_count": null,
   "metadata": {
    "collapsed": false
   },
   "outputs": [],
   "source": [
    "import pyGadget"
   ]
  },
  {
   "cell_type": "markdown",
   "metadata": {},
   "source": [
    "Use the final snapshot of the vanilla simulation."
   ]
  },
  {
   "cell_type": "code",
   "execution_count": null,
   "metadata": {
    "collapsed": false
   },
   "outputs": [],
   "source": [
    "sims = ['cr00', 'cr01', 'cr02', 'cr03', 'cr04', 'cr05']\n",
    "n0 = [311, 327, 318, 249, 213, 176]\n",
    "n5k = [1857, 1546, 1852, 1758, 1687, 1616]\n",
    "t0 = '_t0'\n",
    "t5k = '_t5k'\n",
    "vsnap, nsnap, tag = 615, n0, t0"
   ]
  },
  {
   "cell_type": "code",
   "execution_count": null,
   "metadata": {
    "collapsed": false
   },
   "outputs": [],
   "source": [
    "simV = pyGadget.sim.Simulation('stampede/vanilla')\n",
    "snapV = simV.load_snapshot(vsnap, track_sinks=True)"
   ]
  },
  {
   "cell_type": "code",
   "execution_count": null,
   "metadata": {
    "collapsed": false
   },
   "outputs": [],
   "source": [
    "snapV.gas.orient_box(centering='avg', view='face')"
   ]
  },
  {
   "cell_type": "code",
   "execution_count": null,
   "metadata": {
    "collapsed": false
   },
   "outputs": [],
   "source": [
    "img = pyGadget.visualize.project(snapV, 'ndensity', '5000AU', 'xy', centering='avg', depth=2.)\n",
    "plt.imshow(img[2], cmap=plt.cm.Blues_r)"
   ]
  },
  {
   "cell_type": "code",
   "execution_count": null,
   "metadata": {
    "collapsed": false
   },
   "outputs": [],
   "source": [
    "img = pyGadget.visualize.project(snapV, 'ndensity', '5000AU', 'xz', centering='avg', depth=2.)\n",
    "plt.imshow(img[2], cmap=plt.cm.Blues_r)"
   ]
  },
  {
   "cell_type": "code",
   "execution_count": null,
   "metadata": {
    "collapsed": false
   },
   "outputs": [],
   "source": [
    "img = pyGadget.visualize.project(snapV, 'ndensity', '5000AU', 'yz', centering='avg', depth=2.)\n",
    "plt.imshow(img[2], cmap=plt.cm.Blues_r)"
   ]
  },
  {
   "cell_type": "markdown",
   "metadata": {},
   "source": [
    "# 4 Panel Simulation Comparison Plots"
   ]
  },
  {
   "cell_type": "markdown",
   "metadata": {},
   "source": [
    "For each sim, picking the snapshot just prior to the formation of the first sink."
   ]
  },
  {
   "cell_type": "code",
   "execution_count": null,
   "metadata": {
    "collapsed": false
   },
   "outputs": [],
   "source": [
    "simlist = []\n",
    "snaplist = []\n",
    "for i,simname in enumerate(sims):\n",
    "    sim = pyGadget.sim.Simulation('stampede/'+sims[i])\n",
    "    sim.set_coordinate_system('physical')\n",
    "    snap = sim.load_snapshot(nsnap[i], track_sinks=True)\n",
    "    snap.gas.orient_box(centering='avg', view='face')\n",
    "    simlist.append(sim)\n",
    "    snaplist.append(snap)"
   ]
  },
  {
   "cell_type": "code",
   "execution_count": null,
   "metadata": {
    "collapsed": false
   },
   "outputs": [],
   "source": [
    "simV = pyGadget.sim.Simulation('stampede/vanilla')\n",
    "sim1 = pyGadget.sim.Simulation('stampede/cr02')\n",
    "sim2 = pyGadget.sim.Simulation('stampede/cr03')\n",
    "sim3 = pyGadget.sim.Simulation('stampede/cr04')\n",
    "snapV = simV.load_snapshot(615, track_sinks=True)#, dens_lim=1e11)\n",
    "snap1 = sim1.load_snapshot(976, track_sinks=True)#, dens_lim=1e11)\n",
    "snap2 = sim2.load_snapshot(350, track_sinks=True)#, dens_lim=1e11)\n",
    "snap3 = sim3.load_snapshot(700, track_sinks=True)#, dens_lim=1e11)\n",
    "snaplist = [snapV, snap1, snap2, snap3]"
   ]
  },
  {
   "cell_type": "code",
   "execution_count": null,
   "metadata": {
    "collapsed": false
   },
   "outputs": [],
   "source": [
    "for snap in snaplist:\n",
    "    snap.gas.orient_box(centering='avg', view='face')"
   ]
  },
  {
   "cell_type": "markdown",
   "metadata": {},
   "source": [
    "## Disk Structure"
   ]
  },
  {
   "cell_type": "markdown",
   "metadata": {},
   "source": [
    "### Density structure"
   ]
  },
  {
   "cell_type": "code",
   "execution_count": null,
   "metadata": {
    "collapsed": false
   },
   "outputs": [],
   "source": [
    "import copy\n",
    "snaplist = [snapV, snap1, snap2, snap3]\n",
    "imlist = []\n",
    "sinklist = []\n",
    "scale = '5000AU'\n",
    "\n",
    "#shifty = [None, None, 5000, -2000, None, None, None, None]\n",
    "shifty = [None, None, None, None, None, None, None, None]\n",
    "\n",
    "count = 0\n",
    "for i,view in enumerate(['xy', 'xz']):\n",
    "    for snap in snaplist:\n",
    "        imlist.append(pyGadget.visualize.project(snap, 'ndensity', scale, view, centering='avg', \n",
    "                                                 depth=2., shifty=shifty[i], dens_lim=None))\n",
    "        sinklist.append(copy.deepcopy(snap.sinks))\n",
    "#    snap.close()"
   ]
  },
  {
   "cell_type": "code",
   "execution_count": null,
   "metadata": {
    "collapsed": false
   },
   "outputs": [],
   "source": [
    "from mpl_toolkits.axes_grid1 import ImageGrid\n",
    "\n",
    "sim = ['J = 0', 'J = J$_{0}$', 'J = 10 J$_{0}$', 'J = 100 J$_{0}$']\n",
    "bbox_props = dict(boxstyle=\"round\", fc=\"k\", ec=\"k\", alpha=0.5)\n",
    "ticks = [(7,8,9,10,11),(6,7,8,9,10)]\n",
    "\n",
    "fig = plt.figure(1, (20, 8), dpi=600)\n",
    "grid = ImageGrid(fig, 111, # similar to subplot(111)\n",
    "                nrows_ncols = (2, 4), # creates 4x2 grid of axes\n",
    "                axes_pad=0.0, # pad between axes in inch.\n",
    "                cbar_mode = 'edge', cbar_location = 'right', cbar_size='7%', cbar_pad=0.0\n",
    "                )\n",
    "for i in range(8):\n",
    "    x = imlist[i][0]\n",
    "    y = imlist[i][1]\n",
    "    im = imlist[i][2]\n",
    "    ax = grid[i]\n",
    "    img = ax.imshow(im, extent=[x.min(),x.max(),y.min(),y.max()], cmap=plt.cm.Blues_r, origin='lower')\n",
    "    ax.xaxis.set_visible(False)\n",
    "    ax.yaxis.set_visible(False)\n",
    "#    img.set_clim((6.5,10.75))\n",
    "    img.set_clim((8,12))\n",
    "    \n",
    "    cb = plt.colorbar(img, cax=grid.cbar_axes[i])\n",
    "    #cb.set_ticks(ticks[i/4])\n",
    "    cb.set_ticks((7,8,9,10))\n",
    "    cb.ax.tick_params(left='on', labelsize=15, labelcolor='k')\n",
    "    #if clabel[i]: \n",
    "    cb.set_label('Log Number Density \\n    [cm$^{-3}$]')\n",
    "    \n",
    "    for sink in sinklist[i]:\n",
    "        #mscale = sink.mass*6./27. + .33\n",
    "        mscale = np.log(sink.mass) +1\n",
    "        ax.plot(sink.x, sink.y, 'ko', ms=mscale, mew=1)\n",
    "    ax.set_xlim(x.min(), x.max())\n",
    "    ax.set_ylim(y.min(), y.max())\n",
    "\n",
    "    if i > 3:\n",
    "        cb.set_ticks(ticks[i/4])\n",
    "        ax.text(0.5, 0.025, sim[i-4], color='w', ha='center', va='bottom', size=18, \n",
    "                transform=grid[i].transAxes, bbox=bbox_props)\n",
    "\n",
    "plt.show()\n",
    "fig.savefig('figures/structure/disks.png', bbox_inches='tight', dpi=100)"
   ]
  }
 ],
 "metadata": {
  "kernelspec": {
   "display_name": "Python 2",
   "language": "python",
   "name": "python2"
  },
  "language_info": {
   "codemirror_mode": {
    "name": "ipython",
    "version": 2
   },
   "file_extension": ".py",
   "mimetype": "text/x-python",
   "name": "python",
   "nbconvert_exporter": "python",
   "pygments_lexer": "ipython2",
   "version": "2.7.9"
  }
 },
 "nbformat": 4,
 "nbformat_minor": 0
}
