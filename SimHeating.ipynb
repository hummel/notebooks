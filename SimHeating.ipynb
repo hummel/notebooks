{
 "cells": [
  {
   "cell_type": "code",
   "execution_count": null,
   "metadata": {
    "collapsed": false
   },
   "outputs": [],
   "source": [
    "%matplotlib inline\n",
    "import numpy as np\n",
    "import pandas as pd\n",
    "import matplotlib as mpl\n",
    "from matplotlib import pyplot as plt\n",
    "mpl.rc('font', size=20.)\n",
    "mpl.rc('font', family='serif')\n",
    "mpl.rc('text', usetex=True)\n",
    "import pyGadget"
   ]
  },
  {
   "cell_type": "code",
   "execution_count": null,
   "metadata": {
    "collapsed": false
   },
   "outputs": [],
   "source": [
    "xr0 = '/home/r900-4/jhummel/sim/stampede/XR_sfr_1e-0/heating.dat'\n",
    "xr1 = '/home/r900-4/jhummel/sim/stampede/XR_sfr_1e-1/heating.dat'\n",
    "xr2 = '/home/r900-4/jhummel/sim/stampede/XR_sfr_1e-2/heating.dat'\n",
    "xr3 = '/home/r900-4/jhummel/sim/stampede/XR_sfr_1e-3/heating.dat'\n",
    "cr0 = '/home/r900-4/jhummel/sim/stampede/cr_test00/heating.dat'\n",
    "cr2 = '/home/r900-4/jhummel/sim/stampede/cr_test02/heating.dat'\n",
    "cr3 = '/home/r900-4/jhummel/sim/stampede/cr_test03/heating.dat'\n",
    "cr4 = '/home/r900-4/jhummel/sim/stampede/cr_test04/heating.dat'\n",
    "cr5 = '/home/r900-4/jhummel/sim/stampede/cr_test05/heating.dat'\n",
    "file_list = [xr1, xr2, xr3, cr2, cr3, cr4, cr5]"
   ]
  },
  {
   "cell_type": "code",
   "execution_count": null,
   "metadata": {
    "collapsed": false
   },
   "outputs": [],
   "source": [
    "xrTest = 'heating.dat'\n",
    "file_list = [xr2, xrTest]"
   ]
  },
  {
   "cell_type": "code",
   "execution_count": null,
   "metadata": {
    "collapsed": false
   },
   "outputs": [],
   "source": [
    "df_list =[]\n",
    "for f in file_list:\n",
    "    print 'loading', f\n",
    "    df_list.append(pd.read_csv(f, delim_whitespace=True, header=None, index_col=0, \n",
    "                               usecols=[0,1,2,5], names=['z', 'nmax', 'heat', 'ion']))\n",
    "#xr1, xr2, xr3, cr2, cr3, cr4, cr5 = df_list"
   ]
  },
  {
   "cell_type": "code",
   "execution_count": null,
   "metadata": {
    "collapsed": false
   },
   "outputs": [],
   "source": [
    "fig, ax = plt.subplots(figsize=(16,12))\n",
    "labels = ['xr1', 'xr2', 'xr3','cr2', 'cr3', 'cr4', 'cr5']\n",
    "ax.set_yscale('log')\n",
    "for i,df in enumerate(df_list):\n",
    "    plt.plot(df.index, df['heat'], lw=3, label=labels[i])\n",
    "plt.legend()\n"
   ]
  },
  {
   "cell_type": "code",
   "execution_count": null,
   "metadata": {
    "collapsed": false
   },
   "outputs": [],
   "source": []
  }
 ],
 "metadata": {
  "kernelspec": {
   "display_name": "Python 2",
   "language": "python",
   "name": "python2"
  },
  "language_info": {
   "codemirror_mode": {
    "name": "ipython",
    "version": 2
   },
   "file_extension": ".py",
   "mimetype": "text/x-python",
   "name": "python",
   "nbconvert_exporter": "python",
   "pygments_lexer": "ipython2",
   "version": "2.7.9"
  }
 },
 "nbformat": 4,
 "nbformat_minor": 0
}
