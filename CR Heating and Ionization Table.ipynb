{
 "cells": [
  {
   "cell_type": "code",
   "execution_count": null,
   "metadata": {
    "collapsed": false
   },
   "outputs": [],
   "source": [
    "%matplotlib inline\n",
    "import numpy as np\n",
    "import pandas as pd\n",
    "import seaborn as sns\n",
    "from scipy import integrate\n",
    "from matplotlib import pyplot as plt"
   ]
  },
  {
   "cell_type": "code",
   "execution_count": null,
   "metadata": {
    "collapsed": false
   },
   "outputs": [],
   "source": [
    "sns.set_context('poster')"
   ]
  },
  {
   "cell_type": "markdown",
   "metadata": {},
   "source": [
    "#Calculate $N_{\\rm \\small effective}$ from $N_{\\rm \\small pole}$ and $N_{\\rm \\small equator}$.\n",
    "\n",
    "###$N_{\\rm \\small effective} = N_{\\rm \\small pole} \\frac{2 \\Omega_{\\rm \\small pole}}{4\\pi} + N_{\\rm \\small equator} \\frac{4\\pi - 2 \\Omega_{\\rm \\small pole}}{4\\pi}$\n",
    "\n",
    "###$\\Omega_{\\rm \\small pole} = \\int_0^{2\\pi}{\\rm d}\\phi \\int_0^{\\pi/4}{\\rm sin}\\theta \\,{\\rm d}\\theta  = 2\\pi \\left( 1 - \\frac{1}{\\sqrt{2}} \\right) \\approx 2\\pi \\times 0.29289 = 1.840282$"
   ]
  },
  {
   "cell_type": "markdown",
   "metadata": {},
   "source": [
    "#From our [fit](Local Optical Depth Prescription.ipynb),\n",
    "##$N_{\\rm \\small pole} = 10^{0.532301 {\\rm log_{10}}(n) + 19.636552}$ and $N_{\\rm \\small equator} = 10^{0.626204 {\\rm log_{10}}(n) + 19.573490}$"
   ]
  },
  {
   "cell_type": "code",
   "execution_count": null,
   "metadata": {
    "collapsed": false
   },
   "outputs": [],
   "source": [
    "def N_p(n):\n",
    "    exponent = 0.532301 * np.log10(n) + 19.636552\n",
    "    return 10**exponent\n",
    "\n",
    "def N_eq(n):\n",
    "    exponent = 0.626204 * np.log10(n) + 19.573490\n",
    "    return 10**exponent"
   ]
  },
  {
   "cell_type": "code",
   "execution_count": null,
   "metadata": {
    "collapsed": false
   },
   "outputs": [],
   "source": [
    "Omega_pole = 1.840282\n",
    "fourpi = 4 * np.pi\n",
    "a = 2 * Omega_pole / fourpi\n",
    "b = (fourpi - 2*Omega_pole)/fourpi\n",
    "def N_eff(n):\n",
    "    x = N_p(n)\n",
    "    y = N_eq(n)\n",
    "    return a*x + b*y"
   ]
  },
  {
   "cell_type": "code",
   "execution_count": null,
   "metadata": {
    "collapsed": false
   },
   "outputs": [],
   "source": [
    "def beta(epsilon):\n",
    "    mHc2 = 938272046 #rest energy of a proton in eV\n",
    "    return np.sqrt(1 - (epsilon/mHc2 + 1)**(-2))\n",
    "\n",
    "def f(epsilon):\n",
    "    B0 = 0.01\n",
    "    B = beta(epsilon)\n",
    "    return (1 + 0.0185 * np.log(B)) * 2*B**2 / (B0**3 + 2*B**3)\n",
    "\n",
    "def dnCR(epsilon, ucr, emin, emax):\n",
    "    return ucr / epsilon / epsilon / np.log(emax/emin)\n",
    "\n",
    "def dedt(n, epsilon):\n",
    "    return 1.82e-7 * n * f(epsilon)\n",
    "\n",
    "def Dp(n,epsilon):\n",
    "    return beta(epsilon) * 2.99e10 * epsilon / dedt(n,epsilon)\n",
    "\n",
    "def sigma(n, epsilon):\n",
    "    return 1 / n / Dp(n,epsilon)\n",
    "\n",
    "def tau(n, epsilon):\n",
    "    return sigma(n, epsilon) * N_eff(n)"
   ]
  },
  {
   "cell_type": "code",
   "execution_count": null,
   "metadata": {
    "collapsed": false
   },
   "outputs": [],
   "source": [
    "def integrand(epsilon, n, ucr, emin, emax, attenuation=True):\n",
    "    if attenuation:\n",
    "        return .02 * dedt(n,epsilon) * dnCR(epsilon, ucr, emin, emax) * np.exp(-tau(n, epsilon))\n",
    "    else:\n",
    "        return .02 * dedt(n,epsilon) * dnCR(epsilon, ucr, emin, emax)"
   ]
  },
  {
   "cell_type": "code",
   "execution_count": null,
   "metadata": {
    "collapsed": false
   },
   "outputs": [],
   "source": [
    "def logintegrate(func, n, ucr, emin, emax, attenuation=True, n_steps=1000):\n",
    "    #print 'emin: 1e'+str(np.log10(emin)), 'emax: 1e'+str(np.log10(emax)),\n",
    "    #print 'n:',n, 'ucr:',ucr, 'tau:',attenuation\n",
    "    integral = 0.0\n",
    "    logmin = np.log10(emin)\n",
    "    logmax = np.log10(emax)\n",
    "    for i in xrange(n_steps):\n",
    "        epsilon = (logmax - logmin) / n_steps * (i + 0.5) + logmin\n",
    "        e_start = (logmax - logmin) / n_steps * (i) + logmin\n",
    "        e_stop = (logmax - logmin) / n_steps * (i + 1.0) + logmin\n",
    "        epsilon = 10**epsilon\n",
    "        e_start = 10**e_start\n",
    "        e_stop = 10**e_stop\n",
    "        De = e_stop - e_start\n",
    "        integral += func(epsilon, n, ucr, emin, emax, attenuation) * De\n",
    "    return integral"
   ]
  },
  {
   "cell_type": "code",
   "execution_count": null,
   "metadata": {
    "collapsed": false
   },
   "outputs": [],
   "source": [
    "def oldintegrand(epsilon, n, ucr, emin, emax, attenuation):\n",
    "    return f(epsilon) / epsilon / epsilon / np.log(emax/emin)\n",
    "logintegrate(oldintegrand, 1, 1, 1e6, 1e15, False)  * 1.82e-7 / 50"
   ]
  },
  {
   "cell_type": "code",
   "execution_count": null,
   "metadata": {
    "collapsed": false
   },
   "outputs": [],
   "source": [
    "@np.vectorize\n",
    "def h_rate(n, ucr, emin, emax, attenuation=True):\n",
    "    E_heat = 6 / 6.24150934e11 # convert from eV to erg\n",
    "    return E_heat * logintegrate(integrand, n, ucr, emin, emax, attenuation)\n",
    "\n",
    "@np.vectorize\n",
    "def k_rate(n, ucr, emin, emax, attenuation=True):\n",
    "    return logintegrate(integrand, n, ucr, emin, emax, attenuation) / n"
   ]
  },
  {
   "cell_type": "code",
   "execution_count": null,
   "metadata": {
    "collapsed": false
   },
   "outputs": [],
   "source": [
    "k_rate(1, 1, 1e6, 1e15, True)"
   ]
  },
  {
   "cell_type": "code",
   "execution_count": null,
   "metadata": {
    "collapsed": false
   },
   "outputs": [],
   "source": [
    "ucr = 1.\n",
    "E_min = 1e6\n",
    "E_max = 1e15\n",
    "attenuation = True\n",
    "n = np.logspace(-4,12.2,82)\n",
    "kh_rates = pd.DataFrame(index=np.linspace(-4,12.2,82))\n",
    "kh_rates['ion'] = k_rate(n, ucr, E_min, E_max, attenuation)\n",
    "kh_rates['kHe'] = 0\n",
    "kh_rates['kHep'] = 0\n",
    "kh_rates['heat'] = h_rate(n, ucr, E_min, E_max, attenuation) / n \n",
    "kh_rates['hHe'] = 0\n",
    "kh_rates['hHep'] = 0\n",
    "kh_rates['nheat'] = h_rate(n, ucr, E_min, E_max, attenuation)"
   ]
  },
  {
   "cell_type": "code",
   "execution_count": null,
   "metadata": {
    "collapsed": false
   },
   "outputs": [],
   "source": [
    "attenuation = False\n",
    "n = np.logspace(-4,12.2,82)\n",
    "khr = pd.DataFrame(index=np.linspace(-4,12.2,82))\n",
    "khr['ion'] = k_rate(n, ucr, E_min, E_max, attenuation)\n",
    "khr['heat'] = h_rate(n, ucr, E_min, E_max, attenuation) / n\n",
    "khr['nheat'] = h_rate(n, ucr, E_min, E_max, attenuation)"
   ]
  },
  {
   "cell_type": "code",
   "execution_count": null,
   "metadata": {
    "collapsed": false
   },
   "outputs": [],
   "source": [
    "kh_rates.head(3)"
   ]
  },
  {
   "cell_type": "code",
   "execution_count": null,
   "metadata": {
    "collapsed": false
   },
   "outputs": [],
   "source": [
    "kh_rates.tail(3)"
   ]
  },
  {
   "cell_type": "code",
   "execution_count": null,
   "metadata": {
    "collapsed": false
   },
   "outputs": [],
   "source": [
    "kh_rates['ion'].plot(logy=True)\n",
    "plt.plot(khr.index, khr.ion, '--', color='grey')\n",
    "plt.xlabel('n [cm$^{-3}$]')\n",
    "plt.ylabel('Ionization Rate [s$^{-1}$]')\n",
    "plt.savefig('figures/khrates/ionrate.png', bbox_inches='tight')"
   ]
  },
  {
   "cell_type": "code",
   "execution_count": null,
   "metadata": {
    "collapsed": false
   },
   "outputs": [],
   "source": [
    "kh_rates['heat'].plot(logy=True)\n",
    "plt.plot(khr.index, khr.heat, '--', color='grey')\n",
    "plt.xlabel('n [cm$^{-3}$]')\n",
    "plt.ylabel('Heating Rate / n [erg s$^{-1}$]')\n",
    "plt.savefig('figures/khrates/hrate.png', bbox_inches='tight')"
   ]
  },
  {
   "cell_type": "code",
   "execution_count": null,
   "metadata": {
    "collapsed": false
   },
   "outputs": [],
   "source": [
    "kh_rates['nheat'].plot(logy=True)\n",
    "plt.plot(khr.index, khr.nheat, '--', color='grey')\n",
    "plt.xlabel('n [cm$^{-3}$]')\n",
    "plt.ylabel('Heating Rate [erg s$^{-1}$ cm$^{-3}$]')\n",
    "plt.savefig('figures/khrates/nhrate.png', bbox_inches='tight')"
   ]
  },
  {
   "cell_type": "markdown",
   "metadata": {},
   "source": [
    "###### As currently designed, the optical depth for each individual species is calculated using the total column density.  Thinking I probably need to use the column density specific to each species."
   ]
  },
  {
   "cell_type": "code",
   "execution_count": null,
   "metadata": {
    "collapsed": false
   },
   "outputs": [],
   "source": [
    "kh_data = np.column_stack((kh_rates.index.values, kh_rates[['ion', 'kHe', 'kHep', 'heat', 'hHe', 'hHep']].values))"
   ]
  },
  {
   "cell_type": "code",
   "execution_count": null,
   "metadata": {
    "collapsed": false
   },
   "outputs": [],
   "source": [
    "kh_data.shape"
   ]
  },
  {
   "cell_type": "code",
   "execution_count": null,
   "metadata": {
    "collapsed": false
   },
   "outputs": [],
   "source": [
    "np.savetxt('kh_rates.dat', kh_data, fmt='%.8e %.8e %.8e %.8e %.8e %.8e %.8e')"
   ]
  },
  {
   "cell_type": "code",
   "execution_count": null,
   "metadata": {
    "collapsed": false
   },
   "outputs": [],
   "source": [
    "!head kh_rates.dat"
   ]
  },
  {
   "cell_type": "code",
   "execution_count": null,
   "metadata": {
    "collapsed": false
   },
   "outputs": [],
   "source": [
    "!tail kh_rates.dat"
   ]
  }
 ],
 "metadata": {
  "kernelspec": {
   "display_name": "Python 2",
   "language": "python",
   "name": "python2"
  },
  "language_info": {
   "codemirror_mode": {
    "name": "ipython",
    "version": 2
   },
   "file_extension": ".py",
   "mimetype": "text/x-python",
   "name": "python",
   "nbconvert_exporter": "python",
   "pygments_lexer": "ipython2",
   "version": "2.7.9"
  }
 },
 "nbformat": 4,
 "nbformat_minor": 0
}
