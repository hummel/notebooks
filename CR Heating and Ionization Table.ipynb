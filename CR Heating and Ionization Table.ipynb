{
 "cells": [
  {
   "cell_type": "code",
   "execution_count": 1,
   "metadata": {
    "collapsed": false
   },
   "outputs": [],
   "source": [
    "%matplotlib inline\n",
    "import numpy as np\n",
    "import pandas as pd\n",
    "import seaborn as sns\n",
    "import matplotlib as mpl\n",
    "from scipy import integrate\n",
    "from matplotlib import pyplot as plt"
   ]
  },
  {
   "cell_type": "markdown",
   "metadata": {},
   "source": [
    "Each time a CR proton ionises an H atom, an electron with average energy ⟨E⟩=35eV is produced (Spitzer et al., 1968). Including the ionization energy of 13.6eV, the CR proton loses approximately 50eV per scattering. This necessarily places a limit on how many scatterings a CR proton can undergo before losing all its energy to ionisation, as well as limiting the distance it may travel. This distance may be described by a penetration depth\n",
    "$$ D_p(n, \\epsilon) \\approx \\frac{\\beta c \\epsilon} {-({\\rm d}\\epsilon / {\\rm d}t)_{\\rm ion}}$$"
   ]
  },
  {
   "cell_type": "code",
   "execution_count": 2,
   "metadata": {
    "collapsed": true
   },
   "outputs": [],
   "source": [
    "def Dp(n,epsilon):\n",
    "    return beta(epsilon) * 2.99e10 * epsilon / dedt(n,epsilon)"
   ]
  },
  {
   "cell_type": "markdown",
   "metadata": {},
   "source": [
    "where, according to Schlickeiser (2002):\n",
    "$$\\beta =  \\sqrt{1 - \\left( \\frac{\\epsilon}{m_{\\rm \\tiny H}c^2}+1 \\right)^{-2}},$$"
   ]
  },
  {
   "cell_type": "code",
   "execution_count": 3,
   "metadata": {
    "collapsed": true
   },
   "outputs": [],
   "source": [
    "def beta(epsilon):\n",
    "    mHc2 = 938272046 #rest energy of a proton in eV\n",
    "    return np.sqrt(1 - (epsilon/mHc2 + 1)**(-2))"
   ]
  },
  {
   "cell_type": "markdown",
   "metadata": {},
   "source": [
    "$$f(\\epsilon) = (1 + 0.0185 \\,{\\rm ln}\\beta )\\, \\frac{2 \\beta^2}{\\beta_0^3 + 2 \\beta^3},$$"
   ]
  },
  {
   "cell_type": "code",
   "execution_count": 4,
   "metadata": {
    "collapsed": true
   },
   "outputs": [],
   "source": [
    "def f(epsilon):\n",
    "    B0 = 0.01\n",
    "    B = beta(epsilon)\n",
    "    return (1 + 0.0185 * np.log(B)) * 2*B**2 / (B0**3 + 2*B**3)"
   ]
  },
  {
   "cell_type": "markdown",
   "metadata": {},
   "source": [
    "and $$- \\left( \\frac{{\\rm d}\\epsilon} {{\\rm d}t} \\right)_{\\rm ion}(n, \\epsilon) = 1.82\\times10^{-7}\\,{\\rm \\small eV\\,s}^{-1} n_{\\rm \\tiny H} f(\\epsilon).$$"
   ]
  },
  {
   "cell_type": "code",
   "execution_count": 5,
   "metadata": {
    "collapsed": true
   },
   "outputs": [],
   "source": [
    "def dedt(n, epsilon):\n",
    "    return 1.82e-7 * n * f(epsilon)"
   ]
  },
  {
   "cell_type": "markdown",
   "metadata": {},
   "source": [
    "Here, $m_{\\rm \\small H}$ is the mass of hydrogen, $c$ is the speed of light, $\\beta = v/c$ and $({\\rm d}\\epsilon / {\\rm d}t)_{\\rm ion}$ is the rate at which a CR proton loses energy to ionisation. $\\beta_0$ is the cutoff below which the interaction between CRs and the gas decreases sharply; we use $\\beta_0=0.01$, appropriate for CRs traveling through a neutral IGM (Stacy et al., 2007). As $D_p(n, \\epsilon)$ is the the mean free path of CRs of energy $\\epsilon$ traveling through a gas with number density $n$, we may define an effective cross-section $\\sigma_{CR}(n,\\epsilon)$ for the interaction: $$\\sigma_{CR}(n,\\epsilon) = \\frac{1}{n D_p(n, \\epsilon)}.$$"
   ]
  },
  {
   "cell_type": "code",
   "execution_count": 6,
   "metadata": {
    "collapsed": true
   },
   "outputs": [],
   "source": [
    "def sigma(n, epsilon):\n",
    "    return 1 / n / Dp(n,epsilon)"
   ]
  },
  {
   "cell_type": "markdown",
   "metadata": {},
   "source": [
    "This in turn allows us to define an optical depth\n",
    "$$\\tau_{CR}(n,\\epsilon) = N \\sigma_{CR}(n,\\epsilon)$$\n",
    "where $N$ is the gas column density."
   ]
  },
  {
   "cell_type": "code",
   "execution_count": 7,
   "metadata": {
    "collapsed": false
   },
   "outputs": [],
   "source": [
    "def old_shielding(n, epsilon):\n",
    "    Omega_pole = 1.840282\n",
    "    fourpi = 4 * np.pi\n",
    "    a = 2 * Omega_pole / fourpi\n",
    "    b = (fourpi - 2*Omega_pole)/fourpi\n",
    "    def N_eff(n):\n",
    "        x = N_p(n)\n",
    "        y = N_eq(n)\n",
    "        return a*x + b*y\n",
    "    return np.exp(-sigma(n, epsilon) * N_eff(n))"
   ]
  },
  {
   "cell_type": "code",
   "execution_count": 8,
   "metadata": {
    "collapsed": false
   },
   "outputs": [],
   "source": [
    "def pole_shielding(n, epsilon):\n",
    "    return np.exp(-sigma(n, epsilon) * N_p(n))"
   ]
  },
  {
   "cell_type": "code",
   "execution_count": 9,
   "metadata": {
    "collapsed": false
   },
   "outputs": [],
   "source": [
    "def eq_shielding(n, epsilon):\n",
    "    return np.exp(-sigma(n, epsilon) * N_eq(n))"
   ]
  },
  {
   "cell_type": "code",
   "execution_count": 10,
   "metadata": {
    "collapsed": false
   },
   "outputs": [],
   "source": [
    "def shielding(n, epsilon):\n",
    "    Omega_pole = 1.840282\n",
    "    fourpi = 4 * np.pi\n",
    "    a = 2 * Omega_pole / fourpi\n",
    "    b = (fourpi - 2*Omega_pole)/fourpi\n",
    "    return a * np.exp(-sigma(n, epsilon) * N_p(n)) + b * np.exp(-sigma(n, epsilon) * N_eq(n))"
   ]
  },
  {
   "cell_type": "markdown",
   "metadata": {},
   "source": [
    "Following Stacy et al. (2007), we assume cosmic rays in the early universe are produced in supernova shock waves, resulting in a differential CR energy spectrum of the form \n",
    "$$ \\frac{{\\rm d}n_{\\rm \\small CR}}{{\\rm d}\\epsilon} = \\frac{n_{\\rm norm}}{\\epsilon_{\\rm min}}\\left( \\frac{\\epsilon}{\\epsilon_{\\rm min}} \\right)^{-2},$$\n",
    "\n",
    "where $n_{\\rm \\small CR}$ is the CR number density, $\\epsilon$ is the kinetic energy of the CR, $\\epsilon_{\\rm min}$ is the low-energy cutoff of the CR spectrum, and $n_{\\rm norm}$ is a normalizing density factor. Integrating this over all energies yields the total energy density $u_{\\rm \\small CR}$ in cosmic rays, which we estimate as follows:\n",
    "\n",
    "$$u_{\\rm \\small CR}(z) = f_{\\rm \\small CR} E_{\\rm \\small SN}\\, f_{\\rm \\small SN} \\Psi_{*}(z)\\, t_{\\rm \\small H}(z) (1+z)^3.$$\n",
    "\n",
    "As describe [here](https://grad09jh.as.utexas.edu:7777/notebooks/cosmic_rays/The%20High-z%20Cosmic%20Ray%20Background.ipynb), $f_{\\rm \\small CR}$ is the fraction of the SN explosion energy $E_{\\rm \\small SN}$ going into CR production, $f_{\\rm \\small SN}$ is the mass fraction of stars formed which die as SNe, and $\\Psi_{*}(z)$ is the comoving star formation rate density (SFRD) as a function of redshift.  The Hubble time $t_{\\rm \\small H}$ accounts for the time CRs have had to propagate through the universe since their creation, and the factor of $(1+z)^3$ accounts for the conversion from a comoving SFRD to a physical energy density.   This results in a CR energy spectrum increasing over cosmic time in the following fashion:\n",
    "$$ \\frac{{\\rm d}n_{\\rm \\small CR}}{{\\rm d}\\epsilon}(z) = \\frac{u_{\\rm \\small CR}(z)}{{\\rm ln}\\,\\epsilon_{\\rm max}{\\large /}\\epsilon_{\\rm min}}  \\epsilon^{-2}.$$"
   ]
  },
  {
   "cell_type": "code",
   "execution_count": 11,
   "metadata": {
    "collapsed": true
   },
   "outputs": [],
   "source": [
    "def dnCR(epsilon, ucr, emin, emax):\n",
    "    return ucr / epsilon / epsilon / np.log(emax/emin)"
   ]
  },
  {
   "cell_type": "markdown",
   "metadata": {},
   "source": [
    "#Calculate $N_{\\rm \\small effective}$ from $N_{\\rm \\small pole}$ and $N_{\\rm \\small equator}$.\n",
    "\n",
    "###$N_{\\rm \\small effective} = N_{\\rm \\small pole} \\frac{2 \\Omega_{\\rm \\small pole}}{4\\pi} + N_{\\rm \\small equator} \\frac{4\\pi - 2 \\Omega_{\\rm \\small pole}}{4\\pi}$\n",
    "\n",
    "###$\\Omega_{\\rm \\small pole} = \\int_0^{2\\pi}{\\rm d}\\phi \\int_0^{\\pi/4}{\\rm sin}\\theta \\,{\\rm d}\\theta  = 2\\pi \\left( 1 - \\frac{1}{\\sqrt{2}} \\right) \\approx 2\\pi \\times 0.29289 = 1.840282$"
   ]
  },
  {
   "cell_type": "markdown",
   "metadata": {},
   "source": [
    "#From our [fit](Local Optical Depth Prescription.ipynb),\n",
    "##$N_{\\rm \\small pole} = 10^{0.532301 {\\rm log_{10}}(n) + 19.636552}$ and $N_{\\rm \\small equator} = 10^{0.626204 {\\rm log_{10}}(n) + 19.573490}$"
   ]
  },
  {
   "cell_type": "code",
   "execution_count": 12,
   "metadata": {
    "collapsed": false
   },
   "outputs": [],
   "source": [
    "def N_p(n):\n",
    "    exponent = 0.532301 * np.log10(n) + 19.636552\n",
    "    return 10**exponent\n",
    "\n",
    "def N_eq(n):\n",
    "    exponent = 0.626204 * np.log10(n) + 19.573490\n",
    "    return 10**exponent"
   ]
  },
  {
   "cell_type": "code",
   "execution_count": 13,
   "metadata": {
    "collapsed": false
   },
   "outputs": [],
   "source": [
    "def integrand(epsilon, n, ucr, emin, emax, attenuation=False):\n",
    "    if attenuation:\n",
    "        if attenuation == 'corrected':\n",
    "            return .02 * dedt(n,epsilon) * dnCR(epsilon, ucr, emin, emax) * shielding(n, epsilon)\n",
    "        elif attenuation == 'old':\n",
    "            return .02 * dedt(n,epsilon) * dnCR(epsilon, ucr, emin, emax) * old_shielding(n, epsilon)\n",
    "        elif attenuation == 'pole':\n",
    "            return .02 * dedt(n,epsilon) * dnCR(epsilon, ucr, emin, emax) * pole_shielding(n, epsilon)\n",
    "        elif attenuation == 'eq':\n",
    "            return .02 * dedt(n,epsilon) * dnCR(epsilon, ucr, emin, emax) * eq_shielding(n, epsilon)\n",
    "    else:\n",
    "        return .02 * dedt(n,epsilon) * dnCR(epsilon, ucr, emin, emax)"
   ]
  },
  {
   "cell_type": "code",
   "execution_count": 14,
   "metadata": {
    "collapsed": false
   },
   "outputs": [],
   "source": [
    "def logintegrate(func, n, ucr, emin, emax, attenuation=True, n_steps=1000):\n",
    "    #print 'emin: 1e'+str(np.log10(emin)), 'emax: 1e'+str(np.log10(emax)),\n",
    "    #print 'n:',n, 'ucr:',ucr, 'tau:',attenuation\n",
    "    integral = 0.0\n",
    "    logmin = np.log10(emin)\n",
    "    logmax = np.log10(emax)\n",
    "    for i in xrange(n_steps):\n",
    "        epsilon = (logmax - logmin) / n_steps * (i + 0.5) + logmin\n",
    "        e_start = (logmax - logmin) / n_steps * (i) + logmin\n",
    "        e_stop = (logmax - logmin) / n_steps * (i + 1.0) + logmin\n",
    "        epsilon = 10**epsilon\n",
    "        e_start = 10**e_start\n",
    "        e_stop = 10**e_stop\n",
    "        De = e_stop - e_start\n",
    "        integral += func(epsilon, n, ucr, emin, emax, attenuation) * De\n",
    "    return integral"
   ]
  },
  {
   "cell_type": "code",
   "execution_count": 15,
   "metadata": {
    "collapsed": false
   },
   "outputs": [
    {
     "data": {
      "text/plain": [
       "2.4070931542772808e-15"
      ]
     },
     "execution_count": 15,
     "metadata": {},
     "output_type": "execute_result"
    }
   ],
   "source": [
    "def oldintegrand(epsilon, n, ucr, emin, emax, attenuation):\n",
    "    return f(epsilon) / epsilon / epsilon / np.log(emax/emin)\n",
    "logintegrate(oldintegrand, 1, 1, 1e6, 1e15, False)  * 1.82e-7 / 50"
   ]
  },
  {
   "cell_type": "code",
   "execution_count": 16,
   "metadata": {
    "collapsed": false
   },
   "outputs": [],
   "source": [
    "@np.vectorize\n",
    "def h_rate(n, ucr, emin, emax, attenuation=True):\n",
    "    E_heat = 6 / 6.24150934e11 # convert from eV to erg\n",
    "    return E_heat * logintegrate(integrand, n, ucr, emin, emax, attenuation)\n",
    "\n",
    "@np.vectorize\n",
    "def k_rate(n, ucr, emin, emax, attenuation=True):\n",
    "    return logintegrate(integrand, n, ucr, emin, emax, attenuation) / n"
   ]
  },
  {
   "cell_type": "code",
   "execution_count": 17,
   "metadata": {
    "collapsed": false
   },
   "outputs": [
    {
     "data": {
      "text/plain": [
       "array(2.302327044339402e-15)"
      ]
     },
     "execution_count": 17,
     "metadata": {},
     "output_type": "execute_result"
    }
   ],
   "source": [
    "k_rate(1, 1, 1e6, 1e15, 'corrected')"
   ]
  },
  {
   "cell_type": "code",
   "execution_count": 18,
   "metadata": {
    "collapsed": true
   },
   "outputs": [],
   "source": [
    "nstart = -4\n",
    "nstop = 12.2\n",
    "nstep = 82\n",
    "n = np.logspace(nstart,nstop,nstep)"
   ]
  },
  {
   "cell_type": "code",
   "execution_count": 19,
   "metadata": {
    "collapsed": false
   },
   "outputs": [],
   "source": [
    "ucr = 1.\n",
    "E_min = 1e6\n",
    "E_max = 1e15\n",
    "attenuation = 'corrected'\n",
    "kh_rates = pd.DataFrame(index=np.linspace(nstart,nstop,nstep))\n",
    "kh_rates['ion'] = k_rate(n, ucr, E_min, E_max, attenuation)\n",
    "kh_rates['kHe'] = 0\n",
    "kh_rates['kHep'] = 0\n",
    "kh_rates['heat'] = h_rate(n, ucr, E_min, E_max, attenuation) / n \n",
    "kh_rates['hHe'] = 0\n",
    "kh_rates['hHep'] = 0\n",
    "kh_rates['nheat'] = h_rate(n, ucr, E_min, E_max, attenuation)"
   ]
  },
  {
   "cell_type": "code",
   "execution_count": 20,
   "metadata": {
    "collapsed": false
   },
   "outputs": [],
   "source": [
    "ucr = 1.\n",
    "E_min = 1e6\n",
    "E_max = 1e15\n",
    "attenuation = 'old'\n",
    "old_kh_rates = pd.DataFrame(index=np.linspace(nstart,nstop,nstep))\n",
    "old_kh_rates['ion'] = k_rate(n, ucr, E_min, E_max, attenuation)\n",
    "old_kh_rates['kHe'] = 0\n",
    "old_kh_rates['kHep'] = 0\n",
    "old_kh_rates['heat'] = h_rate(n, ucr, E_min, E_max, attenuation) / n \n",
    "old_kh_rates['hHe'] = 0\n",
    "old_kh_rates['hHep'] = 0\n",
    "old_kh_rates['nheat'] = h_rate(n, ucr, E_min, E_max, attenuation)"
   ]
  },
  {
   "cell_type": "code",
   "execution_count": 21,
   "metadata": {
    "collapsed": false
   },
   "outputs": [],
   "source": [
    "ucr = 1.\n",
    "E_min = 1e6\n",
    "E_max = 1e15\n",
    "attenuation = 'pole'\n",
    "pole_kh_rates = pd.DataFrame(index=np.linspace(nstart,nstop,nstep))\n",
    "pole_kh_rates['ion'] = k_rate(n, ucr, E_min, E_max, attenuation)\n",
    "pole_kh_rates['kHe'] = 0\n",
    "pole_kh_rates['kHep'] = 0\n",
    "pole_kh_rates['heat'] = h_rate(n, ucr, E_min, E_max, attenuation) / n \n",
    "pole_kh_rates['hHe'] = 0\n",
    "pole_kh_rates['hHep'] = 0\n",
    "pole_kh_rates['nheat'] = h_rate(n, ucr, E_min, E_max, attenuation)"
   ]
  },
  {
   "cell_type": "code",
   "execution_count": 22,
   "metadata": {
    "collapsed": false
   },
   "outputs": [],
   "source": [
    "ucr = 1.\n",
    "E_min = 1e6\n",
    "E_max = 1e15\n",
    "attenuation = 'eq'\n",
    "eq_kh_rates = pd.DataFrame(index=np.linspace(nstart,nstop,nstep))\n",
    "eq_kh_rates['ion'] = k_rate(n, ucr, E_min, E_max, attenuation)\n",
    "eq_kh_rates['kHe'] = 0\n",
    "eq_kh_rates['kHep'] = 0\n",
    "eq_kh_rates['heat'] = h_rate(n, ucr, E_min, E_max, attenuation) / n \n",
    "eq_kh_rates['hHe'] = 0\n",
    "eq_kh_rates['hHep'] = 0\n",
    "eq_kh_rates['nheat'] = h_rate(n, ucr, E_min, E_max, attenuation)"
   ]
  },
  {
   "cell_type": "code",
   "execution_count": 23,
   "metadata": {
    "collapsed": false
   },
   "outputs": [],
   "source": [
    "attenuation = False\n",
    "khr = pd.DataFrame(index=np.linspace(nstart,nstop,nstep))\n",
    "khr['ion'] = k_rate(n, ucr, E_min, E_max, attenuation)\n",
    "khr['heat'] = h_rate(n, ucr, E_min, E_max, attenuation) / n\n",
    "khr['nheat'] = h_rate(n, ucr, E_min, E_max, attenuation)"
   ]
  },
  {
   "cell_type": "code",
   "execution_count": 24,
   "metadata": {
    "collapsed": false
   },
   "outputs": [
    {
     "data": {
      "text/html": [
       "<div>\n",
       "<table border=\"1\" class=\"dataframe\">\n",
       "  <thead>\n",
       "    <tr style=\"text-align: right;\">\n",
       "      <th></th>\n",
       "      <th>ion</th>\n",
       "      <th>kHe</th>\n",
       "      <th>kHep</th>\n",
       "      <th>heat</th>\n",
       "      <th>hHe</th>\n",
       "      <th>hHep</th>\n",
       "      <th>nheat</th>\n",
       "    </tr>\n",
       "  </thead>\n",
       "  <tbody>\n",
       "    <tr>\n",
       "      <th>-4.0</th>\n",
       "      <td>2.406604e-15</td>\n",
       "      <td>0</td>\n",
       "      <td>0</td>\n",
       "      <td>2.313482e-26</td>\n",
       "      <td>0</td>\n",
       "      <td>0</td>\n",
       "      <td>2.313482e-30</td>\n",
       "    </tr>\n",
       "    <tr>\n",
       "      <th>-3.8</th>\n",
       "      <td>2.406455e-15</td>\n",
       "      <td>0</td>\n",
       "      <td>0</td>\n",
       "      <td>2.313339e-26</td>\n",
       "      <td>0</td>\n",
       "      <td>0</td>\n",
       "      <td>3.666396e-30</td>\n",
       "    </tr>\n",
       "    <tr>\n",
       "      <th>-3.6</th>\n",
       "      <td>2.406260e-15</td>\n",
       "      <td>0</td>\n",
       "      <td>0</td>\n",
       "      <td>2.313152e-26</td>\n",
       "      <td>0</td>\n",
       "      <td>0</td>\n",
       "      <td>5.810376e-30</td>\n",
       "    </tr>\n",
       "  </tbody>\n",
       "</table>\n",
       "</div>"
      ],
      "text/plain": [
       "               ion  kHe  kHep          heat  hHe  hHep         nheat\n",
       "-4.0  2.406604e-15    0     0  2.313482e-26    0     0  2.313482e-30\n",
       "-3.8  2.406455e-15    0     0  2.313339e-26    0     0  3.666396e-30\n",
       "-3.6  2.406260e-15    0     0  2.313152e-26    0     0  5.810376e-30"
      ]
     },
     "execution_count": 24,
     "metadata": {},
     "output_type": "execute_result"
    }
   ],
   "source": [
    "kh_rates.head(3)"
   ]
  },
  {
   "cell_type": "code",
   "execution_count": 25,
   "metadata": {
    "collapsed": false
   },
   "outputs": [
    {
     "data": {
      "text/html": [
       "<div>\n",
       "<table border=\"1\" class=\"dataframe\">\n",
       "  <thead>\n",
       "    <tr style=\"text-align: right;\">\n",
       "      <th></th>\n",
       "      <th>ion</th>\n",
       "      <th>kHe</th>\n",
       "      <th>kHep</th>\n",
       "      <th>heat</th>\n",
       "      <th>hHe</th>\n",
       "      <th>hHep</th>\n",
       "      <th>nheat</th>\n",
       "    </tr>\n",
       "  </thead>\n",
       "  <tbody>\n",
       "    <tr>\n",
       "      <th>11.8</th>\n",
       "      <td>9.054622e-20</td>\n",
       "      <td>0</td>\n",
       "      <td>0</td>\n",
       "      <td>8.704262e-31</td>\n",
       "      <td>0</td>\n",
       "      <td>0</td>\n",
       "      <td>5.492018e-19</td>\n",
       "    </tr>\n",
       "    <tr>\n",
       "      <th>12.0</th>\n",
       "      <td>7.326864e-20</td>\n",
       "      <td>0</td>\n",
       "      <td>0</td>\n",
       "      <td>7.043358e-31</td>\n",
       "      <td>0</td>\n",
       "      <td>0</td>\n",
       "      <td>7.043358e-19</td>\n",
       "    </tr>\n",
       "    <tr>\n",
       "      <th>12.2</th>\n",
       "      <td>5.914979e-20</td>\n",
       "      <td>0</td>\n",
       "      <td>0</td>\n",
       "      <td>5.686104e-31</td>\n",
       "      <td>0</td>\n",
       "      <td>0</td>\n",
       "      <td>9.011868e-19</td>\n",
       "    </tr>\n",
       "  </tbody>\n",
       "</table>\n",
       "</div>"
      ],
      "text/plain": [
       "               ion  kHe  kHep          heat  hHe  hHep         nheat\n",
       "11.8  9.054622e-20    0     0  8.704262e-31    0     0  5.492018e-19\n",
       "12.0  7.326864e-20    0     0  7.043358e-31    0     0  7.043358e-19\n",
       "12.2  5.914979e-20    0     0  5.686104e-31    0     0  9.011868e-19"
      ]
     },
     "execution_count": 25,
     "metadata": {},
     "output_type": "execute_result"
    }
   ],
   "source": [
    "kh_rates.tail(3)"
   ]
  },
  {
   "cell_type": "code",
   "execution_count": 26,
   "metadata": {
    "collapsed": false
   },
   "outputs": [],
   "source": [
    "palette = [\"#404040\", \"#4C72B0\", \"#55A868\", \"#C44E52\", \"#8172B2\"]\n",
    "sns.set(context='poster', palette=palette, font='serif', font_scale=1.)\n",
    "#mpl.rc('text', usetex=True)"
   ]
  },
  {
   "cell_type": "code",
   "execution_count": null,
   "metadata": {
    "collapsed": false
   },
   "outputs": [],
   "source": [
    "plt.plot(kh_rates.index, kh_rates.ion, label='corrected')\n",
    "plt.plot(eq_kh_rates.index, eq_kh_rates.ion, '--', label='equatorial')\n",
    "plt.plot(pole_kh_rates.index, pole_kh_rates.ion, '--', label='polar')\n",
    "plt.plot(old_kh_rates.index, old_kh_rates.ion, ':', color='grey', label='column avg')\n",
    "plt.plot(khr.index, khr.ion, '--', color='grey', label='no attenuation')\n",
    "plt.yscale('log')\n",
    "plt.ylim(1e-20)\n",
    "plt.xlim(-4,12)\n",
    "plt.legend(loc=0)\n",
    "plt.xlabel('Log n [cm$^{-3}$]')\n",
    "plt.ylabel('Ionization Rate [s$^{-1}$]')\n",
    "plt.savefig('figures/khrates/ionrate.png', bbox_inches='tight')"
   ]
  },
  {
   "cell_type": "raw",
   "metadata": {
    "collapsed": false
   },
   "source": [
    "plt.plot(kh_rates.index, kh_rates.ion, label='corrected')\n",
    "plt.plot(eq_kh_rates.index, eq_kh_rates.ion, '--', label='equatorial')\n",
    "plt.plot(pole_kh_rates.index, pole_kh_rates.ion, '--', label='polar')\n",
    "plt.plot(old_kh_rates.index, old_kh_rates.ion, ':', color='grey', label='column avg')\n",
    "plt.plot(khr.index, khr.ion, '--', color='grey', label='no attenuation')\n",
    "plt.yscale('log')\n",
    "plt.ylim(1e-30)\n",
    "plt.legend(loc=0)\n",
    "plt.xlabel('Log n [cm$^{-3}$]')\n",
    "plt.ylabel('Ionization Rate [s$^{-1}$]')\n",
    "plt.savefig('figures/khrates/ionrate_zoomout.png', bbox_inches='tight')"
   ]
  },
  {
   "cell_type": "code",
   "execution_count": null,
   "metadata": {
    "collapsed": false
   },
   "outputs": [],
   "source": [
    "kh_rates['heat'].plot(logy=True)\n",
    "plt.plot(khr.index, khr.heat, '--', color='grey')\n",
    "plt.xlabel('n [cm$^{-3}$]')\n",
    "plt.ylabel('Heating Rate / n [erg s$^{-1}$]')\n",
    "plt.savefig('figures/khrates/hrate.png', bbox_inches='tight')"
   ]
  },
  {
   "cell_type": "code",
   "execution_count": null,
   "metadata": {
    "collapsed": false
   },
   "outputs": [],
   "source": [
    "kh_rates['nheat'].plot(logy=True)\n",
    "plt.plot(khr.index, khr.nheat, '--', color='grey')\n",
    "plt.xlabel('n [cm$^{-3}$]')\n",
    "plt.ylabel('Heating Rate [erg s$^{-1}$ cm$^{-3}$]')\n",
    "plt.savefig('figures/khrates/nhrate.png', bbox_inches='tight')"
   ]
  },
  {
   "cell_type": "code",
   "execution_count": 27,
   "metadata": {
    "collapsed": false
   },
   "outputs": [],
   "source": [
    "Jxr = 2.70654888e-24 # Value from jxr.dat at z ~= 25\n",
    "Ucr = 1.33554658e-06 # Value from ucr.dat at z ~= 25 * 6.24150934e11 to convert eV to erg\n",
    "xr_rates = pd.read_csv('../../xrays/notebooks/kh_rates.csv', index_col=0) \n",
    "xrh = pd.read_csv('../../xrays/notebooks/khr.csv', index_col=0)\n",
    "cr_rates = kh_rates[['ion', 'heat', 'nheat']]\n",
    "crh = khr[['ion', 'heat', 'nheat']]"
   ]
  },
  {
   "cell_type": "code",
   "execution_count": 28,
   "metadata": {
    "collapsed": false
   },
   "outputs": [
    {
     "data": {
      "text/html": [
       "<div>\n",
       "<table border=\"1\" class=\"dataframe\">\n",
       "  <thead>\n",
       "    <tr style=\"text-align: right;\">\n",
       "      <th></th>\n",
       "      <th>kH</th>\n",
       "      <th>kHe</th>\n",
       "      <th>kHeII</th>\n",
       "      <th>hH</th>\n",
       "      <th>hHe</th>\n",
       "      <th>hHeII</th>\n",
       "      <th>nhH</th>\n",
       "      <th>nhHe</th>\n",
       "      <th>nhHeII</th>\n",
       "    </tr>\n",
       "  </thead>\n",
       "  <tbody>\n",
       "    <tr>\n",
       "      <th>-4.0</th>\n",
       "      <td>4504.802773</td>\n",
       "      <td>40519.964991</td>\n",
       "      <td>108863.924756</td>\n",
       "      <td>0.000009</td>\n",
       "      <td>0.00008</td>\n",
       "      <td>0.000211</td>\n",
       "      <td>8.984395e-10</td>\n",
       "      <td>8.027364e-10</td>\n",
       "      <td>2.112700e-12</td>\n",
       "    </tr>\n",
       "    <tr>\n",
       "      <th>-3.8</th>\n",
       "      <td>4504.801118</td>\n",
       "      <td>40519.929842</td>\n",
       "      <td>108863.674134</td>\n",
       "      <td>0.000009</td>\n",
       "      <td>0.00008</td>\n",
       "      <td>0.000211</td>\n",
       "      <td>1.423930e-09</td>\n",
       "      <td>1.272250e-09</td>\n",
       "      <td>3.348403e-12</td>\n",
       "    </tr>\n",
       "    <tr>\n",
       "      <th>-3.6</th>\n",
       "      <td>4504.798954</td>\n",
       "      <td>40519.884015</td>\n",
       "      <td>108863.347382</td>\n",
       "      <td>0.000009</td>\n",
       "      <td>0.00008</td>\n",
       "      <td>0.000211</td>\n",
       "      <td>2.256776e-09</td>\n",
       "      <td>2.016379e-09</td>\n",
       "      <td>5.306861e-12</td>\n",
       "    </tr>\n",
       "    <tr>\n",
       "      <th>-3.4</th>\n",
       "      <td>4504.796125</td>\n",
       "      <td>40519.824240</td>\n",
       "      <td>108862.921174</td>\n",
       "      <td>0.000009</td>\n",
       "      <td>0.00008</td>\n",
       "      <td>0.000211</td>\n",
       "      <td>3.576747e-09</td>\n",
       "      <td>3.195741e-09</td>\n",
       "      <td>8.410807e-12</td>\n",
       "    </tr>\n",
       "    <tr>\n",
       "      <th>-3.2</th>\n",
       "      <td>4504.792424</td>\n",
       "      <td>40519.746233</td>\n",
       "      <td>108862.364979</td>\n",
       "      <td>0.000009</td>\n",
       "      <td>0.00008</td>\n",
       "      <td>0.000211</td>\n",
       "      <td>5.668758e-09</td>\n",
       "      <td>5.064900e-09</td>\n",
       "      <td>1.333023e-11</td>\n",
       "    </tr>\n",
       "  </tbody>\n",
       "</table>\n",
       "</div>"
      ],
      "text/plain": [
       "               kH           kHe          kHeII        hH      hHe     hHeII  \\\n",
       "-4.0  4504.802773  40519.964991  108863.924756  0.000009  0.00008  0.000211   \n",
       "-3.8  4504.801118  40519.929842  108863.674134  0.000009  0.00008  0.000211   \n",
       "-3.6  4504.798954  40519.884015  108863.347382  0.000009  0.00008  0.000211   \n",
       "-3.4  4504.796125  40519.824240  108862.921174  0.000009  0.00008  0.000211   \n",
       "-3.2  4504.792424  40519.746233  108862.364979  0.000009  0.00008  0.000211   \n",
       "\n",
       "               nhH          nhHe        nhHeII  \n",
       "-4.0  8.984395e-10  8.027364e-10  2.112700e-12  \n",
       "-3.8  1.423930e-09  1.272250e-09  3.348403e-12  \n",
       "-3.6  2.256776e-09  2.016379e-09  5.306861e-12  \n",
       "-3.4  3.576747e-09  3.195741e-09  8.410807e-12  \n",
       "-3.2  5.668758e-09  5.064900e-09  1.333023e-11  "
      ]
     },
     "execution_count": 28,
     "metadata": {},
     "output_type": "execute_result"
    }
   ],
   "source": [
    "xr_rates.head()"
   ]
  },
  {
   "cell_type": "code",
   "execution_count": 29,
   "metadata": {
    "collapsed": false
   },
   "outputs": [
    {
     "data": {
      "text/html": [
       "<div>\n",
       "<table border=\"1\" class=\"dataframe\">\n",
       "  <thead>\n",
       "    <tr style=\"text-align: right;\">\n",
       "      <th></th>\n",
       "      <th>kH</th>\n",
       "      <th>kHe</th>\n",
       "      <th>kHeII</th>\n",
       "      <th>hH</th>\n",
       "      <th>hHe</th>\n",
       "      <th>hHeII</th>\n",
       "      <th>nhH</th>\n",
       "      <th>nhHe</th>\n",
       "      <th>nhHeII</th>\n",
       "    </tr>\n",
       "  </thead>\n",
       "  <tbody>\n",
       "    <tr>\n",
       "      <th>-4.0</th>\n",
       "      <td>4504.808216</td>\n",
       "      <td>40520.081687</td>\n",
       "      <td>108864.756825</td>\n",
       "      <td>0.000009</td>\n",
       "      <td>0.00008</td>\n",
       "      <td>0.000211</td>\n",
       "      <td>8.984405e-10</td>\n",
       "      <td>8.027385e-10</td>\n",
       "      <td>2.112700e-12</td>\n",
       "    </tr>\n",
       "    <tr>\n",
       "      <th>-3.8</th>\n",
       "      <td>4504.808216</td>\n",
       "      <td>40520.081687</td>\n",
       "      <td>108864.756825</td>\n",
       "      <td>0.000009</td>\n",
       "      <td>0.00008</td>\n",
       "      <td>0.000211</td>\n",
       "      <td>1.423932e-09</td>\n",
       "      <td>1.272255e-09</td>\n",
       "      <td>3.348404e-12</td>\n",
       "    </tr>\n",
       "    <tr>\n",
       "      <th>-3.6</th>\n",
       "      <td>4504.808216</td>\n",
       "      <td>40520.081687</td>\n",
       "      <td>108864.756825</td>\n",
       "      <td>0.000009</td>\n",
       "      <td>0.00008</td>\n",
       "      <td>0.000211</td>\n",
       "      <td>2.256780e-09</td>\n",
       "      <td>2.016388e-09</td>\n",
       "      <td>5.306862e-12</td>\n",
       "    </tr>\n",
       "    <tr>\n",
       "      <th>-3.4</th>\n",
       "      <td>4504.808216</td>\n",
       "      <td>40520.081687</td>\n",
       "      <td>108864.756825</td>\n",
       "      <td>0.000009</td>\n",
       "      <td>0.00008</td>\n",
       "      <td>0.000211</td>\n",
       "      <td>3.576756e-09</td>\n",
       "      <td>3.195760e-09</td>\n",
       "      <td>8.410809e-12</td>\n",
       "    </tr>\n",
       "    <tr>\n",
       "      <th>-3.2</th>\n",
       "      <td>4504.808216</td>\n",
       "      <td>40520.081687</td>\n",
       "      <td>108864.756825</td>\n",
       "      <td>0.000009</td>\n",
       "      <td>0.00008</td>\n",
       "      <td>0.000211</td>\n",
       "      <td>5.668776e-09</td>\n",
       "      <td>5.064938e-09</td>\n",
       "      <td>1.333023e-11</td>\n",
       "    </tr>\n",
       "  </tbody>\n",
       "</table>\n",
       "</div>"
      ],
      "text/plain": [
       "               kH           kHe          kHeII        hH      hHe     hHeII  \\\n",
       "-4.0  4504.808216  40520.081687  108864.756825  0.000009  0.00008  0.000211   \n",
       "-3.8  4504.808216  40520.081687  108864.756825  0.000009  0.00008  0.000211   \n",
       "-3.6  4504.808216  40520.081687  108864.756825  0.000009  0.00008  0.000211   \n",
       "-3.4  4504.808216  40520.081687  108864.756825  0.000009  0.00008  0.000211   \n",
       "-3.2  4504.808216  40520.081687  108864.756825  0.000009  0.00008  0.000211   \n",
       "\n",
       "               nhH          nhHe        nhHeII  \n",
       "-4.0  8.984405e-10  8.027385e-10  2.112700e-12  \n",
       "-3.8  1.423932e-09  1.272255e-09  3.348404e-12  \n",
       "-3.6  2.256780e-09  2.016388e-09  5.306862e-12  \n",
       "-3.4  3.576756e-09  3.195760e-09  8.410809e-12  \n",
       "-3.2  5.668776e-09  5.064938e-09  1.333023e-11  "
      ]
     },
     "execution_count": 29,
     "metadata": {},
     "output_type": "execute_result"
    }
   ],
   "source": [
    "xrh.head()"
   ]
  },
  {
   "cell_type": "code",
   "execution_count": 30,
   "metadata": {
    "collapsed": false
   },
   "outputs": [
    {
     "data": {
      "image/png": "[encoded data removed]",
      "text/plain": [
       "<matplotlib.figure.Figure at 0x7fcc7fd37b90>"
      ]
     },
     "metadata": {},
     "output_type": "display_data"
    }
   ],
   "source": [
    "sns.set(context='poster', palette=palette, style='ticks', font='serif', font_scale=1.25)\n",
    "crcolor = palette[1]\n",
    "xrcolor = palette[3]\n",
    "gray = '.5'\n",
    "fig, (ax0,ax1) = plt.subplots(2, 1, sharex=True, figsize=(6,9))\n",
    "\n",
    "ax0.plot(xrh.index, np.log10(xrh.kH*Jxr), '--', color=gray)\n",
    "ax0.plot(crh.index, np.log10(crh.ion*Ucr), '--', color=gray)\n",
    "ax0.plot(xr_rates.index, np.log10(xr_rates.kH*Jxr), color=xrcolor, label='X-Rays')\n",
    "ax0.plot(xr_rates.index, np.log10(xr_rates.kH*Jxr*1e3), '-.', color=xrcolor)\n",
    "ax0.plot(cr_rates.index, np.log10(cr_rates.ion*Ucr), color=crcolor, label='Cosmic Rays')\n",
    "ax0.plot(cr_rates.index, np.log10(cr_rates.ion*Ucr*1e5), '-.', color=crcolor)\n",
    "ax0.set_ylim(-25,-15)\n",
    "ax0.legend(loc=0)\n",
    "ax0.set_xlabel('Log n [cm$^{-3}$]')\n",
    "ax0.set_ylabel('Log Ionisation Rate\\n[s$^{-1}$]')\n",
    "    \n",
    "ax1.plot(xrh.index, np.log10(xrh.nhH*Jxr), '--', color=gray)\n",
    "ax1.plot(crh.index, np.log10(crh.nheat*Ucr), '--', color=gray)\n",
    "ax1.plot(xr_rates.index, np.log10(xr_rates.nhH*Jxr), color=xrcolor, label='X-Rays')\n",
    "ax1.plot(xr_rates.index, np.log10(xr_rates.nhH*Jxr*1e3), '-.', color=xrcolor)\n",
    "ax1.plot(cr_rates.index, np.log10(cr_rates.nheat*Ucr), color=crcolor, label='Cosmic Rays')\n",
    "ax1.plot(cr_rates.index, np.log10(cr_rates.nheat*Ucr*1e5), '-.', color=crcolor)\n",
    "ax1.set_ylim(-32.5, -17.4)\n",
    "#ax1.legend(loc=0)\n",
    "ax1.set_xlabel('Log n [cm$^{-3}$]')\n",
    "ax1.set_ylabel('Log Heating Rate\\n[erg s$^{-1}$ cm$^{-3}$]')\n",
    "\n",
    "ax0.set_xlim(-1,12)\n",
    "fig.subplots_adjust(hspace=0.02)\n",
    "sns.despine()\n",
    "fig.savefig('figures/khrates/khrates.png', bbox_inches='tight')"
   ]
  },
  {
   "cell_type": "code",
   "execution_count": 31,
   "metadata": {
    "collapsed": false
   },
   "outputs": [],
   "source": [
    "kh_data = np.column_stack((kh_rates.index.values, kh_rates[['ion', 'kHe', 'kHep', 'heat', 'hHe', 'hHep']].values))"
   ]
  },
  {
   "cell_type": "code",
   "execution_count": 32,
   "metadata": {
    "collapsed": false
   },
   "outputs": [
    {
     "data": {
      "text/plain": [
       "(82, 7)"
      ]
     },
     "execution_count": 32,
     "metadata": {},
     "output_type": "execute_result"
    }
   ],
   "source": [
    "kh_data.shape"
   ]
  },
  {
   "cell_type": "raw",
   "metadata": {
    "collapsed": false
   },
   "source": [
    "np.savetxt('kh_rates.dat', kh_data, fmt='%.8e %.8e %.8e %.8e %.8e %.8e %.8e')"
   ]
  },
  {
   "cell_type": "code",
   "execution_count": 33,
   "metadata": {
    "collapsed": false
   },
   "outputs": [
    {
     "name": "stdout",
     "output_type": "stream",
     "text": [
      "-4.00000000e+00 2.40660371e-15 0.00000000e+00 0.00000000e+00 2.31348244e-26 0.00000000e+00 0.00000000e+00\r\n",
      "-3.80000000e+00 2.40645486e-15 0.00000000e+00 0.00000000e+00 2.31333935e-26 0.00000000e+00 0.00000000e+00\r\n",
      "-3.60000000e+00 2.40626035e-15 0.00000000e+00 0.00000000e+00 2.31315236e-26 0.00000000e+00 0.00000000e+00\r\n",
      "-3.40000000e+00 2.40600608e-15 0.00000000e+00 0.00000000e+00 2.31290793e-26 0.00000000e+00 0.00000000e+00\r\n",
      "-3.20000000e+00 2.40567355e-15 0.00000000e+00 0.00000000e+00 2.31258827e-26 0.00000000e+00 0.00000000e+00\r\n",
      "-3.00000000e+00 2.40523850e-15 0.00000000e+00 0.00000000e+00 2.31217006e-26 0.00000000e+00 0.00000000e+00\r\n",
      "-2.80000000e+00 2.40466910e-15 0.00000000e+00 0.00000000e+00 2.31162269e-26 0.00000000e+00 0.00000000e+00\r\n",
      "-2.60000000e+00 2.40392359e-15 0.00000000e+00 0.00000000e+00 2.31090603e-26 0.00000000e+00 0.00000000e+00\r\n",
      "-2.40000000e+00 2.40294718e-15 0.00000000e+00 0.00000000e+00 2.30996740e-26 0.00000000e+00 0.00000000e+00\r\n",
      "-2.20000000e+00 2.40166799e-15 0.00000000e+00 0.00000000e+00 2.30873770e-26 0.00000000e+00 0.00000000e+00\r\n"
     ]
    }
   ],
   "source": [
    "!head kh_rates.dat"
   ]
  },
  {
   "cell_type": "code",
   "execution_count": 34,
   "metadata": {
    "collapsed": false
   },
   "outputs": [
    {
     "name": "stdout",
     "output_type": "stream",
     "text": [
      "1.04000000e+01 3.76230753e-19 0.00000000e+00 0.00000000e+00 3.61672857e-30 0.00000000e+00 0.00000000e+00\r\n",
      "1.06000000e+01 3.08662816e-19 0.00000000e+00 0.00000000e+00 2.96719398e-30 0.00000000e+00 0.00000000e+00\r\n",
      "1.08000000e+01 2.52816467e-19 0.00000000e+00 0.00000000e+00 2.43033971e-30 0.00000000e+00 0.00000000e+00\r\n",
      "1.10000000e+01 2.06704677e-19 0.00000000e+00 0.00000000e+00 1.98706433e-30 0.00000000e+00 0.00000000e+00\r\n",
      "1.12000000e+01 1.68680915e-19 0.00000000e+00 0.00000000e+00 1.62153965e-30 0.00000000e+00 0.00000000e+00\r\n",
      "1.14000000e+01 1.37376332e-19 0.00000000e+00 0.00000000e+00 1.32060684e-30 0.00000000e+00 0.00000000e+00\r\n",
      "1.16000000e+01 1.11649442e-19 0.00000000e+00 0.00000000e+00 1.07329272e-30 0.00000000e+00 0.00000000e+00\r\n",
      "1.18000000e+01 9.05462193e-20 0.00000000e+00 0.00000000e+00 8.70426184e-31 0.00000000e+00 0.00000000e+00\r\n",
      "1.20000000e+01 7.32686444e-20 0.00000000e+00 0.00000000e+00 7.04335830e-31 0.00000000e+00 0.00000000e+00\r\n",
      "1.22000000e+01 5.91497888e-20 0.00000000e+00 0.00000000e+00 5.68610433e-31 0.00000000e+00 0.00000000e+00\r\n"
     ]
    }
   ],
   "source": [
    "!tail kh_rates.dat"
   ]
  },
  {
   "cell_type": "code",
   "execution_count": null,
   "metadata": {
    "collapsed": true
   },
   "outputs": [],
   "source": []
  }
 ],
 "metadata": {
  "kernelspec": {
   "display_name": "Python 2",
   "language": "python",
   "name": "python2"
  },
  "language_info": {
   "codemirror_mode": {
    "name": "ipython",
    "version": 2
   },
   "file_extension": ".py",
   "mimetype": "text/x-python",
   "name": "python",
   "nbconvert_exporter": "python",
   "pygments_lexer": "ipython2",
   "version": "2.7.10"
  }
 },
 "nbformat": 4,
 "nbformat_minor": 0
}
