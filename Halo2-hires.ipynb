{
 "cells": [
  {
   "cell_type": "code",
   "execution_count": 1,
   "metadata": {
    "collapsed": true
   },
   "outputs": [],
   "source": [
    "%matplotlib inline\n",
    "import os\n",
    "import re\n",
    "import numpy as np\n",
    "import pandas as pd\n",
    "import matplotlib as mpl\n",
    "from matplotlib import pyplot as plt\n",
    "import seaborn as sns\n",
    "import pyGadget\n",
    "#mpl.rc('font', size=20.)\n",
    "#mpl.rc('font', family='serif')\n",
    "#mpl.rc('text', usetex=True)"
   ]
  },
  {
   "cell_type": "code",
   "execution_count": 2,
   "metadata": {
    "collapsed": false
   },
   "outputs": [],
   "source": [
    "sim = pyGadget.sim.Simulation('stampede/halo2_restart0',length='pc', coordinates='physical')"
   ]
  },
  {
   "cell_type": "code",
   "execution_count": 6,
   "metadata": {
    "collapsed": false
   },
   "outputs": [],
   "source": [
    "snap0 = sim.load_snapshot(147)\n",
    "snap1 = sim.load_snapshot(148)\n",
    "snap2 = sim.load_snapshot(640)\n",
    "snap3 = sim.load_snapshot(641)"
   ]
  },
  {
   "cell_type": "code",
   "execution_count": 7,
   "metadata": {
    "collapsed": false
   },
   "outputs": [
    {
     "data": {
      "text/plain": [
       "(21.917744965482218, 21.701499945328713)"
      ]
     },
     "execution_count": 7,
     "metadata": {},
     "output_type": "execute_result"
    }
   ],
   "source": [
    "snap0.header.Redshift, snap3.header.Redshift"
   ]
  },
  {
   "cell_type": "code",
   "execution_count": 8,
   "metadata": {
    "collapsed": false
   },
   "outputs": [],
   "source": [
    "for snap in [snap1,snap2, snap0, snap3]:\n",
    "    snap.gas.load_coords()\n",
    "    snap.gas.load_masses()\n",
    "    snap.gas.load_number_density()\n",
    "    snap.gas.load_PIDs()\n",
    "    snap.gas.load_sinks()\n",
    "del snap"
   ]
  },
  {
   "cell_type": "code",
   "execution_count": 9,
   "metadata": {
    "collapsed": false
   },
   "outputs": [
    {
     "data": {
      "text/html": [
       "<div>\n",
       "<table border=\"1\" class=\"dataframe\">\n",
       "  <thead>\n",
       "    <tr style=\"text-align: right;\">\n",
       "      <th></th>\n",
       "      <th>x</th>\n",
       "      <th>y</th>\n",
       "      <th>z</th>\n",
       "      <th>masses</th>\n",
       "      <th>ndensity</th>\n",
       "      <th>particleIDs</th>\n",
       "      <th>sink_value</th>\n",
       "    </tr>\n",
       "  </thead>\n",
       "  <tbody>\n",
       "    <tr>\n",
       "      <th>count</th>\n",
       "      <td>11035050.000000</td>\n",
       "      <td>11035050.000000</td>\n",
       "      <td>11035050.000000</td>\n",
       "      <td>11035050.000000</td>\n",
       "      <td>11035050.000000</td>\n",
       "      <td>11035050.000000</td>\n",
       "      <td>11035050</td>\n",
       "    </tr>\n",
       "    <tr>\n",
       "      <th>mean</th>\n",
       "      <td>360.484201</td>\n",
       "      <td>398.043568</td>\n",
       "      <td>393.164445</td>\n",
       "      <td>0.023163</td>\n",
       "      <td>42.835305</td>\n",
       "      <td>5653094.451667</td>\n",
       "      <td>0</td>\n",
       "    </tr>\n",
       "    <tr>\n",
       "      <th>std</th>\n",
       "      <td>89.636628</td>\n",
       "      <td>91.372319</td>\n",
       "      <td>74.545350</td>\n",
       "      <td>0.069674</td>\n",
       "      <td>374.829868</td>\n",
       "      <td>3191504.936639</td>\n",
       "      <td>0</td>\n",
       "    </tr>\n",
       "    <tr>\n",
       "      <th>min</th>\n",
       "      <td>0.000000</td>\n",
       "      <td>0.000000</td>\n",
       "      <td>0.000000</td>\n",
       "      <td>0.014425</td>\n",
       "      <td>0.001031</td>\n",
       "      <td>1.000000</td>\n",
       "      <td>0</td>\n",
       "    </tr>\n",
       "    <tr>\n",
       "      <th>25%</th>\n",
       "      <td>293.775681</td>\n",
       "      <td>355.582643</td>\n",
       "      <td>349.234590</td>\n",
       "      <td>0.014425</td>\n",
       "      <td>0.156957</td>\n",
       "      <td>2897821.250000</td>\n",
       "      <td>0</td>\n",
       "    </tr>\n",
       "    <tr>\n",
       "      <th>50%</th>\n",
       "      <td>369.539117</td>\n",
       "      <td>390.919624</td>\n",
       "      <td>388.763315</td>\n",
       "      <td>0.014425</td>\n",
       "      <td>0.496284</td>\n",
       "      <td>5656583.500000</td>\n",
       "      <td>0</td>\n",
       "    </tr>\n",
       "    <tr>\n",
       "      <th>75%</th>\n",
       "      <td>417.752539</td>\n",
       "      <td>467.723195</td>\n",
       "      <td>439.036451</td>\n",
       "      <td>0.014425</td>\n",
       "      <td>1.572909</td>\n",
       "      <td>8415345.750000</td>\n",
       "      <td>0</td>\n",
       "    </tr>\n",
       "    <tr>\n",
       "      <th>max</th>\n",
       "      <td>742.376337</td>\n",
       "      <td>740.166037</td>\n",
       "      <td>760.618913</td>\n",
       "      <td>0.923173</td>\n",
       "      <td>9983.994080</td>\n",
       "      <td>11174108.000000</td>\n",
       "      <td>0</td>\n",
       "    </tr>\n",
       "  </tbody>\n",
       "</table>\n",
       "</div>"
      ],
      "text/plain": [
       "                     x                y                z           masses  \\\n",
       "count  11035050.000000  11035050.000000  11035050.000000  11035050.000000   \n",
       "mean        360.484201       398.043568       393.164445         0.023163   \n",
       "std          89.636628        91.372319        74.545350         0.069674   \n",
       "min           0.000000         0.000000         0.000000         0.014425   \n",
       "25%         293.775681       355.582643       349.234590         0.014425   \n",
       "50%         369.539117       390.919624       388.763315         0.014425   \n",
       "75%         417.752539       467.723195       439.036451         0.014425   \n",
       "max         742.376337       740.166037       760.618913         0.923173   \n",
       "\n",
       "              ndensity      particleIDs  sink_value  \n",
       "count  11035050.000000  11035050.000000    11035050  \n",
       "mean         42.835305   5653094.451667           0  \n",
       "std         374.829868   3191504.936639           0  \n",
       "min           0.001031         1.000000           0  \n",
       "25%           0.156957   2897821.250000           0  \n",
       "50%           0.496284   5656583.500000           0  \n",
       "75%           1.572909   8415345.750000           0  \n",
       "max        9983.994080  11174108.000000           0  "
      ]
     },
     "execution_count": 9,
     "metadata": {},
     "output_type": "execute_result"
    }
   ],
   "source": [
    "snap0.gas.describe()"
   ]
  },
  {
   "cell_type": "code",
   "execution_count": 1,
   "metadata": {
    "collapsed": false
   },
   "outputs": [
    {
     "data": {
      "text/plain": [
       "0.6924"
      ]
     },
     "execution_count": 1,
     "metadata": {},
     "output_type": "execute_result"
    }
   ],
   "source": [
    ".014425 * 32 * 1.5"
   ]
  },
  {
   "cell_type": "code",
   "execution_count": 10,
   "metadata": {
    "collapsed": false
   },
   "outputs": [
    {
     "data": {
      "text/html": [
       "<div>\n",
       "<table border=\"1\" class=\"dataframe\">\n",
       "  <thead>\n",
       "    <tr style=\"text-align: right;\">\n",
       "      <th></th>\n",
       "      <th>x</th>\n",
       "      <th>y</th>\n",
       "      <th>z</th>\n",
       "      <th>masses</th>\n",
       "      <th>ndensity</th>\n",
       "      <th>particleIDs</th>\n",
       "      <th>sink_value</th>\n",
       "    </tr>\n",
       "  </thead>\n",
       "  <tbody>\n",
       "    <tr>\n",
       "      <th>count</th>\n",
       "      <td>11032540.000000</td>\n",
       "      <td>11032540.000000</td>\n",
       "      <td>11032540.000000</td>\n",
       "      <td>11032540.000000</td>\n",
       "      <td>1.103254e+07</td>\n",
       "      <td>11032540.000000</td>\n",
       "      <td>1.103254e+07</td>\n",
       "    </tr>\n",
       "    <tr>\n",
       "      <th>mean</th>\n",
       "      <td>374.286055</td>\n",
       "      <td>395.920469</td>\n",
       "      <td>408.057514</td>\n",
       "      <td>0.023168</td>\n",
       "      <td>4.619072e+06</td>\n",
       "      <td>5652681.422024</td>\n",
       "      <td>5.438458e-07</td>\n",
       "    </tr>\n",
       "    <tr>\n",
       "      <th>std</th>\n",
       "      <td>86.374308</td>\n",
       "      <td>89.724836</td>\n",
       "      <td>71.655783</td>\n",
       "      <td>0.070004</td>\n",
       "      <td>8.219383e+08</td>\n",
       "      <td>3191392.919735</td>\n",
       "      <td>1.042924e-03</td>\n",
       "    </tr>\n",
       "    <tr>\n",
       "      <th>min</th>\n",
       "      <td>13.821271</td>\n",
       "      <td>-1.113952</td>\n",
       "      <td>24.952311</td>\n",
       "      <td>0.014425</td>\n",
       "      <td>5.910600e-05</td>\n",
       "      <td>1.000000</td>\n",
       "      <td>0.000000e+00</td>\n",
       "    </tr>\n",
       "    <tr>\n",
       "      <th>25%</th>\n",
       "      <td>312.131723</td>\n",
       "      <td>354.758487</td>\n",
       "      <td>364.637705</td>\n",
       "      <td>0.014425</td>\n",
       "      <td>1.444624e-01</td>\n",
       "      <td>2897813.750000</td>\n",
       "      <td>0.000000e+00</td>\n",
       "    </tr>\n",
       "    <tr>\n",
       "      <th>50%</th>\n",
       "      <td>381.540230</td>\n",
       "      <td>388.515362</td>\n",
       "      <td>402.540637</td>\n",
       "      <td>0.014425</td>\n",
       "      <td>4.479532e-01</td>\n",
       "      <td>5655948.500000</td>\n",
       "      <td>0.000000e+00</td>\n",
       "    </tr>\n",
       "    <tr>\n",
       "      <th>75%</th>\n",
       "      <td>429.372046</td>\n",
       "      <td>464.678465</td>\n",
       "      <td>453.102256</td>\n",
       "      <td>0.014425</td>\n",
       "      <td>1.454198e+00</td>\n",
       "      <td>8414083.250000</td>\n",
       "      <td>0.000000e+00</td>\n",
       "    </tr>\n",
       "    <tr>\n",
       "      <th>max</th>\n",
       "      <td>754.417642</td>\n",
       "      <td>736.685163</td>\n",
       "      <td>768.570601</td>\n",
       "      <td>16.689245</td>\n",
       "      <td>1.000000e+12</td>\n",
       "      <td>11174108.000000</td>\n",
       "      <td>2.000000e+00</td>\n",
       "    </tr>\n",
       "  </tbody>\n",
       "</table>\n",
       "</div>"
      ],
      "text/plain": [
       "                     x                y                z           masses  \\\n",
       "count  11032540.000000  11032540.000000  11032540.000000  11032540.000000   \n",
       "mean        374.286055       395.920469       408.057514         0.023168   \n",
       "std          86.374308        89.724836        71.655783         0.070004   \n",
       "min          13.821271        -1.113952        24.952311         0.014425   \n",
       "25%         312.131723       354.758487       364.637705         0.014425   \n",
       "50%         381.540230       388.515362       402.540637         0.014425   \n",
       "75%         429.372046       464.678465       453.102256         0.014425   \n",
       "max         754.417642       736.685163       768.570601        16.689245   \n",
       "\n",
       "           ndensity      particleIDs    sink_value  \n",
       "count  1.103254e+07  11032540.000000  1.103254e+07  \n",
       "mean   4.619072e+06   5652681.422024  5.438458e-07  \n",
       "std    8.219383e+08   3191392.919735  1.042924e-03  \n",
       "min    5.910600e-05         1.000000  0.000000e+00  \n",
       "25%    1.444624e-01   2897813.750000  0.000000e+00  \n",
       "50%    4.479532e-01   5655948.500000  0.000000e+00  \n",
       "75%    1.454198e+00   8414083.250000  0.000000e+00  \n",
       "max    1.000000e+12  11174108.000000  2.000000e+00  "
      ]
     },
     "execution_count": 10,
     "metadata": {},
     "output_type": "execute_result"
    }
   ],
   "source": [
    "snap3.gas.describe()"
   ]
  },
  {
   "cell_type": "code",
   "execution_count": 11,
   "metadata": {
    "collapsed": false
   },
   "outputs": [],
   "source": [
    "gb1 = snap1.gas.groupby(snap1.gas.masses)"
   ]
  },
  {
   "cell_type": "code",
   "execution_count": 15,
   "metadata": {
    "collapsed": false
   },
   "outputs": [
    {
     "data": {
      "text/html": [
       "<div>\n",
       "<table border=\"1\" class=\"dataframe\">\n",
       "  <thead>\n",
       "    <tr style=\"text-align: right;\">\n",
       "      <th></th>\n",
       "      <th>x</th>\n",
       "      <th>y</th>\n",
       "      <th>z</th>\n",
       "      <th>masses</th>\n",
       "      <th>ndensity</th>\n",
       "      <th>particleIDs</th>\n",
       "      <th>sink_value</th>\n",
       "    </tr>\n",
       "    <tr>\n",
       "      <th>masses</th>\n",
       "      <th></th>\n",
       "      <th></th>\n",
       "      <th></th>\n",
       "      <th></th>\n",
       "      <th></th>\n",
       "      <th></th>\n",
       "      <th></th>\n",
       "    </tr>\n",
       "  </thead>\n",
       "  <tbody>\n",
       "    <tr>\n",
       "      <th>0.014425</th>\n",
       "      <td>10566936</td>\n",
       "      <td>10566936</td>\n",
       "      <td>10566936</td>\n",
       "      <td>10566936</td>\n",
       "      <td>10566936</td>\n",
       "      <td>10566936</td>\n",
       "      <td>10566936</td>\n",
       "    </tr>\n",
       "    <tr>\n",
       "      <th>0.115397</th>\n",
       "      <td>407253</td>\n",
       "      <td>407253</td>\n",
       "      <td>407253</td>\n",
       "      <td>407253</td>\n",
       "      <td>407253</td>\n",
       "      <td>407253</td>\n",
       "      <td>407253</td>\n",
       "    </tr>\n",
       "    <tr>\n",
       "      <th>0.923173</th>\n",
       "      <td>60861</td>\n",
       "      <td>60861</td>\n",
       "      <td>60861</td>\n",
       "      <td>60861</td>\n",
       "      <td>60861</td>\n",
       "      <td>60861</td>\n",
       "      <td>60861</td>\n",
       "    </tr>\n",
       "  </tbody>\n",
       "</table>\n",
       "</div>"
      ],
      "text/plain": [
       "                 x         y         z    masses  ndensity  particleIDs  \\\n",
       "masses                                                                    \n",
       "0.014425  10566936  10566936  10566936  10566936  10566936     10566936   \n",
       "0.115397    407253    407253    407253    407253    407253       407253   \n",
       "0.923173     60861     60861     60861     60861     60861        60861   \n",
       "\n",
       "          sink_value  \n",
       "masses                \n",
       "0.014425    10566936  \n",
       "0.115397      407253  \n",
       "0.923173       60861  "
      ]
     },
     "execution_count": 15,
     "metadata": {},
     "output_type": "execute_result"
    }
   ],
   "source": [
    "gb1.count()"
   ]
  },
  {
   "cell_type": "code",
   "execution_count": 13,
   "metadata": {
    "collapsed": false
   },
   "outputs": [],
   "source": [
    "gb2 = snap2.gas.groupby(snap2.gas.masses)"
   ]
  },
  {
   "cell_type": "code",
   "execution_count": 14,
   "metadata": {
    "collapsed": false
   },
   "outputs": [
    {
     "data": {
      "text/html": [
       "<div>\n",
       "<table border=\"1\" class=\"dataframe\">\n",
       "  <thead>\n",
       "    <tr style=\"text-align: right;\">\n",
       "      <th></th>\n",
       "      <th>x</th>\n",
       "      <th>y</th>\n",
       "      <th>z</th>\n",
       "      <th>masses</th>\n",
       "      <th>ndensity</th>\n",
       "      <th>particleIDs</th>\n",
       "      <th>sink_value</th>\n",
       "    </tr>\n",
       "    <tr>\n",
       "      <th>masses</th>\n",
       "      <th></th>\n",
       "      <th></th>\n",
       "      <th></th>\n",
       "      <th></th>\n",
       "      <th></th>\n",
       "      <th></th>\n",
       "      <th></th>\n",
       "    </tr>\n",
       "  </thead>\n",
       "  <tbody>\n",
       "    <tr>\n",
       "      <th>0.014425</th>\n",
       "      <td>374.458022</td>\n",
       "      <td>395.911292</td>\n",
       "      <td>408.166414</td>\n",
       "      <td>0.014425</td>\n",
       "      <td>4.409274e+06</td>\n",
       "      <td>5861339</td>\n",
       "      <td>0</td>\n",
       "    </tr>\n",
       "    <tr>\n",
       "      <th>0.115397</th>\n",
       "      <td>372.204139</td>\n",
       "      <td>395.820560</td>\n",
       "      <td>405.030672</td>\n",
       "      <td>0.115397</td>\n",
       "      <td>1.327374e-01</td>\n",
       "      <td>1064083</td>\n",
       "      <td>0</td>\n",
       "    </tr>\n",
       "    <tr>\n",
       "      <th>0.548134</th>\n",
       "      <td>382.722246</td>\n",
       "      <td>371.829372</td>\n",
       "      <td>394.156500</td>\n",
       "      <td>0.548134</td>\n",
       "      <td>1.000000e+12</td>\n",
       "      <td>9273748</td>\n",
       "      <td>2</td>\n",
       "    </tr>\n",
       "    <tr>\n",
       "      <th>0.923173</th>\n",
       "      <td>358.348328</td>\n",
       "      <td>398.184988</td>\n",
       "      <td>409.388735</td>\n",
       "      <td>0.923173</td>\n",
       "      <td>1.514611e-01</td>\n",
       "      <td>137753</td>\n",
       "      <td>0</td>\n",
       "    </tr>\n",
       "    <tr>\n",
       "      <th>5.120728</th>\n",
       "      <td>382.723168</td>\n",
       "      <td>371.834367</td>\n",
       "      <td>394.139762</td>\n",
       "      <td>5.120728</td>\n",
       "      <td>1.000000e+12</td>\n",
       "      <td>9273588</td>\n",
       "      <td>2</td>\n",
       "    </tr>\n",
       "    <tr>\n",
       "      <th>13.862026</th>\n",
       "      <td>382.723286</td>\n",
       "      <td>371.834581</td>\n",
       "      <td>394.139678</td>\n",
       "      <td>13.862026</td>\n",
       "      <td>1.000000e+12</td>\n",
       "      <td>9245872</td>\n",
       "      <td>2</td>\n",
       "    </tr>\n",
       "    <tr>\n",
       "      <th>16.674820</th>\n",
       "      <td>382.721115</td>\n",
       "      <td>371.830319</td>\n",
       "      <td>394.147697</td>\n",
       "      <td>16.674820</td>\n",
       "      <td>1.000000e+12</td>\n",
       "      <td>189043</td>\n",
       "      <td>2</td>\n",
       "    </tr>\n",
       "  </tbody>\n",
       "</table>\n",
       "</div>"
      ],
      "text/plain": [
       "                    x           y           z     masses      ndensity  \\\n",
       "masses                                                                   \n",
       "0.014425   374.458022  395.911292  408.166414   0.014425  4.409274e+06   \n",
       "0.115397   372.204139  395.820560  405.030672   0.115397  1.327374e-01   \n",
       "0.548134   382.722246  371.829372  394.156500   0.548134  1.000000e+12   \n",
       "0.923173   358.348328  398.184988  409.388735   0.923173  1.514611e-01   \n",
       "5.120728   382.723168  371.834367  394.139762   5.120728  1.000000e+12   \n",
       "13.862026  382.723286  371.834581  394.139678  13.862026  1.000000e+12   \n",
       "16.674820  382.721115  371.830319  394.147697  16.674820  1.000000e+12   \n",
       "\n",
       "           particleIDs  sink_value  \n",
       "masses                              \n",
       "0.014425       5861339           0  \n",
       "0.115397       1064083           0  \n",
       "0.548134       9273748           2  \n",
       "0.923173        137753           0  \n",
       "5.120728       9273588           2  \n",
       "13.862026      9245872           2  \n",
       "16.674820       189043           2  "
      ]
     },
     "execution_count": 14,
     "metadata": {},
     "output_type": "execute_result"
    }
   ],
   "source": [
    "gb2.mean()"
   ]
  },
  {
   "cell_type": "code",
   "execution_count": 12,
   "metadata": {
    "collapsed": true
   },
   "outputs": [],
   "source": [
    "sinks1 = snap1.gas[snap1.gas.sink_value > 0]\n",
    "sinks2 = snap2.gas[snap2.gas.sink_value > 0]\n",
    "bigM1 = snap1.gas[snap1.gas.masses > 1]\n",
    "bigM2 = snap2.gas[snap2.gas.masses > 1]"
   ]
  },
  {
   "cell_type": "code",
   "execution_count": 13,
   "metadata": {
    "collapsed": false
   },
   "outputs": [
    {
     "data": {
      "text/html": [
       "<div>\n",
       "<table border=\"1\" class=\"dataframe\">\n",
       "  <thead>\n",
       "    <tr style=\"text-align: right;\">\n",
       "      <th></th>\n",
       "      <th>x</th>\n",
       "      <th>y</th>\n",
       "      <th>z</th>\n",
       "      <th>masses</th>\n",
       "      <th>ndensity</th>\n",
       "      <th>particleIDs</th>\n",
       "      <th>sink_value</th>\n",
       "    </tr>\n",
       "  </thead>\n",
       "  <tbody>\n",
       "    <tr>\n",
       "      <th>2812378</th>\n",
       "      <td>322.010490</td>\n",
       "      <td>309.812710</td>\n",
       "      <td>322.630716</td>\n",
       "      <td>5.740985</td>\n",
       "      <td>1.000000e+12</td>\n",
       "      <td>2812378</td>\n",
       "      <td>2</td>\n",
       "    </tr>\n",
       "    <tr>\n",
       "      <th>1501569</th>\n",
       "      <td>322.010698</td>\n",
       "      <td>309.812834</td>\n",
       "      <td>322.631513</td>\n",
       "      <td>13.862026</td>\n",
       "      <td>1.000000e+12</td>\n",
       "      <td>1501569</td>\n",
       "      <td>2</td>\n",
       "    </tr>\n",
       "    <tr>\n",
       "      <th>1492707</th>\n",
       "      <td>322.009449</td>\n",
       "      <td>309.810989</td>\n",
       "      <td>322.631709</td>\n",
       "      <td>15.145814</td>\n",
       "      <td>1.000000e+12</td>\n",
       "      <td>1492707</td>\n",
       "      <td>2</td>\n",
       "    </tr>\n",
       "    <tr>\n",
       "      <th>9267047</th>\n",
       "      <td>322.009343</td>\n",
       "      <td>309.810786</td>\n",
       "      <td>322.632057</td>\n",
       "      <td>3.851364</td>\n",
       "      <td>1.000000e+12</td>\n",
       "      <td>9267047</td>\n",
       "      <td>2</td>\n",
       "    </tr>\n",
       "  </tbody>\n",
       "</table>\n",
       "</div>"
      ],
      "text/plain": [
       "                  x           y           z     masses      ndensity  \\\n",
       "2812378  322.010490  309.812710  322.630716   5.740985  1.000000e+12   \n",
       "1501569  322.010698  309.812834  322.631513  13.862026  1.000000e+12   \n",
       "1492707  322.009449  309.810989  322.631709  15.145814  1.000000e+12   \n",
       "9267047  322.009343  309.810786  322.632057   3.851364  1.000000e+12   \n",
       "\n",
       "         particleIDs  sink_value  \n",
       "2812378      2812378           2  \n",
       "1501569      1501569           2  \n",
       "1492707      1492707           2  \n",
       "9267047      9267047           2  "
      ]
     },
     "execution_count": 13,
     "metadata": {},
     "output_type": "execute_result"
    }
   ],
   "source": [
    "sinks1"
   ]
  },
  {
   "cell_type": "code",
   "execution_count": 14,
   "metadata": {
    "collapsed": false
   },
   "outputs": [
    {
     "data": {
      "text/html": [
       "<div>\n",
       "<table border=\"1\" class=\"dataframe\">\n",
       "  <thead>\n",
       "    <tr style=\"text-align: right;\">\n",
       "      <th></th>\n",
       "      <th>x</th>\n",
       "      <th>y</th>\n",
       "      <th>z</th>\n",
       "      <th>masses</th>\n",
       "      <th>ndensity</th>\n",
       "      <th>particleIDs</th>\n",
       "      <th>sink_value</th>\n",
       "    </tr>\n",
       "  </thead>\n",
       "  <tbody>\n",
       "    <tr>\n",
       "      <th>2812378</th>\n",
       "      <td>322.010490</td>\n",
       "      <td>309.812710</td>\n",
       "      <td>322.630716</td>\n",
       "      <td>5.740985</td>\n",
       "      <td>1.000000e+12</td>\n",
       "      <td>2812378</td>\n",
       "      <td>2</td>\n",
       "    </tr>\n",
       "    <tr>\n",
       "      <th>1501569</th>\n",
       "      <td>322.010698</td>\n",
       "      <td>309.812834</td>\n",
       "      <td>322.631513</td>\n",
       "      <td>13.862026</td>\n",
       "      <td>1.000000e+12</td>\n",
       "      <td>1501569</td>\n",
       "      <td>2</td>\n",
       "    </tr>\n",
       "    <tr>\n",
       "      <th>1492707</th>\n",
       "      <td>322.009449</td>\n",
       "      <td>309.810989</td>\n",
       "      <td>322.631709</td>\n",
       "      <td>15.145814</td>\n",
       "      <td>1.000000e+12</td>\n",
       "      <td>1492707</td>\n",
       "      <td>2</td>\n",
       "    </tr>\n",
       "    <tr>\n",
       "      <th>9267047</th>\n",
       "      <td>322.009343</td>\n",
       "      <td>309.810786</td>\n",
       "      <td>322.632057</td>\n",
       "      <td>3.851364</td>\n",
       "      <td>1.000000e+12</td>\n",
       "      <td>9267047</td>\n",
       "      <td>2</td>\n",
       "    </tr>\n",
       "  </tbody>\n",
       "</table>\n",
       "</div>"
      ],
      "text/plain": [
       "                  x           y           z     masses      ndensity  \\\n",
       "2812378  322.010490  309.812710  322.630716   5.740985  1.000000e+12   \n",
       "1501569  322.010698  309.812834  322.631513  13.862026  1.000000e+12   \n",
       "1492707  322.009449  309.810989  322.631709  15.145814  1.000000e+12   \n",
       "9267047  322.009343  309.810786  322.632057   3.851364  1.000000e+12   \n",
       "\n",
       "         particleIDs  sink_value  \n",
       "2812378      2812378           2  \n",
       "1501569      1501569           2  \n",
       "1492707      1492707           2  \n",
       "9267047      9267047           2  "
      ]
     },
     "execution_count": 14,
     "metadata": {},
     "output_type": "execute_result"
    }
   ],
   "source": [
    "bigM1"
   ]
  },
  {
   "cell_type": "code",
   "execution_count": 15,
   "metadata": {
    "collapsed": false
   },
   "outputs": [
    {
     "data": {
      "text/html": [
       "<div>\n",
       "<table border=\"1\" class=\"dataframe\">\n",
       "  <thead>\n",
       "    <tr style=\"text-align: right;\">\n",
       "      <th></th>\n",
       "      <th>x</th>\n",
       "      <th>y</th>\n",
       "      <th>z</th>\n",
       "      <th>masses</th>\n",
       "      <th>ndensity</th>\n",
       "      <th>particleIDs</th>\n",
       "      <th>sink_value</th>\n",
       "    </tr>\n",
       "  </thead>\n",
       "  <tbody>\n",
       "    <tr>\n",
       "      <th>2812378</th>\n",
       "      <td>322.010509</td>\n",
       "      <td>309.812602</td>\n",
       "      <td>322.630817</td>\n",
       "      <td>5.740985</td>\n",
       "      <td>1.000000e+12</td>\n",
       "      <td>2812378</td>\n",
       "      <td>2</td>\n",
       "    </tr>\n",
       "    <tr>\n",
       "      <th>1501569</th>\n",
       "      <td>322.010776</td>\n",
       "      <td>309.812831</td>\n",
       "      <td>322.631508</td>\n",
       "      <td>13.876451</td>\n",
       "      <td>1.000000e+12</td>\n",
       "      <td>1501569</td>\n",
       "      <td>2</td>\n",
       "    </tr>\n",
       "    <tr>\n",
       "      <th>9267047</th>\n",
       "      <td>322.009579</td>\n",
       "      <td>309.810926</td>\n",
       "      <td>322.632354</td>\n",
       "      <td>3.937912</td>\n",
       "      <td>1.000000e+12</td>\n",
       "      <td>9267047</td>\n",
       "      <td>2</td>\n",
       "    </tr>\n",
       "    <tr>\n",
       "      <th>1492707</th>\n",
       "      <td>322.009568</td>\n",
       "      <td>309.810992</td>\n",
       "      <td>322.631873</td>\n",
       "      <td>30.464724</td>\n",
       "      <td>1.000000e+12</td>\n",
       "      <td>1492707</td>\n",
       "      <td>2</td>\n",
       "    </tr>\n",
       "  </tbody>\n",
       "</table>\n",
       "</div>"
      ],
      "text/plain": [
       "                  x           y           z     masses      ndensity  \\\n",
       "2812378  322.010509  309.812602  322.630817   5.740985  1.000000e+12   \n",
       "1501569  322.010776  309.812831  322.631508  13.876451  1.000000e+12   \n",
       "9267047  322.009579  309.810926  322.632354   3.937912  1.000000e+12   \n",
       "1492707  322.009568  309.810992  322.631873  30.464724  1.000000e+12   \n",
       "\n",
       "         particleIDs  sink_value  \n",
       "2812378      2812378           2  \n",
       "1501569      1501569           2  \n",
       "9267047      9267047           2  \n",
       "1492707      1492707           2  "
      ]
     },
     "execution_count": 15,
     "metadata": {},
     "output_type": "execute_result"
    }
   ],
   "source": [
    "sinks2"
   ]
  },
  {
   "cell_type": "code",
   "execution_count": 16,
   "metadata": {
    "collapsed": false
   },
   "outputs": [
    {
     "data": {
      "text/html": [
       "<div>\n",
       "<table border=\"1\" class=\"dataframe\">\n",
       "  <thead>\n",
       "    <tr style=\"text-align: right;\">\n",
       "      <th></th>\n",
       "      <th>x</th>\n",
       "      <th>y</th>\n",
       "      <th>z</th>\n",
       "      <th>masses</th>\n",
       "      <th>ndensity</th>\n",
       "      <th>particleIDs</th>\n",
       "      <th>sink_value</th>\n",
       "    </tr>\n",
       "  </thead>\n",
       "  <tbody>\n",
       "    <tr>\n",
       "      <th>2812378</th>\n",
       "      <td>322.010509</td>\n",
       "      <td>309.812602</td>\n",
       "      <td>322.630817</td>\n",
       "      <td>5.740985</td>\n",
       "      <td>1.000000e+12</td>\n",
       "      <td>2812378</td>\n",
       "      <td>2</td>\n",
       "    </tr>\n",
       "    <tr>\n",
       "      <th>1501569</th>\n",
       "      <td>322.010776</td>\n",
       "      <td>309.812831</td>\n",
       "      <td>322.631508</td>\n",
       "      <td>13.876451</td>\n",
       "      <td>1.000000e+12</td>\n",
       "      <td>1501569</td>\n",
       "      <td>2</td>\n",
       "    </tr>\n",
       "    <tr>\n",
       "      <th>9267047</th>\n",
       "      <td>322.009579</td>\n",
       "      <td>309.810926</td>\n",
       "      <td>322.632354</td>\n",
       "      <td>3.937912</td>\n",
       "      <td>1.000000e+12</td>\n",
       "      <td>9267047</td>\n",
       "      <td>2</td>\n",
       "    </tr>\n",
       "    <tr>\n",
       "      <th>1492707</th>\n",
       "      <td>322.009568</td>\n",
       "      <td>309.810992</td>\n",
       "      <td>322.631873</td>\n",
       "      <td>30.464724</td>\n",
       "      <td>1.000000e+12</td>\n",
       "      <td>1492707</td>\n",
       "      <td>2</td>\n",
       "    </tr>\n",
       "  </tbody>\n",
       "</table>\n",
       "</div>"
      ],
      "text/plain": [
       "                  x           y           z     masses      ndensity  \\\n",
       "2812378  322.010509  309.812602  322.630817   5.740985  1.000000e+12   \n",
       "1501569  322.010776  309.812831  322.631508  13.876451  1.000000e+12   \n",
       "9267047  322.009579  309.810926  322.632354   3.937912  1.000000e+12   \n",
       "1492707  322.009568  309.810992  322.631873  30.464724  1.000000e+12   \n",
       "\n",
       "         particleIDs  sink_value  \n",
       "2812378      2812378           2  \n",
       "1501569      1501569           2  \n",
       "9267047      9267047           2  \n",
       "1492707      1492707           2  "
      ]
     },
     "execution_count": 16,
     "metadata": {},
     "output_type": "execute_result"
    }
   ],
   "source": [
    "bigM2"
   ]
  },
  {
   "cell_type": "code",
   "execution_count": 17,
   "metadata": {
    "collapsed": false
   },
   "outputs": [
    {
     "data": {
      "text/html": [
       "<div>\n",
       "<table border=\"1\" class=\"dataframe\">\n",
       "  <thead>\n",
       "    <tr style=\"text-align: right;\">\n",
       "      <th></th>\n",
       "      <th>x</th>\n",
       "      <th>y</th>\n",
       "      <th>z</th>\n",
       "      <th>masses</th>\n",
       "      <th>ndensity</th>\n",
       "      <th>particleIDs</th>\n",
       "      <th>sink_value</th>\n",
       "    </tr>\n",
       "  </thead>\n",
       "  <tbody>\n",
       "  </tbody>\n",
       "</table>\n",
       "</div>"
      ],
      "text/plain": [
       "Empty DataFrame\n",
       "Columns: [x, y, z, masses, ndensity, particleIDs, sink_value]\n",
       "Index: []"
      ]
     },
     "execution_count": 17,
     "metadata": {},
     "output_type": "execute_result"
    }
   ],
   "source": [
    "sinks1[-sinks1.particleIDs.isin(sinks2.particleIDs)]"
   ]
  },
  {
   "cell_type": "code",
   "execution_count": 18,
   "metadata": {
    "collapsed": false
   },
   "outputs": [],
   "source": [
    "df1 = snap1.gas\n",
    "df2 = snap2.gas"
   ]
  },
  {
   "cell_type": "markdown",
   "metadata": {},
   "source": [
    "###These are the particles that disappear between snapshot 775 and snapshot 776:"
   ]
  },
  {
   "cell_type": "code",
   "execution_count": 19,
   "metadata": {
    "collapsed": false
   },
   "outputs": [
    {
     "data": {
      "text/html": [
       "<div>\n",
       "<table border=\"1\" class=\"dataframe\">\n",
       "  <thead>\n",
       "    <tr style=\"text-align: right;\">\n",
       "      <th></th>\n",
       "      <th>x</th>\n",
       "      <th>y</th>\n",
       "      <th>z</th>\n",
       "      <th>masses</th>\n",
       "      <th>ndensity</th>\n",
       "      <th>particleIDs</th>\n",
       "      <th>sink_value</th>\n",
       "    </tr>\n",
       "  </thead>\n",
       "  <tbody>\n",
       "    <tr>\n",
       "      <th>9223718</th>\n",
       "      <td>322.010513</td>\n",
       "      <td>309.812653</td>\n",
       "      <td>322.631378</td>\n",
       "      <td>0.014425</td>\n",
       "      <td>1.353638e+11</td>\n",
       "      <td>9223718</td>\n",
       "      <td>0</td>\n",
       "    </tr>\n",
       "    <tr>\n",
       "      <th>9253816</th>\n",
       "      <td>322.009506</td>\n",
       "      <td>309.811180</td>\n",
       "      <td>322.631386</td>\n",
       "      <td>0.014425</td>\n",
       "      <td>1.220591e+11</td>\n",
       "      <td>9253816</td>\n",
       "      <td>0</td>\n",
       "    </tr>\n",
       "    <tr>\n",
       "      <th>9274219</th>\n",
       "      <td>322.009398</td>\n",
       "      <td>309.810999</td>\n",
       "      <td>322.631432</td>\n",
       "      <td>0.014425</td>\n",
       "      <td>1.588622e+11</td>\n",
       "      <td>9274219</td>\n",
       "      <td>0</td>\n",
       "    </tr>\n",
       "    <tr>\n",
       "      <th>9271744</th>\n",
       "      <td>322.009423</td>\n",
       "      <td>309.810935</td>\n",
       "      <td>322.631433</td>\n",
       "      <td>0.014425</td>\n",
       "      <td>1.492974e+11</td>\n",
       "      <td>9271744</td>\n",
       "      <td>0</td>\n",
       "    </tr>\n",
       "    <tr>\n",
       "      <th>9276564</th>\n",
       "      <td>322.009539</td>\n",
       "      <td>309.810893</td>\n",
       "      <td>322.632299</td>\n",
       "      <td>0.014425</td>\n",
       "      <td>1.528862e+11</td>\n",
       "      <td>9276564</td>\n",
       "      <td>0</td>\n",
       "    </tr>\n",
       "    <tr>\n",
       "      <th>9259630</th>\n",
       "      <td>322.009654</td>\n",
       "      <td>309.811145</td>\n",
       "      <td>322.631733</td>\n",
       "      <td>0.014425</td>\n",
       "      <td>1.574214e+11</td>\n",
       "      <td>9259630</td>\n",
       "      <td>0</td>\n",
       "    </tr>\n",
       "    <tr>\n",
       "      <th>9250162</th>\n",
       "      <td>322.009430</td>\n",
       "      <td>309.810788</td>\n",
       "      <td>322.632309</td>\n",
       "      <td>0.014425</td>\n",
       "      <td>1.046775e+11</td>\n",
       "      <td>9250162</td>\n",
       "      <td>0</td>\n",
       "    </tr>\n",
       "    <tr>\n",
       "      <th>9260998</th>\n",
       "      <td>322.009601</td>\n",
       "      <td>309.811119</td>\n",
       "      <td>322.631906</td>\n",
       "      <td>0.014425</td>\n",
       "      <td>2.321285e+11</td>\n",
       "      <td>9260998</td>\n",
       "      <td>0</td>\n",
       "    </tr>\n",
       "    <tr>\n",
       "      <th>2811704</th>\n",
       "      <td>322.009450</td>\n",
       "      <td>309.810705</td>\n",
       "      <td>322.632315</td>\n",
       "      <td>0.014425</td>\n",
       "      <td>8.408014e+10</td>\n",
       "      <td>2811704</td>\n",
       "      <td>0</td>\n",
       "    </tr>\n",
       "    <tr>\n",
       "      <th>9271767</th>\n",
       "      <td>322.009645</td>\n",
       "      <td>309.811248</td>\n",
       "      <td>322.631751</td>\n",
       "      <td>0.014425</td>\n",
       "      <td>1.998988e+11</td>\n",
       "      <td>9271767</td>\n",
       "      <td>0</td>\n",
       "    </tr>\n",
       "    <tr>\n",
       "      <th>9281990</th>\n",
       "      <td>322.009586</td>\n",
       "      <td>309.810732</td>\n",
       "      <td>322.632156</td>\n",
       "      <td>0.014425</td>\n",
       "      <td>5.925849e+10</td>\n",
       "      <td>9281990</td>\n",
       "      <td>0</td>\n",
       "    </tr>\n",
       "    <tr>\n",
       "      <th>9244151</th>\n",
       "      <td>322.009667</td>\n",
       "      <td>309.811233</td>\n",
       "      <td>322.631812</td>\n",
       "      <td>0.014425</td>\n",
       "      <td>2.182970e+11</td>\n",
       "      <td>9244151</td>\n",
       "      <td>0</td>\n",
       "    </tr>\n",
       "    <tr>\n",
       "      <th>9264615</th>\n",
       "      <td>322.009544</td>\n",
       "      <td>309.811122</td>\n",
       "      <td>322.631965</td>\n",
       "      <td>0.014425</td>\n",
       "      <td>1.973549e+11</td>\n",
       "      <td>9264615</td>\n",
       "      <td>0</td>\n",
       "    </tr>\n",
       "    <tr>\n",
       "      <th>9199676</th>\n",
       "      <td>322.009363</td>\n",
       "      <td>309.810712</td>\n",
       "      <td>322.632430</td>\n",
       "      <td>0.014425</td>\n",
       "      <td>7.770107e+10</td>\n",
       "      <td>9199676</td>\n",
       "      <td>0</td>\n",
       "    </tr>\n",
       "    <tr>\n",
       "      <th>9200658</th>\n",
       "      <td>322.009260</td>\n",
       "      <td>309.810766</td>\n",
       "      <td>322.632403</td>\n",
       "      <td>0.014425</td>\n",
       "      <td>7.965864e+10</td>\n",
       "      <td>9200658</td>\n",
       "      <td>0</td>\n",
       "    </tr>\n",
       "    <tr>\n",
       "      <th>9267089</th>\n",
       "      <td>322.009705</td>\n",
       "      <td>309.811071</td>\n",
       "      <td>322.631987</td>\n",
       "      <td>0.014425</td>\n",
       "      <td>1.609430e+11</td>\n",
       "      <td>9267089</td>\n",
       "      <td>0</td>\n",
       "    </tr>\n",
       "    <tr>\n",
       "      <th>9271198</th>\n",
       "      <td>322.016401</td>\n",
       "      <td>309.812867</td>\n",
       "      <td>322.596879</td>\n",
       "      <td>0.014425</td>\n",
       "      <td>1.770910e+07</td>\n",
       "      <td>9271198</td>\n",
       "      <td>0</td>\n",
       "    </tr>\n",
       "  </tbody>\n",
       "</table>\n",
       "</div>"
      ],
      "text/plain": [
       "                  x           y           z    masses      ndensity  \\\n",
       "9223718  322.010513  309.812653  322.631378  0.014425  1.353638e+11   \n",
       "9253816  322.009506  309.811180  322.631386  0.014425  1.220591e+11   \n",
       "9274219  322.009398  309.810999  322.631432  0.014425  1.588622e+11   \n",
       "9271744  322.009423  309.810935  322.631433  0.014425  1.492974e+11   \n",
       "9276564  322.009539  309.810893  322.632299  0.014425  1.528862e+11   \n",
       "9259630  322.009654  309.811145  322.631733  0.014425  1.574214e+11   \n",
       "9250162  322.009430  309.810788  322.632309  0.014425  1.046775e+11   \n",
       "9260998  322.009601  309.811119  322.631906  0.014425  2.321285e+11   \n",
       "2811704  322.009450  309.810705  322.632315  0.014425  8.408014e+10   \n",
       "9271767  322.009645  309.811248  322.631751  0.014425  1.998988e+11   \n",
       "9281990  322.009586  309.810732  322.632156  0.014425  5.925849e+10   \n",
       "9244151  322.009667  309.811233  322.631812  0.014425  2.182970e+11   \n",
       "9264615  322.009544  309.811122  322.631965  0.014425  1.973549e+11   \n",
       "9199676  322.009363  309.810712  322.632430  0.014425  7.770107e+10   \n",
       "9200658  322.009260  309.810766  322.632403  0.014425  7.965864e+10   \n",
       "9267089  322.009705  309.811071  322.631987  0.014425  1.609430e+11   \n",
       "9271198  322.016401  309.812867  322.596879  0.014425  1.770910e+07   \n",
       "\n",
       "         particleIDs  sink_value  \n",
       "9223718      9223718           0  \n",
       "9253816      9253816           0  \n",
       "9274219      9274219           0  \n",
       "9271744      9271744           0  \n",
       "9276564      9276564           0  \n",
       "9259630      9259630           0  \n",
       "9250162      9250162           0  \n",
       "9260998      9260998           0  \n",
       "2811704      2811704           0  \n",
       "9271767      9271767           0  \n",
       "9281990      9281990           0  \n",
       "9244151      9244151           0  \n",
       "9264615      9264615           0  \n",
       "9199676      9199676           0  \n",
       "9200658      9200658           0  \n",
       "9267089      9267089           0  \n",
       "9271198      9271198           0  "
      ]
     },
     "execution_count": 19,
     "metadata": {},
     "output_type": "execute_result"
    }
   ],
   "source": [
    "lost = df1[-df1.particleIDs.isin(df2.particleIDs)]\n",
    "lost"
   ]
  },
  {
   "cell_type": "code",
   "execution_count": 20,
   "metadata": {
    "collapsed": false
   },
   "outputs": [],
   "source": [
    "hires = snap1.gas[snap1.gas.ndensity > 1e10]"
   ]
  },
  {
   "cell_type": "code",
   "execution_count": 21,
   "metadata": {
    "collapsed": false
   },
   "outputs": [
    {
     "data": {
      "text/plain": [
       "255604.52678470343"
      ]
     },
     "execution_count": 21,
     "metadata": {},
     "output_type": "execute_result"
    }
   ],
   "source": [
    "df1.masses.sum()"
   ]
  },
  {
   "cell_type": "code",
   "execution_count": 22,
   "metadata": {
    "collapsed": false
   },
   "outputs": [
    {
     "data": {
      "text/plain": [
       "255619.70144816375"
      ]
     },
     "execution_count": 22,
     "metadata": {},
     "output_type": "execute_result"
    }
   ],
   "source": [
    "df2.masses.sum()"
   ]
  },
  {
   "cell_type": "code",
   "execution_count": 23,
   "metadata": {
    "collapsed": false
   },
   "outputs": [
    {
     "data": {
      "text/plain": [
       "0.2452179456515133"
      ]
     },
     "execution_count": 23,
     "metadata": {},
     "output_type": "execute_result"
    }
   ],
   "source": [
    "lost.masses.sum()"
   ]
  },
  {
   "cell_type": "code",
   "execution_count": 24,
   "metadata": {
    "collapsed": false
   },
   "outputs": [
    {
     "data": {
      "text/plain": [
       "-15.174663460318698"
      ]
     },
     "execution_count": 24,
     "metadata": {},
     "output_type": "execute_result"
    }
   ],
   "source": [
    "df1.masses.sum() - df2.masses.sum()"
   ]
  },
  {
   "cell_type": "code",
   "execution_count": 25,
   "metadata": {
    "collapsed": false
   },
   "outputs": [
    {
     "data": {
      "text/plain": [
       "255604.57005845982"
      ]
     },
     "execution_count": 25,
     "metadata": {},
     "output_type": "execute_result"
    }
   ],
   "source": [
    "snap0.gas.masses.sum()"
   ]
  },
  {
   "cell_type": "code",
   "execution_count": 26,
   "metadata": {
    "collapsed": false
   },
   "outputs": [
    {
     "data": {
      "text/plain": [
       "255619.70144816372"
      ]
     },
     "execution_count": 26,
     "metadata": {},
     "output_type": "execute_result"
    }
   ],
   "source": [
    "snap3.gas.masses.sum()"
   ]
  },
  {
   "cell_type": "code",
   "execution_count": 27,
   "metadata": {
    "collapsed": false
   },
   "outputs": [
    {
     "data": {
      "text/plain": [
       "0.04327375639695674"
      ]
     },
     "execution_count": 27,
     "metadata": {},
     "output_type": "execute_result"
    }
   ],
   "source": [
    "snap0.gas.masses.sum() - snap1.gas.masses.sum()"
   ]
  },
  {
   "cell_type": "code",
   "execution_count": 28,
   "metadata": {
    "collapsed": false
   },
   "outputs": [
    {
     "data": {
      "text/plain": [
       "-15.13138970392174"
      ]
     },
     "execution_count": 28,
     "metadata": {},
     "output_type": "execute_result"
    }
   ],
   "source": [
    "snap0.gas.masses.sum() - snap2.gas.masses.sum()"
   ]
  },
  {
   "cell_type": "code",
   "execution_count": 29,
   "metadata": {
    "collapsed": false
   },
   "outputs": [
    {
     "data": {
      "text/plain": [
       "-15.131389703892637"
      ]
     },
     "execution_count": 29,
     "metadata": {},
     "output_type": "execute_result"
    }
   ],
   "source": [
    "snap0.gas.masses.sum() - snap3.gas.masses.sum()"
   ]
  },
  {
   "cell_type": "code",
   "execution_count": 30,
   "metadata": {
    "collapsed": false
   },
   "outputs": [
    {
     "data": {
      "text/plain": [
       "2.9103830456733704e-11"
      ]
     },
     "execution_count": 30,
     "metadata": {},
     "output_type": "execute_result"
    }
   ],
   "source": [
    "snap2.gas.masses.sum() - snap3.gas.masses.sum()"
   ]
  },
  {
   "cell_type": "code",
   "execution_count": 31,
   "metadata": {
    "collapsed": false
   },
   "outputs": [
    {
     "data": {
      "text/plain": [
       "1492707   -15.318909\n",
       "1501569    -0.014425\n",
       "2812378     0.000000\n",
       "9267047    -0.086548\n",
       "Name: masses, dtype: float64"
      ]
     },
     "execution_count": 31,
     "metadata": {},
     "output_type": "execute_result"
    }
   ],
   "source": [
    "sinks1.masses - sinks2.masses"
   ]
  },
  {
   "cell_type": "code",
   "execution_count": 32,
   "metadata": {
    "collapsed": false
   },
   "outputs": [
    {
     "data": {
      "text/html": [
       "<div>\n",
       "<table border=\"1\" class=\"dataframe\">\n",
       "  <thead>\n",
       "    <tr style=\"text-align: right;\">\n",
       "      <th></th>\n",
       "      <th>x</th>\n",
       "      <th>y</th>\n",
       "      <th>z</th>\n",
       "      <th>masses</th>\n",
       "      <th>ndensity</th>\n",
       "      <th>particleIDs</th>\n",
       "      <th>sink_value</th>\n",
       "    </tr>\n",
       "  </thead>\n",
       "  <tbody>\n",
       "    <tr>\n",
       "      <th>9223718</th>\n",
       "      <td>322.010513</td>\n",
       "      <td>309.812653</td>\n",
       "      <td>322.631378</td>\n",
       "      <td>0.014425</td>\n",
       "      <td>1.353638e+11</td>\n",
       "      <td>9223718</td>\n",
       "      <td>0</td>\n",
       "    </tr>\n",
       "    <tr>\n",
       "      <th>9253816</th>\n",
       "      <td>322.009506</td>\n",
       "      <td>309.811180</td>\n",
       "      <td>322.631386</td>\n",
       "      <td>0.014425</td>\n",
       "      <td>1.220591e+11</td>\n",
       "      <td>9253816</td>\n",
       "      <td>0</td>\n",
       "    </tr>\n",
       "    <tr>\n",
       "      <th>9274219</th>\n",
       "      <td>322.009398</td>\n",
       "      <td>309.810999</td>\n",
       "      <td>322.631432</td>\n",
       "      <td>0.014425</td>\n",
       "      <td>1.588622e+11</td>\n",
       "      <td>9274219</td>\n",
       "      <td>0</td>\n",
       "    </tr>\n",
       "    <tr>\n",
       "      <th>9271744</th>\n",
       "      <td>322.009423</td>\n",
       "      <td>309.810935</td>\n",
       "      <td>322.631433</td>\n",
       "      <td>0.014425</td>\n",
       "      <td>1.492974e+11</td>\n",
       "      <td>9271744</td>\n",
       "      <td>0</td>\n",
       "    </tr>\n",
       "    <tr>\n",
       "      <th>9276564</th>\n",
       "      <td>322.009539</td>\n",
       "      <td>309.810893</td>\n",
       "      <td>322.632299</td>\n",
       "      <td>0.014425</td>\n",
       "      <td>1.528862e+11</td>\n",
       "      <td>9276564</td>\n",
       "      <td>0</td>\n",
       "    </tr>\n",
       "    <tr>\n",
       "      <th>9259630</th>\n",
       "      <td>322.009654</td>\n",
       "      <td>309.811145</td>\n",
       "      <td>322.631733</td>\n",
       "      <td>0.014425</td>\n",
       "      <td>1.574214e+11</td>\n",
       "      <td>9259630</td>\n",
       "      <td>0</td>\n",
       "    </tr>\n",
       "    <tr>\n",
       "      <th>9250162</th>\n",
       "      <td>322.009430</td>\n",
       "      <td>309.810788</td>\n",
       "      <td>322.632309</td>\n",
       "      <td>0.014425</td>\n",
       "      <td>1.046775e+11</td>\n",
       "      <td>9250162</td>\n",
       "      <td>0</td>\n",
       "    </tr>\n",
       "    <tr>\n",
       "      <th>9260998</th>\n",
       "      <td>322.009601</td>\n",
       "      <td>309.811119</td>\n",
       "      <td>322.631906</td>\n",
       "      <td>0.014425</td>\n",
       "      <td>2.321285e+11</td>\n",
       "      <td>9260998</td>\n",
       "      <td>0</td>\n",
       "    </tr>\n",
       "    <tr>\n",
       "      <th>2811704</th>\n",
       "      <td>322.009450</td>\n",
       "      <td>309.810705</td>\n",
       "      <td>322.632315</td>\n",
       "      <td>0.014425</td>\n",
       "      <td>8.408014e+10</td>\n",
       "      <td>2811704</td>\n",
       "      <td>0</td>\n",
       "    </tr>\n",
       "    <tr>\n",
       "      <th>9271767</th>\n",
       "      <td>322.009645</td>\n",
       "      <td>309.811248</td>\n",
       "      <td>322.631751</td>\n",
       "      <td>0.014425</td>\n",
       "      <td>1.998988e+11</td>\n",
       "      <td>9271767</td>\n",
       "      <td>0</td>\n",
       "    </tr>\n",
       "    <tr>\n",
       "      <th>9281990</th>\n",
       "      <td>322.009586</td>\n",
       "      <td>309.810732</td>\n",
       "      <td>322.632156</td>\n",
       "      <td>0.014425</td>\n",
       "      <td>5.925849e+10</td>\n",
       "      <td>9281990</td>\n",
       "      <td>0</td>\n",
       "    </tr>\n",
       "    <tr>\n",
       "      <th>9244151</th>\n",
       "      <td>322.009667</td>\n",
       "      <td>309.811233</td>\n",
       "      <td>322.631812</td>\n",
       "      <td>0.014425</td>\n",
       "      <td>2.182970e+11</td>\n",
       "      <td>9244151</td>\n",
       "      <td>0</td>\n",
       "    </tr>\n",
       "    <tr>\n",
       "      <th>9264615</th>\n",
       "      <td>322.009544</td>\n",
       "      <td>309.811122</td>\n",
       "      <td>322.631965</td>\n",
       "      <td>0.014425</td>\n",
       "      <td>1.973549e+11</td>\n",
       "      <td>9264615</td>\n",
       "      <td>0</td>\n",
       "    </tr>\n",
       "    <tr>\n",
       "      <th>9199676</th>\n",
       "      <td>322.009363</td>\n",
       "      <td>309.810712</td>\n",
       "      <td>322.632430</td>\n",
       "      <td>0.014425</td>\n",
       "      <td>7.770107e+10</td>\n",
       "      <td>9199676</td>\n",
       "      <td>0</td>\n",
       "    </tr>\n",
       "    <tr>\n",
       "      <th>9200658</th>\n",
       "      <td>322.009260</td>\n",
       "      <td>309.810766</td>\n",
       "      <td>322.632403</td>\n",
       "      <td>0.014425</td>\n",
       "      <td>7.965864e+10</td>\n",
       "      <td>9200658</td>\n",
       "      <td>0</td>\n",
       "    </tr>\n",
       "    <tr>\n",
       "      <th>9267089</th>\n",
       "      <td>322.009705</td>\n",
       "      <td>309.811071</td>\n",
       "      <td>322.631987</td>\n",
       "      <td>0.014425</td>\n",
       "      <td>1.609430e+11</td>\n",
       "      <td>9267089</td>\n",
       "      <td>0</td>\n",
       "    </tr>\n",
       "    <tr>\n",
       "      <th>9271198</th>\n",
       "      <td>322.016401</td>\n",
       "      <td>309.812867</td>\n",
       "      <td>322.596879</td>\n",
       "      <td>0.014425</td>\n",
       "      <td>1.770910e+07</td>\n",
       "      <td>9271198</td>\n",
       "      <td>0</td>\n",
       "    </tr>\n",
       "  </tbody>\n",
       "</table>\n",
       "</div>"
      ],
      "text/plain": [
       "                  x           y           z    masses      ndensity  \\\n",
       "9223718  322.010513  309.812653  322.631378  0.014425  1.353638e+11   \n",
       "9253816  322.009506  309.811180  322.631386  0.014425  1.220591e+11   \n",
       "9274219  322.009398  309.810999  322.631432  0.014425  1.588622e+11   \n",
       "9271744  322.009423  309.810935  322.631433  0.014425  1.492974e+11   \n",
       "9276564  322.009539  309.810893  322.632299  0.014425  1.528862e+11   \n",
       "9259630  322.009654  309.811145  322.631733  0.014425  1.574214e+11   \n",
       "9250162  322.009430  309.810788  322.632309  0.014425  1.046775e+11   \n",
       "9260998  322.009601  309.811119  322.631906  0.014425  2.321285e+11   \n",
       "2811704  322.009450  309.810705  322.632315  0.014425  8.408014e+10   \n",
       "9271767  322.009645  309.811248  322.631751  0.014425  1.998988e+11   \n",
       "9281990  322.009586  309.810732  322.632156  0.014425  5.925849e+10   \n",
       "9244151  322.009667  309.811233  322.631812  0.014425  2.182970e+11   \n",
       "9264615  322.009544  309.811122  322.631965  0.014425  1.973549e+11   \n",
       "9199676  322.009363  309.810712  322.632430  0.014425  7.770107e+10   \n",
       "9200658  322.009260  309.810766  322.632403  0.014425  7.965864e+10   \n",
       "9267089  322.009705  309.811071  322.631987  0.014425  1.609430e+11   \n",
       "9271198  322.016401  309.812867  322.596879  0.014425  1.770910e+07   \n",
       "\n",
       "         particleIDs  sink_value  \n",
       "9223718      9223718           0  \n",
       "9253816      9253816           0  \n",
       "9274219      9274219           0  \n",
       "9271744      9271744           0  \n",
       "9276564      9276564           0  \n",
       "9259630      9259630           0  \n",
       "9250162      9250162           0  \n",
       "9260998      9260998           0  \n",
       "2811704      2811704           0  \n",
       "9271767      9271767           0  \n",
       "9281990      9281990           0  \n",
       "9244151      9244151           0  \n",
       "9264615      9264615           0  \n",
       "9199676      9199676           0  \n",
       "9200658      9200658           0  \n",
       "9267089      9267089           0  \n",
       "9271198      9271198           0  "
      ]
     },
     "execution_count": 32,
     "metadata": {},
     "output_type": "execute_result"
    }
   ],
   "source": [
    "lost"
   ]
  },
  {
   "cell_type": "code",
   "execution_count": 2,
   "metadata": {
    "collapsed": false
   },
   "outputs": [
    {
     "data": {
      "text/plain": [
       "<class 'pandas.io.pytables.HDFStore'>\n",
       "File path: /home/jhummel/data/stampede/mass_history.hdf5\n",
       "/XR_sfr_1e-0               frame        (shape->[1,14])\n",
       "/XR_sfr_1e-1               frame        (shape->[1,14])\n",
       "/XR_sfr_1e-2               frame        (shape->[1,14])\n",
       "/XR_sfr_1e-3               frame        (shape->[1,14])\n",
       "/cr00                      frame        (shape->[1,14])\n",
       "/cr01                      frame        (shape->[1,14])\n",
       "/cr02                      frame        (shape->[1,14])\n",
       "/cr03                      frame        (shape->[1,14])\n",
       "/cr04                      frame        (shape->[1,14])\n",
       "/cr05                      frame        (shape->[1,14])\n",
       "/halo1_cr00                frame        (shape->[1,14])\n",
       "/halo1_cr01                frame        (shape->[1,14])\n",
       "/halo1_cr02                frame        (shape->[1,14])\n",
       "/halo1_cr03                frame        (shape->[1,14])\n",
       "/halo2_restart             frame        (shape->[1,18])\n",
       "/halo2_restart0            frame        (shape->[1,18])\n",
       "/halo2_restart1            frame        (shape->[1,18])\n",
       "/halo2_vanilla             frame        (shape->[1,18])\n",
       "/no_bkg                    frame        (shape->[1,14])\n",
       "/restart                   frame        (shape->[1,18])\n",
       "/restart2                  frame        (shape->[1,18])\n",
       "/vanilla                   frame        (shape->[1,14])\n",
       "/xr_sfr_J1                 frame        (shape->[1,14])\n",
       "/xr_tau2_J0                frame        (shape->[1,14])\n",
       "/xr_tau2_J1                frame        (shape->[1,14])\n",
       "/xr_tau2_J2                frame        (shape->[1,14])\n",
       "/xr_tau2_J3                frame        (shape->[1,14])\n",
       "/xr_tau_J0                 frame        (shape->[1,14])\n",
       "/xr_tau_J1                 frame        (shape->[1,14])\n",
       "/xr_tau_J2                 frame        (shape->[1,14])\n",
       "/xr_tau_J3                 frame        (shape->[1,14])"
      ]
     },
     "execution_count": 2,
     "metadata": {},
     "output_type": "execute_result"
    }
   ],
   "source": [
    "store = pd.HDFStore(os.getenv(\"HOME\")+'/data/stampede/mass_history.hdf5')\n",
    "store#2 = pd.HDFStore(os.getenv(\"HOME\")+'/data/stampede/mass_history.hdf5')"
   ]
  },
  {
   "cell_type": "code",
   "execution_count": 3,
   "metadata": {
    "collapsed": false
   },
   "outputs": [],
   "source": [
    "h2v = store['halo2_vanilla']\n",
    "h2r = store['halo2_restart']\n",
    "restart = store['restart']\n",
    "restart2 = store['restart2']\n",
    "#store2['restart'] = restart"
   ]
  },
  {
   "cell_type": "code",
   "execution_count": 4,
   "metadata": {
    "collapsed": true
   },
   "outputs": [],
   "source": [
    "store.close()"
   ]
  },
  {
   "cell_type": "code",
   "execution_count": 5,
   "metadata": {
    "collapsed": false
   },
   "outputs": [
    {
     "data": {
      "text/plain": [
       "(152494.52048823467, 152491.08743699553)"
      ]
     },
     "execution_count": 5,
     "metadata": {},
     "output_type": "execute_result"
    }
   ],
   "source": [
    "h2v['1kpc'].max(), h2v['1kpc'].min()"
   ]
  },
  {
   "cell_type": "code",
   "execution_count": 6,
   "metadata": {
    "collapsed": false
   },
   "outputs": [
    {
     "name": "stdout",
     "output_type": "stream",
     "text": [
      "<class 'pandas.core.frame.DataFrame'>\n",
      "Int64Index: 1071 entries, 147 to 1217\n",
      "Data columns (total 18 columns):\n",
      "z         1071 non-null object\n",
      "time      1071 non-null object\n",
      "10cc      1071 non-null object\n",
      "100cc     1071 non-null object\n",
      "1e4cc     1071 non-null object\n",
      "1e6cc     1071 non-null object\n",
      "1e8cc     1071 non-null object\n",
      "1e9cc     1071 non-null object\n",
      "1e10cc    1071 non-null object\n",
      "1e11cc    1071 non-null object\n",
      "1kpc      1071 non-null object\n",
      "100pc     1071 non-null object\n",
      "10pc      1071 non-null object\n",
      "1pc       1071 non-null object\n",
      ".1pc      1071 non-null object\n",
      "1e4AU     1071 non-null object\n",
      "5e3AU     1071 non-null object\n",
      "1e3AU     1071 non-null object\n",
      "dtypes: object(18)\n",
      "memory usage: 159.0+ KB\n"
     ]
    }
   ],
   "source": [
    "h2v.info()"
   ]
  },
  {
   "cell_type": "code",
   "execution_count": 7,
   "metadata": {
    "collapsed": false
   },
   "outputs": [
    {
     "data": {
      "image/png": "[encoded data removed]",
      "text/plain": [
       "<matplotlib.figure.Figure at 0x7f53edbaf950>"
      ]
     },
     "metadata": {},
     "output_type": "display_data"
    }
   ],
   "source": [
    "fig, ax = plt.subplots()\n",
    "for i,sim in enumerate([h2v, h2r, restart, restart2]):\n",
    "    ax.plot(sim.time, sim['1kpc']-h2v['1kpc'].max()+i, lw=3)\n",
    "plt.xlim(-500,3000)\n",
    "plt.ylabel('Total Mass vs t=0 Mass [Msun]')\n",
    "plt.xlabel('Time since sink formation [yr]')\n",
    "fig.savefig('figures/refinement/deltaM.png', bbox_inches='tight')"
   ]
  },
  {
   "cell_type": "code",
   "execution_count": 8,
   "metadata": {
    "collapsed": false
   },
   "outputs": [
    {
     "ename": "NameError",
     "evalue": "name 'h2r2' is not defined",
     "output_type": "error",
     "traceback": [
      "\u001b[1;31m---------------------------------------------------------------------------\u001b[0m",
      "\u001b[1;31mNameError\u001b[0m                                 Traceback (most recent call last)",
      "\u001b[1;32m<ipython-input-8-b31659d4071d>\u001b[0m in \u001b[0;36m<module>\u001b[1;34m()\u001b[0m\n\u001b[1;32m----> 1\u001b[1;33m \u001b[0mh2r2\u001b[0m\u001b[1;33m[\u001b[0m\u001b[1;33m[\u001b[0m\u001b[1;34m'time'\u001b[0m\u001b[1;33m,\u001b[0m\u001b[1;34m'1kpc'\u001b[0m\u001b[1;33m]\u001b[0m\u001b[1;33m]\u001b[0m\u001b[1;33m\u001b[0m\u001b[0m\n\u001b[0m",
      "\u001b[1;31mNameError\u001b[0m: name 'h2r2' is not defined"
     ]
    }
   ],
   "source": [
    "h2r2[['time','1kpc']]"
   ]
  },
  {
   "cell_type": "code",
   "execution_count": 1,
   "metadata": {
    "collapsed": false
   },
   "outputs": [
    {
     "ename": "NameError",
     "evalue": "name 'snap0' is not defined",
     "output_type": "error",
     "traceback": [
      "\u001b[1;31m---------------------------------------------------------------------------\u001b[0m",
      "\u001b[1;31mNameError\u001b[0m                                 Traceback (most recent call last)",
      "\u001b[1;32m<ipython-input-1-1717597237ab>\u001b[0m in \u001b[0;36m<module>\u001b[1;34m()\u001b[0m\n\u001b[1;32m----> 1\u001b[1;33m \u001b[0msnap0\u001b[0m\u001b[1;33m.\u001b[0m\u001b[0mgas\u001b[0m\u001b[1;33m\u001b[0m\u001b[0m\n\u001b[0m",
      "\u001b[1;31mNameError\u001b[0m: name 'snap0' is not defined"
     ]
    }
   ],
   "source": [
    "snap0.gas"
   ]
  },
  {
   "cell_type": "code",
   "execution_count": null,
   "metadata": {
    "collapsed": true
   },
   "outputs": [],
   "source": []
  }
 ],
 "metadata": {
  "kernelspec": {
   "display_name": "Python 2",
   "language": "python",
   "name": "python2"
  },
  "language_info": {
   "codemirror_mode": {
    "name": "ipython",
    "version": 2
   },
   "file_extension": ".py",
   "mimetype": "text/x-python",
   "name": "python",
   "nbconvert_exporter": "python",
   "pygments_lexer": "ipython2",
   "version": "2.7.10"
  }
 },
 "nbformat": 4,
 "nbformat_minor": 0
}
