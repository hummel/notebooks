{
 "cells": [
  {
   "cell_type": "code",
   "execution_count": 1,
   "metadata": {
    "collapsed": true
   },
   "outputs": [],
   "source": [
    "%matplotlib inline\n",
    "import os\n",
    "import re\n",
    "import numpy as np\n",
    "import pandas as pd\n",
    "import matplotlib as mpl\n",
    "from matplotlib import pyplot as plt\n",
    "#import seaborn as sns\n",
    "import pyGadget\n",
    "mpl.rc('font', size=20.)\n",
    "mpl.rc('font', family='serif')\n",
    "mpl.rc('text', usetex=True)"
   ]
  },
  {
   "cell_type": "code",
   "execution_count": 2,
   "metadata": {
    "collapsed": false
   },
   "outputs": [],
   "source": [
    "sim = pyGadget.sim.Simulation('stampede/halo2_vanilla',length='pc', coordinates='physical')"
   ]
  },
  {
   "cell_type": "code",
   "execution_count": 3,
   "metadata": {
    "collapsed": false
   },
   "outputs": [],
   "source": [
    "snap0 = sim.load_snapshot(147)\n",
    "snap1 = sim.load_snapshot(775)\n",
    "snap2 = sim.load_snapshot(776)\n",
    "snap3 = sim.load_snapshot(1217)"
   ]
  },
  {
   "cell_type": "code",
   "execution_count": 4,
   "metadata": {
    "collapsed": false
   },
   "outputs": [
    {
     "data": {
      "text/plain": [
       "(21.726278584247147, 21.726276987480055)"
      ]
     },
     "execution_count": 4,
     "metadata": {},
     "output_type": "execute_result"
    }
   ],
   "source": [
    "snap1.header.Redshift, snap2.header.Redshift"
   ]
  },
  {
   "cell_type": "code",
   "execution_count": 5,
   "metadata": {
    "collapsed": false
   },
   "outputs": [],
   "source": [
    "for snap in [snap1,snap2, snap0, snap3]:\n",
    "    snap.gas.load_coords()\n",
    "    snap.gas.load_masses()\n",
    "    snap.gas.load_number_density()\n",
    "    snap.gas.load_PIDs()\n",
    "    snap.gas.load_sinks()\n",
    "del snap"
   ]
  },
  {
   "cell_type": "code",
   "execution_count": 6,
   "metadata": {
    "collapsed": false
   },
   "outputs": [
    {
     "data": {
      "text/html": [
       "<div>\n",
       "<table border=\"1\" class=\"dataframe\">\n",
       "  <thead>\n",
       "    <tr style=\"text-align: right;\">\n",
       "      <th></th>\n",
       "      <th>x</th>\n",
       "      <th>y</th>\n",
       "      <th>z</th>\n",
       "      <th>masses</th>\n",
       "      <th>ndensity</th>\n",
       "      <th>particleIDs</th>\n",
       "      <th>sink_value</th>\n",
       "    </tr>\n",
       "  </thead>\n",
       "  <tbody>\n",
       "    <tr>\n",
       "      <th>count</th>\n",
       "      <td>11036289.000000</td>\n",
       "      <td>11036289.000000</td>\n",
       "      <td>11036289.000000</td>\n",
       "      <td>11036289.000000</td>\n",
       "      <td>1.103629e+07</td>\n",
       "      <td>11036289.000000</td>\n",
       "      <td>1.103629e+07</td>\n",
       "    </tr>\n",
       "    <tr>\n",
       "      <th>mean</th>\n",
       "      <td>313.028996</td>\n",
       "      <td>333.130269</td>\n",
       "      <td>335.952626</td>\n",
       "      <td>0.023160</td>\n",
       "      <td>3.477808e+06</td>\n",
       "      <td>5654781.240131</td>\n",
       "      <td>7.248813e-07</td>\n",
       "    </tr>\n",
       "    <tr>\n",
       "      <th>std</th>\n",
       "      <td>86.636074</td>\n",
       "      <td>89.888507</td>\n",
       "      <td>71.879068</td>\n",
       "      <td>0.070155</td>\n",
       "      <td>6.768935e+08</td>\n",
       "      <td>3192665.207022</td>\n",
       "      <td>1.204061e-03</td>\n",
       "    </tr>\n",
       "    <tr>\n",
       "      <th>min</th>\n",
       "      <td>0.022989</td>\n",
       "      <td>0.003951</td>\n",
       "      <td>0.000831</td>\n",
       "      <td>0.014425</td>\n",
       "      <td>3.685785e-04</td>\n",
       "      <td>1.000000</td>\n",
       "      <td>0.000000e+00</td>\n",
       "    </tr>\n",
       "    <tr>\n",
       "      <th>25%</th>\n",
       "      <td>250.293640</td>\n",
       "      <td>292.346892</td>\n",
       "      <td>292.788662</td>\n",
       "      <td>0.014425</td>\n",
       "      <td>1.442936e-01</td>\n",
       "      <td>2898898.000000</td>\n",
       "      <td>0.000000e+00</td>\n",
       "    </tr>\n",
       "    <tr>\n",
       "      <th>50%</th>\n",
       "      <td>320.928052</td>\n",
       "      <td>325.532976</td>\n",
       "      <td>330.396144</td>\n",
       "      <td>0.014425</td>\n",
       "      <td>4.535246e-01</td>\n",
       "      <td>5657970.000000</td>\n",
       "      <td>0.000000e+00</td>\n",
       "    </tr>\n",
       "    <tr>\n",
       "      <th>75%</th>\n",
       "      <td>368.196255</td>\n",
       "      <td>402.027551</td>\n",
       "      <td>380.997354</td>\n",
       "      <td>0.014425</td>\n",
       "      <td>1.499352e+00</td>\n",
       "      <td>8417042.000000</td>\n",
       "      <td>0.000000e+00</td>\n",
       "    </tr>\n",
       "    <tr>\n",
       "      <th>max</th>\n",
       "      <td>628.587717</td>\n",
       "      <td>628.595466</td>\n",
       "      <td>628.591192</td>\n",
       "      <td>19.271246</td>\n",
       "      <td>1.000000e+12</td>\n",
       "      <td>11178616.000000</td>\n",
       "      <td>2.000000e+00</td>\n",
       "    </tr>\n",
       "  </tbody>\n",
       "</table>\n",
       "</div>"
      ],
      "text/plain": [
       "                     x                y                z           masses  \\\n",
       "count  11036289.000000  11036289.000000  11036289.000000  11036289.000000   \n",
       "mean        313.028996       333.130269       335.952626         0.023160   \n",
       "std          86.636074        89.888507        71.879068         0.070155   \n",
       "min           0.022989         0.003951         0.000831         0.014425   \n",
       "25%         250.293640       292.346892       292.788662         0.014425   \n",
       "50%         320.928052       325.532976       330.396144         0.014425   \n",
       "75%         368.196255       402.027551       380.997354         0.014425   \n",
       "max         628.587717       628.595466       628.591192        19.271246   \n",
       "\n",
       "           ndensity      particleIDs    sink_value  \n",
       "count  1.103629e+07  11036289.000000  1.103629e+07  \n",
       "mean   3.477808e+06   5654781.240131  7.248813e-07  \n",
       "std    6.768935e+08   3192665.207022  1.204061e-03  \n",
       "min    3.685785e-04         1.000000  0.000000e+00  \n",
       "25%    1.442936e-01   2898898.000000  0.000000e+00  \n",
       "50%    4.535246e-01   5657970.000000  0.000000e+00  \n",
       "75%    1.499352e+00   8417042.000000  0.000000e+00  \n",
       "max    1.000000e+12  11178616.000000  2.000000e+00  "
      ]
     },
     "execution_count": 6,
     "metadata": {},
     "output_type": "execute_result"
    }
   ],
   "source": [
    "snap1.gas.describe()"
   ]
  },
  {
   "cell_type": "code",
   "execution_count": 7,
   "metadata": {
    "collapsed": false
   },
   "outputs": [
    {
     "data": {
      "text/html": [
       "<div>\n",
       "<table border=\"1\" class=\"dataframe\">\n",
       "  <thead>\n",
       "    <tr style=\"text-align: right;\">\n",
       "      <th></th>\n",
       "      <th>x</th>\n",
       "      <th>y</th>\n",
       "      <th>z</th>\n",
       "      <th>masses</th>\n",
       "      <th>ndensity</th>\n",
       "      <th>particleIDs</th>\n",
       "      <th>sink_value</th>\n",
       "    </tr>\n",
       "  </thead>\n",
       "  <tbody>\n",
       "    <tr>\n",
       "      <th>count</th>\n",
       "      <td>11036285.000000</td>\n",
       "      <td>11036285.000000</td>\n",
       "      <td>11036285.000000</td>\n",
       "      <td>11036285.000000</td>\n",
       "      <td>1.103628e+07</td>\n",
       "      <td>11036285.000000</td>\n",
       "      <td>1.103628e+07</td>\n",
       "    </tr>\n",
       "    <tr>\n",
       "      <th>mean</th>\n",
       "      <td>313.029093</td>\n",
       "      <td>333.130258</td>\n",
       "      <td>335.952738</td>\n",
       "      <td>0.023160</td>\n",
       "      <td>3.357147e+06</td>\n",
       "      <td>5654779.939432</td>\n",
       "      <td>5.436612e-07</td>\n",
       "    </tr>\n",
       "    <tr>\n",
       "      <th>std</th>\n",
       "      <td>86.636064</td>\n",
       "      <td>89.888509</td>\n",
       "      <td>71.879058</td>\n",
       "      <td>0.070148</td>\n",
       "      <td>6.022182e+08</td>\n",
       "      <td>3192665.054537</td>\n",
       "      <td>1.042747e-03</td>\n",
       "    </tr>\n",
       "    <tr>\n",
       "      <th>min</th>\n",
       "      <td>0.023026</td>\n",
       "      <td>0.003950</td>\n",
       "      <td>0.000844</td>\n",
       "      <td>0.014425</td>\n",
       "      <td>3.685783e-04</td>\n",
       "      <td>1.000000</td>\n",
       "      <td>0.000000e+00</td>\n",
       "    </tr>\n",
       "    <tr>\n",
       "      <th>25%</th>\n",
       "      <td>250.293786</td>\n",
       "      <td>292.346863</td>\n",
       "      <td>292.788768</td>\n",
       "      <td>0.014425</td>\n",
       "      <td>1.442932e-01</td>\n",
       "      <td>2898897.000000</td>\n",
       "      <td>0.000000e+00</td>\n",
       "    </tr>\n",
       "    <tr>\n",
       "      <th>50%</th>\n",
       "      <td>320.928126</td>\n",
       "      <td>325.532978</td>\n",
       "      <td>330.396265</td>\n",
       "      <td>0.014425</td>\n",
       "      <td>4.535248e-01</td>\n",
       "      <td>5657968.000000</td>\n",
       "      <td>0.000000e+00</td>\n",
       "    </tr>\n",
       "    <tr>\n",
       "      <th>75%</th>\n",
       "      <td>368.196357</td>\n",
       "      <td>402.027539</td>\n",
       "      <td>380.997501</td>\n",
       "      <td>0.014425</td>\n",
       "      <td>1.499351e+00</td>\n",
       "      <td>8417039.000000</td>\n",
       "      <td>0.000000e+00</td>\n",
       "    </tr>\n",
       "    <tr>\n",
       "      <th>max</th>\n",
       "      <td>628.587776</td>\n",
       "      <td>628.595509</td>\n",
       "      <td>628.591398</td>\n",
       "      <td>19.271246</td>\n",
       "      <td>1.000000e+12</td>\n",
       "      <td>11178616.000000</td>\n",
       "      <td>2.000000e+00</td>\n",
       "    </tr>\n",
       "  </tbody>\n",
       "</table>\n",
       "</div>"
      ],
      "text/plain": [
       "                     x                y                z           masses  \\\n",
       "count  11036285.000000  11036285.000000  11036285.000000  11036285.000000   \n",
       "mean        313.029093       333.130258       335.952738         0.023160   \n",
       "std          86.636064        89.888509        71.879058         0.070148   \n",
       "min           0.023026         0.003950         0.000844         0.014425   \n",
       "25%         250.293786       292.346863       292.788768         0.014425   \n",
       "50%         320.928126       325.532978       330.396265         0.014425   \n",
       "75%         368.196357       402.027539       380.997501         0.014425   \n",
       "max         628.587776       628.595509       628.591398        19.271246   \n",
       "\n",
       "           ndensity      particleIDs    sink_value  \n",
       "count  1.103628e+07  11036285.000000  1.103628e+07  \n",
       "mean   3.357147e+06   5654779.939432  5.436612e-07  \n",
       "std    6.022182e+08   3192665.054537  1.042747e-03  \n",
       "min    3.685783e-04         1.000000  0.000000e+00  \n",
       "25%    1.442932e-01   2898897.000000  0.000000e+00  \n",
       "50%    4.535248e-01   5657968.000000  0.000000e+00  \n",
       "75%    1.499351e+00   8417039.000000  0.000000e+00  \n",
       "max    1.000000e+12  11178616.000000  2.000000e+00  "
      ]
     },
     "execution_count": 7,
     "metadata": {},
     "output_type": "execute_result"
    }
   ],
   "source": [
    "snap2.gas.describe()"
   ]
  },
  {
   "cell_type": "code",
   "execution_count": 8,
   "metadata": {
    "collapsed": false
   },
   "outputs": [],
   "source": [
    "gb1 = snap1.gas.groupby(snap1.gas.masses)"
   ]
  },
  {
   "cell_type": "code",
   "execution_count": 9,
   "metadata": {
    "collapsed": false
   },
   "outputs": [
    {
     "data": {
      "text/html": [
       "<div>\n",
       "<table border=\"1\" class=\"dataframe\">\n",
       "  <thead>\n",
       "    <tr style=\"text-align: right;\">\n",
       "      <th></th>\n",
       "      <th>x</th>\n",
       "      <th>y</th>\n",
       "      <th>z</th>\n",
       "      <th>ndensity</th>\n",
       "      <th>particleIDs</th>\n",
       "      <th>sink_value</th>\n",
       "    </tr>\n",
       "    <tr>\n",
       "      <th>masses</th>\n",
       "      <th></th>\n",
       "      <th></th>\n",
       "      <th></th>\n",
       "      <th></th>\n",
       "      <th></th>\n",
       "      <th></th>\n",
       "    </tr>\n",
       "  </thead>\n",
       "  <tbody>\n",
       "    <tr>\n",
       "      <th>0.014425</th>\n",
       "      <td>313.279232</td>\n",
       "      <td>333.107926</td>\n",
       "      <td>336.120870</td>\n",
       "      <td>3.253238e+06</td>\n",
       "      <td>5863259</td>\n",
       "      <td>0</td>\n",
       "    </tr>\n",
       "    <tr>\n",
       "      <th>0.115397</th>\n",
       "      <td>310.481677</td>\n",
       "      <td>331.927819</td>\n",
       "      <td>332.415079</td>\n",
       "      <td>1.333362e-01</td>\n",
       "      <td>1064472</td>\n",
       "      <td>0</td>\n",
       "    </tr>\n",
       "    <tr>\n",
       "      <th>0.923173</th>\n",
       "      <td>286.591525</td>\n",
       "      <td>345.056438</td>\n",
       "      <td>330.384900</td>\n",
       "      <td>1.599400e-01</td>\n",
       "      <td>137380</td>\n",
       "      <td>0</td>\n",
       "    </tr>\n",
       "    <tr>\n",
       "      <th>3.389777</th>\n",
       "      <td>322.027692</td>\n",
       "      <td>309.805256</td>\n",
       "      <td>322.656192</td>\n",
       "      <td>1.000000e+12</td>\n",
       "      <td>9249527</td>\n",
       "      <td>2</td>\n",
       "    </tr>\n",
       "    <tr>\n",
       "      <th>5.466918</th>\n",
       "      <td>322.032732</td>\n",
       "      <td>309.813554</td>\n",
       "      <td>322.646752</td>\n",
       "      <td>1.000000e+12</td>\n",
       "      <td>1486403</td>\n",
       "      <td>2</td>\n",
       "    </tr>\n",
       "    <tr>\n",
       "      <th>19.083726</th>\n",
       "      <td>322.027545</td>\n",
       "      <td>309.804928</td>\n",
       "      <td>322.656848</td>\n",
       "      <td>1.000000e+12</td>\n",
       "      <td>9306198</td>\n",
       "      <td>2</td>\n",
       "    </tr>\n",
       "    <tr>\n",
       "      <th>19.271246</th>\n",
       "      <td>322.033298</td>\n",
       "      <td>309.814346</td>\n",
       "      <td>322.646729</td>\n",
       "      <td>1.000000e+12</td>\n",
       "      <td>9247410</td>\n",
       "      <td>2</td>\n",
       "    </tr>\n",
       "  </tbody>\n",
       "</table>\n",
       "</div>"
      ],
      "text/plain": [
       "                    x           y           z      ndensity  particleIDs  \\\n",
       "masses                                                                     \n",
       "0.014425   313.279232  333.107926  336.120870  3.253238e+06      5863259   \n",
       "0.115397   310.481677  331.927819  332.415079  1.333362e-01      1064472   \n",
       "0.923173   286.591525  345.056438  330.384900  1.599400e-01       137380   \n",
       "3.389777   322.027692  309.805256  322.656192  1.000000e+12      9249527   \n",
       "5.466918   322.032732  309.813554  322.646752  1.000000e+12      1486403   \n",
       "19.083726  322.027545  309.804928  322.656848  1.000000e+12      9306198   \n",
       "19.271246  322.033298  309.814346  322.646729  1.000000e+12      9247410   \n",
       "\n",
       "           sink_value  \n",
       "masses                 \n",
       "0.014425            0  \n",
       "0.115397            0  \n",
       "0.923173            0  \n",
       "3.389777            2  \n",
       "5.466918            2  \n",
       "19.083726           2  \n",
       "19.271246           2  "
      ]
     },
     "execution_count": 9,
     "metadata": {},
     "output_type": "execute_result"
    }
   ],
   "source": [
    "gb1.mean()"
   ]
  },
  {
   "cell_type": "code",
   "execution_count": 10,
   "metadata": {
    "collapsed": false
   },
   "outputs": [],
   "source": [
    "gb2 = snap2.gas.groupby(snap2.gas.masses)"
   ]
  },
  {
   "cell_type": "code",
   "execution_count": 11,
   "metadata": {
    "collapsed": false
   },
   "outputs": [
    {
     "data": {
      "text/html": [
       "<div>\n",
       "<table border=\"1\" class=\"dataframe\">\n",
       "  <thead>\n",
       "    <tr style=\"text-align: right;\">\n",
       "      <th></th>\n",
       "      <th>x</th>\n",
       "      <th>y</th>\n",
       "      <th>z</th>\n",
       "      <th>ndensity</th>\n",
       "      <th>particleIDs</th>\n",
       "      <th>sink_value</th>\n",
       "    </tr>\n",
       "    <tr>\n",
       "      <th>masses</th>\n",
       "      <th></th>\n",
       "      <th></th>\n",
       "      <th></th>\n",
       "      <th></th>\n",
       "      <th></th>\n",
       "      <th></th>\n",
       "    </tr>\n",
       "  </thead>\n",
       "  <tbody>\n",
       "    <tr>\n",
       "      <th>0.014425</th>\n",
       "      <td>313.279329</td>\n",
       "      <td>333.107913</td>\n",
       "      <td>336.120981</td>\n",
       "      <td>3.221857e+06</td>\n",
       "      <td>5863258</td>\n",
       "      <td>0</td>\n",
       "    </tr>\n",
       "    <tr>\n",
       "      <th>0.115397</th>\n",
       "      <td>310.481782</td>\n",
       "      <td>331.927798</td>\n",
       "      <td>332.415183</td>\n",
       "      <td>1.333361e-01</td>\n",
       "      <td>1064472</td>\n",
       "      <td>0</td>\n",
       "    </tr>\n",
       "    <tr>\n",
       "      <th>0.923173</th>\n",
       "      <td>286.591630</td>\n",
       "      <td>345.056419</td>\n",
       "      <td>330.385001</td>\n",
       "      <td>1.599398e-01</td>\n",
       "      <td>137380</td>\n",
       "      <td>0</td>\n",
       "    </tr>\n",
       "    <tr>\n",
       "      <th>5.466918</th>\n",
       "      <td>322.032804</td>\n",
       "      <td>309.813510</td>\n",
       "      <td>322.646934</td>\n",
       "      <td>1.000000e+12</td>\n",
       "      <td>1486403</td>\n",
       "      <td>2</td>\n",
       "    </tr>\n",
       "    <tr>\n",
       "      <th>19.083726</th>\n",
       "      <td>322.027665</td>\n",
       "      <td>309.804959</td>\n",
       "      <td>322.657004</td>\n",
       "      <td>1.000000e+12</td>\n",
       "      <td>9306198</td>\n",
       "      <td>2</td>\n",
       "    </tr>\n",
       "    <tr>\n",
       "      <th>19.271246</th>\n",
       "      <td>322.033355</td>\n",
       "      <td>309.814321</td>\n",
       "      <td>322.646748</td>\n",
       "      <td>1.000000e+12</td>\n",
       "      <td>9247410</td>\n",
       "      <td>2</td>\n",
       "    </tr>\n",
       "  </tbody>\n",
       "</table>\n",
       "</div>"
      ],
      "text/plain": [
       "                    x           y           z      ndensity  particleIDs  \\\n",
       "masses                                                                     \n",
       "0.014425   313.279329  333.107913  336.120981  3.221857e+06      5863258   \n",
       "0.115397   310.481782  331.927798  332.415183  1.333361e-01      1064472   \n",
       "0.923173   286.591630  345.056419  330.385001  1.599398e-01       137380   \n",
       "5.466918   322.032804  309.813510  322.646934  1.000000e+12      1486403   \n",
       "19.083726  322.027665  309.804959  322.657004  1.000000e+12      9306198   \n",
       "19.271246  322.033355  309.814321  322.646748  1.000000e+12      9247410   \n",
       "\n",
       "           sink_value  \n",
       "masses                 \n",
       "0.014425            0  \n",
       "0.115397            0  \n",
       "0.923173            0  \n",
       "5.466918            2  \n",
       "19.083726           2  \n",
       "19.271246           2  "
      ]
     },
     "execution_count": 11,
     "metadata": {},
     "output_type": "execute_result"
    }
   ],
   "source": [
    "gb2.mean()"
   ]
  },
  {
   "cell_type": "code",
   "execution_count": 12,
   "metadata": {
    "collapsed": true
   },
   "outputs": [],
   "source": [
    "sinks1 = snap1.gas[snap1.gas.sink_value > 0]\n",
    "sinks2 = snap2.gas[snap2.gas.sink_value > 0]\n",
    "bigM1 = snap1.gas[snap1.gas.masses > 1]\n",
    "bigM2 = snap2.gas[snap2.gas.masses > 1]"
   ]
  },
  {
   "cell_type": "code",
   "execution_count": 13,
   "metadata": {
    "collapsed": false
   },
   "outputs": [
    {
     "data": {
      "text/html": [
       "<div>\n",
       "<table border=\"1\" class=\"dataframe\">\n",
       "  <thead>\n",
       "    <tr style=\"text-align: right;\">\n",
       "      <th></th>\n",
       "      <th>x</th>\n",
       "      <th>y</th>\n",
       "      <th>z</th>\n",
       "      <th>masses</th>\n",
       "      <th>ndensity</th>\n",
       "      <th>particleIDs</th>\n",
       "      <th>sink_value</th>\n",
       "    </tr>\n",
       "  </thead>\n",
       "  <tbody>\n",
       "    <tr>\n",
       "      <th>9249527</th>\n",
       "      <td>322.027692</td>\n",
       "      <td>309.805256</td>\n",
       "      <td>322.656192</td>\n",
       "      <td>3.389777</td>\n",
       "      <td>1.000000e+12</td>\n",
       "      <td>9249527</td>\n",
       "      <td>2</td>\n",
       "    </tr>\n",
       "    <tr>\n",
       "      <th>9306198</th>\n",
       "      <td>322.027545</td>\n",
       "      <td>309.804928</td>\n",
       "      <td>322.656848</td>\n",
       "      <td>19.083726</td>\n",
       "      <td>1.000000e+12</td>\n",
       "      <td>9306198</td>\n",
       "      <td>2</td>\n",
       "    </tr>\n",
       "    <tr>\n",
       "      <th>9247410</th>\n",
       "      <td>322.033298</td>\n",
       "      <td>309.814346</td>\n",
       "      <td>322.646729</td>\n",
       "      <td>19.271246</td>\n",
       "      <td>1.000000e+12</td>\n",
       "      <td>9247410</td>\n",
       "      <td>2</td>\n",
       "    </tr>\n",
       "    <tr>\n",
       "      <th>1486403</th>\n",
       "      <td>322.032732</td>\n",
       "      <td>309.813554</td>\n",
       "      <td>322.646752</td>\n",
       "      <td>5.466918</td>\n",
       "      <td>1.000000e+12</td>\n",
       "      <td>1486403</td>\n",
       "      <td>2</td>\n",
       "    </tr>\n",
       "  </tbody>\n",
       "</table>\n",
       "</div>"
      ],
      "text/plain": [
       "                  x           y           z     masses      ndensity  \\\n",
       "9249527  322.027692  309.805256  322.656192   3.389777  1.000000e+12   \n",
       "9306198  322.027545  309.804928  322.656848  19.083726  1.000000e+12   \n",
       "9247410  322.033298  309.814346  322.646729  19.271246  1.000000e+12   \n",
       "1486403  322.032732  309.813554  322.646752   5.466918  1.000000e+12   \n",
       "\n",
       "         particleIDs  sink_value  \n",
       "9249527      9249527           2  \n",
       "9306198      9306198           2  \n",
       "9247410      9247410           2  \n",
       "1486403      1486403           2  "
      ]
     },
     "execution_count": 13,
     "metadata": {},
     "output_type": "execute_result"
    }
   ],
   "source": [
    "sinks1"
   ]
  },
  {
   "cell_type": "code",
   "execution_count": 14,
   "metadata": {
    "collapsed": false
   },
   "outputs": [
    {
     "data": {
      "text/html": [
       "<div>\n",
       "<table border=\"1\" class=\"dataframe\">\n",
       "  <thead>\n",
       "    <tr style=\"text-align: right;\">\n",
       "      <th></th>\n",
       "      <th>x</th>\n",
       "      <th>y</th>\n",
       "      <th>z</th>\n",
       "      <th>masses</th>\n",
       "      <th>ndensity</th>\n",
       "      <th>particleIDs</th>\n",
       "      <th>sink_value</th>\n",
       "    </tr>\n",
       "  </thead>\n",
       "  <tbody>\n",
       "    <tr>\n",
       "      <th>9249527</th>\n",
       "      <td>322.027692</td>\n",
       "      <td>309.805256</td>\n",
       "      <td>322.656192</td>\n",
       "      <td>3.389777</td>\n",
       "      <td>1.000000e+12</td>\n",
       "      <td>9249527</td>\n",
       "      <td>2</td>\n",
       "    </tr>\n",
       "    <tr>\n",
       "      <th>9306198</th>\n",
       "      <td>322.027545</td>\n",
       "      <td>309.804928</td>\n",
       "      <td>322.656848</td>\n",
       "      <td>19.083726</td>\n",
       "      <td>1.000000e+12</td>\n",
       "      <td>9306198</td>\n",
       "      <td>2</td>\n",
       "    </tr>\n",
       "    <tr>\n",
       "      <th>9247410</th>\n",
       "      <td>322.033298</td>\n",
       "      <td>309.814346</td>\n",
       "      <td>322.646729</td>\n",
       "      <td>19.271246</td>\n",
       "      <td>1.000000e+12</td>\n",
       "      <td>9247410</td>\n",
       "      <td>2</td>\n",
       "    </tr>\n",
       "    <tr>\n",
       "      <th>1486403</th>\n",
       "      <td>322.032732</td>\n",
       "      <td>309.813554</td>\n",
       "      <td>322.646752</td>\n",
       "      <td>5.466918</td>\n",
       "      <td>1.000000e+12</td>\n",
       "      <td>1486403</td>\n",
       "      <td>2</td>\n",
       "    </tr>\n",
       "  </tbody>\n",
       "</table>\n",
       "</div>"
      ],
      "text/plain": [
       "                  x           y           z     masses      ndensity  \\\n",
       "9249527  322.027692  309.805256  322.656192   3.389777  1.000000e+12   \n",
       "9306198  322.027545  309.804928  322.656848  19.083726  1.000000e+12   \n",
       "9247410  322.033298  309.814346  322.646729  19.271246  1.000000e+12   \n",
       "1486403  322.032732  309.813554  322.646752   5.466918  1.000000e+12   \n",
       "\n",
       "         particleIDs  sink_value  \n",
       "9249527      9249527           2  \n",
       "9306198      9306198           2  \n",
       "9247410      9247410           2  \n",
       "1486403      1486403           2  "
      ]
     },
     "execution_count": 14,
     "metadata": {},
     "output_type": "execute_result"
    }
   ],
   "source": [
    "bigM1"
   ]
  },
  {
   "cell_type": "code",
   "execution_count": 15,
   "metadata": {
    "collapsed": false
   },
   "outputs": [
    {
     "data": {
      "text/html": [
       "<div>\n",
       "<table border=\"1\" class=\"dataframe\">\n",
       "  <thead>\n",
       "    <tr style=\"text-align: right;\">\n",
       "      <th></th>\n",
       "      <th>x</th>\n",
       "      <th>y</th>\n",
       "      <th>z</th>\n",
       "      <th>masses</th>\n",
       "      <th>ndensity</th>\n",
       "      <th>particleIDs</th>\n",
       "      <th>sink_value</th>\n",
       "    </tr>\n",
       "  </thead>\n",
       "  <tbody>\n",
       "    <tr>\n",
       "      <th>9306198</th>\n",
       "      <td>322.027665</td>\n",
       "      <td>309.804959</td>\n",
       "      <td>322.657004</td>\n",
       "      <td>19.083726</td>\n",
       "      <td>1.000000e+12</td>\n",
       "      <td>9306198</td>\n",
       "      <td>2</td>\n",
       "    </tr>\n",
       "    <tr>\n",
       "      <th>9247410</th>\n",
       "      <td>322.033355</td>\n",
       "      <td>309.814321</td>\n",
       "      <td>322.646748</td>\n",
       "      <td>19.271246</td>\n",
       "      <td>1.000000e+12</td>\n",
       "      <td>9247410</td>\n",
       "      <td>2</td>\n",
       "    </tr>\n",
       "    <tr>\n",
       "      <th>1486403</th>\n",
       "      <td>322.032804</td>\n",
       "      <td>309.813510</td>\n",
       "      <td>322.646934</td>\n",
       "      <td>5.466918</td>\n",
       "      <td>1.000000e+12</td>\n",
       "      <td>1486403</td>\n",
       "      <td>2</td>\n",
       "    </tr>\n",
       "  </tbody>\n",
       "</table>\n",
       "</div>"
      ],
      "text/plain": [
       "                  x           y           z     masses      ndensity  \\\n",
       "9306198  322.027665  309.804959  322.657004  19.083726  1.000000e+12   \n",
       "9247410  322.033355  309.814321  322.646748  19.271246  1.000000e+12   \n",
       "1486403  322.032804  309.813510  322.646934   5.466918  1.000000e+12   \n",
       "\n",
       "         particleIDs  sink_value  \n",
       "9306198      9306198           2  \n",
       "9247410      9247410           2  \n",
       "1486403      1486403           2  "
      ]
     },
     "execution_count": 15,
     "metadata": {},
     "output_type": "execute_result"
    }
   ],
   "source": [
    "sinks2"
   ]
  },
  {
   "cell_type": "code",
   "execution_count": 16,
   "metadata": {
    "collapsed": false
   },
   "outputs": [
    {
     "data": {
      "text/html": [
       "<div>\n",
       "<table border=\"1\" class=\"dataframe\">\n",
       "  <thead>\n",
       "    <tr style=\"text-align: right;\">\n",
       "      <th></th>\n",
       "      <th>x</th>\n",
       "      <th>y</th>\n",
       "      <th>z</th>\n",
       "      <th>masses</th>\n",
       "      <th>ndensity</th>\n",
       "      <th>particleIDs</th>\n",
       "      <th>sink_value</th>\n",
       "    </tr>\n",
       "  </thead>\n",
       "  <tbody>\n",
       "    <tr>\n",
       "      <th>9306198</th>\n",
       "      <td>322.027665</td>\n",
       "      <td>309.804959</td>\n",
       "      <td>322.657004</td>\n",
       "      <td>19.083726</td>\n",
       "      <td>1.000000e+12</td>\n",
       "      <td>9306198</td>\n",
       "      <td>2</td>\n",
       "    </tr>\n",
       "    <tr>\n",
       "      <th>9247410</th>\n",
       "      <td>322.033355</td>\n",
       "      <td>309.814321</td>\n",
       "      <td>322.646748</td>\n",
       "      <td>19.271246</td>\n",
       "      <td>1.000000e+12</td>\n",
       "      <td>9247410</td>\n",
       "      <td>2</td>\n",
       "    </tr>\n",
       "    <tr>\n",
       "      <th>1486403</th>\n",
       "      <td>322.032804</td>\n",
       "      <td>309.813510</td>\n",
       "      <td>322.646934</td>\n",
       "      <td>5.466918</td>\n",
       "      <td>1.000000e+12</td>\n",
       "      <td>1486403</td>\n",
       "      <td>2</td>\n",
       "    </tr>\n",
       "  </tbody>\n",
       "</table>\n",
       "</div>"
      ],
      "text/plain": [
       "                  x           y           z     masses      ndensity  \\\n",
       "9306198  322.027665  309.804959  322.657004  19.083726  1.000000e+12   \n",
       "9247410  322.033355  309.814321  322.646748  19.271246  1.000000e+12   \n",
       "1486403  322.032804  309.813510  322.646934   5.466918  1.000000e+12   \n",
       "\n",
       "         particleIDs  sink_value  \n",
       "9306198      9306198           2  \n",
       "9247410      9247410           2  \n",
       "1486403      1486403           2  "
      ]
     },
     "execution_count": 16,
     "metadata": {},
     "output_type": "execute_result"
    }
   ],
   "source": [
    "bigM2"
   ]
  },
  {
   "cell_type": "code",
   "execution_count": 17,
   "metadata": {
    "collapsed": false
   },
   "outputs": [
    {
     "data": {
      "text/html": [
       "<div>\n",
       "<table border=\"1\" class=\"dataframe\">\n",
       "  <thead>\n",
       "    <tr style=\"text-align: right;\">\n",
       "      <th></th>\n",
       "      <th>x</th>\n",
       "      <th>y</th>\n",
       "      <th>z</th>\n",
       "      <th>masses</th>\n",
       "      <th>ndensity</th>\n",
       "      <th>particleIDs</th>\n",
       "      <th>sink_value</th>\n",
       "    </tr>\n",
       "  </thead>\n",
       "  <tbody>\n",
       "    <tr>\n",
       "      <th>9249527</th>\n",
       "      <td>322.027692</td>\n",
       "      <td>309.805256</td>\n",
       "      <td>322.656192</td>\n",
       "      <td>3.389777</td>\n",
       "      <td>1.000000e+12</td>\n",
       "      <td>9249527</td>\n",
       "      <td>2</td>\n",
       "    </tr>\n",
       "  </tbody>\n",
       "</table>\n",
       "</div>"
      ],
      "text/plain": [
       "                  x           y           z    masses      ndensity  \\\n",
       "9249527  322.027692  309.805256  322.656192  3.389777  1.000000e+12   \n",
       "\n",
       "         particleIDs  sink_value  \n",
       "9249527      9249527           2  "
      ]
     },
     "execution_count": 17,
     "metadata": {},
     "output_type": "execute_result"
    }
   ],
   "source": [
    "sinks1[-sinks1.particleIDs.isin(sinks2.particleIDs)]"
   ]
  },
  {
   "cell_type": "code",
   "execution_count": 18,
   "metadata": {
    "collapsed": false
   },
   "outputs": [],
   "source": [
    "df1 = snap1.gas\n",
    "df2 = snap2.gas"
   ]
  },
  {
   "cell_type": "markdown",
   "metadata": {},
   "source": [
    "###These are the particles that disappear between snapshot 775 and snapshot 776:"
   ]
  },
  {
   "cell_type": "code",
   "execution_count": 19,
   "metadata": {
    "collapsed": false
   },
   "outputs": [
    {
     "data": {
      "text/html": [
       "<div>\n",
       "<table border=\"1\" class=\"dataframe\">\n",
       "  <thead>\n",
       "    <tr style=\"text-align: right;\">\n",
       "      <th></th>\n",
       "      <th>x</th>\n",
       "      <th>y</th>\n",
       "      <th>z</th>\n",
       "      <th>masses</th>\n",
       "      <th>ndensity</th>\n",
       "      <th>particleIDs</th>\n",
       "      <th>sink_value</th>\n",
       "    </tr>\n",
       "  </thead>\n",
       "  <tbody>\n",
       "    <tr>\n",
       "      <th>9251865</th>\n",
       "      <td>322.027924</td>\n",
       "      <td>309.805607</td>\n",
       "      <td>322.656130</td>\n",
       "      <td>0.014425</td>\n",
       "      <td>4.787180e+10</td>\n",
       "      <td>9251865</td>\n",
       "      <td>0</td>\n",
       "    </tr>\n",
       "    <tr>\n",
       "      <th>9203127</th>\n",
       "      <td>322.027919</td>\n",
       "      <td>309.805598</td>\n",
       "      <td>322.656138</td>\n",
       "      <td>0.014425</td>\n",
       "      <td>4.313094e+10</td>\n",
       "      <td>9203127</td>\n",
       "      <td>0</td>\n",
       "    </tr>\n",
       "    <tr>\n",
       "      <th>9249527</th>\n",
       "      <td>322.027692</td>\n",
       "      <td>309.805256</td>\n",
       "      <td>322.656192</td>\n",
       "      <td>3.389777</td>\n",
       "      <td>1.000000e+12</td>\n",
       "      <td>9249527</td>\n",
       "      <td>2</td>\n",
       "    </tr>\n",
       "    <tr>\n",
       "      <th>9269488</th>\n",
       "      <td>322.027824</td>\n",
       "      <td>309.805701</td>\n",
       "      <td>322.656186</td>\n",
       "      <td>0.014425</td>\n",
       "      <td>2.776685e+10</td>\n",
       "      <td>9269488</td>\n",
       "      <td>0</td>\n",
       "    </tr>\n",
       "  </tbody>\n",
       "</table>\n",
       "</div>"
      ],
      "text/plain": [
       "                  x           y           z    masses      ndensity  \\\n",
       "9251865  322.027924  309.805607  322.656130  0.014425  4.787180e+10   \n",
       "9203127  322.027919  309.805598  322.656138  0.014425  4.313094e+10   \n",
       "9249527  322.027692  309.805256  322.656192  3.389777  1.000000e+12   \n",
       "9269488  322.027824  309.805701  322.656186  0.014425  2.776685e+10   \n",
       "\n",
       "         particleIDs  sink_value  \n",
       "9251865      9251865           0  \n",
       "9203127      9203127           0  \n",
       "9249527      9249527           2  \n",
       "9269488      9269488           0  "
      ]
     },
     "execution_count": 19,
     "metadata": {},
     "output_type": "execute_result"
    }
   ],
   "source": [
    "lost = df1[-df1.particleIDs.isin(df2.particleIDs)]\n",
    "lost"
   ]
  },
  {
   "cell_type": "code",
   "execution_count": 20,
   "metadata": {
    "collapsed": false
   },
   "outputs": [],
   "source": [
    "hires = snap1.gas[snap1.gas.ndensity > 1e10]"
   ]
  },
  {
   "cell_type": "code",
   "execution_count": 21,
   "metadata": {
    "collapsed": false
   },
   "outputs": [
    {
     "data": {
      "text/plain": [
       "255604.5700584583"
      ]
     },
     "execution_count": 21,
     "metadata": {},
     "output_type": "execute_result"
    }
   ],
   "source": [
    "df1.masses.sum()"
   ]
  },
  {
   "cell_type": "code",
   "execution_count": 22,
   "metadata": {
    "collapsed": false
   },
   "outputs": [
    {
     "data": {
      "text/plain": [
       "255601.1370072192"
      ]
     },
     "execution_count": 22,
     "metadata": {},
     "output_type": "execute_result"
    }
   ],
   "source": [
    "df2.masses.sum()"
   ]
  },
  {
   "cell_type": "code",
   "execution_count": 23,
   "metadata": {
    "collapsed": false
   },
   "outputs": [
    {
     "data": {
      "text/plain": [
       "3.4330512391211876"
      ]
     },
     "execution_count": 23,
     "metadata": {},
     "output_type": "execute_result"
    }
   ],
   "source": [
    "lost.masses.sum()"
   ]
  },
  {
   "cell_type": "code",
   "execution_count": 24,
   "metadata": {
    "collapsed": false
   },
   "outputs": [
    {
     "data": {
      "text/plain": [
       "3.4330512391170487"
      ]
     },
     "execution_count": 24,
     "metadata": {},
     "output_type": "execute_result"
    }
   ],
   "source": [
    "df1.masses.sum() - df2.masses.sum()"
   ]
  },
  {
   "cell_type": "code",
   "execution_count": 25,
   "metadata": {
    "collapsed": false
   },
   "outputs": [
    {
     "data": {
      "text/plain": [
       "255604.57005874146"
      ]
     },
     "execution_count": 25,
     "metadata": {},
     "output_type": "execute_result"
    }
   ],
   "source": [
    "snap0.gas.masses.sum()"
   ]
  },
  {
   "cell_type": "code",
   "execution_count": 26,
   "metadata": {
    "collapsed": false
   },
   "outputs": [
    {
     "data": {
      "text/plain": [
       "255601.13700721858"
      ]
     },
     "execution_count": 26,
     "metadata": {},
     "output_type": "execute_result"
    }
   ],
   "source": [
    "snap3.gas.masses.sum()"
   ]
  },
  {
   "cell_type": "code",
   "execution_count": 27,
   "metadata": {
    "collapsed": false
   },
   "outputs": [
    {
     "data": {
      "text/plain": [
       "2.831511665135622e-07"
      ]
     },
     "execution_count": 27,
     "metadata": {},
     "output_type": "execute_result"
    }
   ],
   "source": [
    "snap0.gas.masses.sum() - snap1.gas.masses.sum()"
   ]
  },
  {
   "cell_type": "code",
   "execution_count": 28,
   "metadata": {
    "collapsed": false
   },
   "outputs": [
    {
     "data": {
      "text/plain": [
       "3.433051522268215"
      ]
     },
     "execution_count": 28,
     "metadata": {},
     "output_type": "execute_result"
    }
   ],
   "source": [
    "snap0.gas.masses.sum() - snap2.gas.masses.sum()"
   ]
  },
  {
   "cell_type": "code",
   "execution_count": 29,
   "metadata": {
    "collapsed": false
   },
   "outputs": [
    {
     "data": {
      "text/plain": [
       "3.4330515228793956"
      ]
     },
     "execution_count": 29,
     "metadata": {},
     "output_type": "execute_result"
    }
   ],
   "source": [
    "snap0.gas.masses.sum() - snap3.gas.masses.sum()"
   ]
  },
  {
   "cell_type": "code",
   "execution_count": 31,
   "metadata": {
    "collapsed": false
   },
   "outputs": [
    {
     "data": {
      "text/plain": [
       "6.111804395914078e-10"
      ]
     },
     "execution_count": 31,
     "metadata": {},
     "output_type": "execute_result"
    }
   ],
   "source": [
    "snap2.gas.masses.sum() - snap3.gas.masses.sum()"
   ]
  },
  {
   "cell_type": "code",
   "execution_count": 33,
   "metadata": {
    "collapsed": false
   },
   "outputs": [
    {
     "data": {
      "text/plain": [
       "1486403     0\n",
       "9247410     0\n",
       "9249527   NaN\n",
       "9306198     0\n",
       "Name: masses, dtype: float64"
      ]
     },
     "execution_count": 33,
     "metadata": {},
     "output_type": "execute_result"
    }
   ],
   "source": [
    "sinks1.masses - sinks2.masses"
   ]
  },
  {
   "cell_type": "code",
   "execution_count": 38,
   "metadata": {
    "collapsed": false
   },
   "outputs": [
    {
     "data": {
      "text/plain": [
       "3.3897774840062147"
      ]
     },
     "execution_count": 38,
     "metadata": {},
     "output_type": "execute_result"
    }
   ],
   "source": [
    "sinks1.ix[9249527].masses"
   ]
  },
  {
   "cell_type": "code",
   "execution_count": 42,
   "metadata": {
    "collapsed": false
   },
   "outputs": [
    {
     "data": {
      "text/plain": [
       "2.9999999999999956"
      ]
     },
     "execution_count": 42,
     "metadata": {},
     "output_type": "execute_result"
    }
   ],
   "source": [
    "(lost.masses.sum() - sinks1.ix[9249527].masses)/lost.masses.min()"
   ]
  },
  {
   "cell_type": "code",
   "execution_count": 43,
   "metadata": {
    "collapsed": false
   },
   "outputs": [
    {
     "data": {
      "text/html": [
       "<div>\n",
       "<table border=\"1\" class=\"dataframe\">\n",
       "  <thead>\n",
       "    <tr style=\"text-align: right;\">\n",
       "      <th></th>\n",
       "      <th>x</th>\n",
       "      <th>y</th>\n",
       "      <th>z</th>\n",
       "      <th>masses</th>\n",
       "      <th>ndensity</th>\n",
       "      <th>particleIDs</th>\n",
       "      <th>sink_value</th>\n",
       "    </tr>\n",
       "  </thead>\n",
       "  <tbody>\n",
       "    <tr>\n",
       "      <th>9251865</th>\n",
       "      <td>322.027924</td>\n",
       "      <td>309.805607</td>\n",
       "      <td>322.656130</td>\n",
       "      <td>0.014425</td>\n",
       "      <td>4.787180e+10</td>\n",
       "      <td>9251865</td>\n",
       "      <td>0</td>\n",
       "    </tr>\n",
       "    <tr>\n",
       "      <th>9203127</th>\n",
       "      <td>322.027919</td>\n",
       "      <td>309.805598</td>\n",
       "      <td>322.656138</td>\n",
       "      <td>0.014425</td>\n",
       "      <td>4.313094e+10</td>\n",
       "      <td>9203127</td>\n",
       "      <td>0</td>\n",
       "    </tr>\n",
       "    <tr>\n",
       "      <th>9249527</th>\n",
       "      <td>322.027692</td>\n",
       "      <td>309.805256</td>\n",
       "      <td>322.656192</td>\n",
       "      <td>3.389777</td>\n",
       "      <td>1.000000e+12</td>\n",
       "      <td>9249527</td>\n",
       "      <td>2</td>\n",
       "    </tr>\n",
       "    <tr>\n",
       "      <th>9269488</th>\n",
       "      <td>322.027824</td>\n",
       "      <td>309.805701</td>\n",
       "      <td>322.656186</td>\n",
       "      <td>0.014425</td>\n",
       "      <td>2.776685e+10</td>\n",
       "      <td>9269488</td>\n",
       "      <td>0</td>\n",
       "    </tr>\n",
       "  </tbody>\n",
       "</table>\n",
       "</div>"
      ],
      "text/plain": [
       "                  x           y           z    masses      ndensity  \\\n",
       "9251865  322.027924  309.805607  322.656130  0.014425  4.787180e+10   \n",
       "9203127  322.027919  309.805598  322.656138  0.014425  4.313094e+10   \n",
       "9249527  322.027692  309.805256  322.656192  3.389777  1.000000e+12   \n",
       "9269488  322.027824  309.805701  322.656186  0.014425  2.776685e+10   \n",
       "\n",
       "         particleIDs  sink_value  \n",
       "9251865      9251865           0  \n",
       "9203127      9203127           0  \n",
       "9249527      9249527           2  \n",
       "9269488      9269488           0  "
      ]
     },
     "execution_count": 43,
     "metadata": {},
     "output_type": "execute_result"
    }
   ],
   "source": [
    "lost"
   ]
  },
  {
   "cell_type": "code",
   "execution_count": 44,
   "metadata": {
    "collapsed": false
   },
   "outputs": [
    {
     "data": {
      "text/plain": [
       "0.044001924745090286"
      ]
     },
     "execution_count": 44,
     "metadata": {},
     "output_type": "execute_result"
    }
   ],
   "source": [
    "snap1.header.ScaleFactor"
   ]
  }
 ],
 "metadata": {
  "kernelspec": {
   "display_name": "Python 2",
   "language": "python",
   "name": "python2"
  },
  "language_info": {
   "codemirror_mode": {
    "name": "ipython",
    "version": 2
   },
   "file_extension": ".py",
   "mimetype": "text/x-python",
   "name": "python",
   "nbconvert_exporter": "python",
   "pygments_lexer": "ipython2",
   "version": "2.7.10"
  }
 },
 "nbformat": 4,
 "nbformat_minor": 0
}
